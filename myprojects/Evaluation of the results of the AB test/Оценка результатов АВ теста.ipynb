{
 "cells": [
  {
   "cell_type": "markdown",
   "metadata": {},
   "source": [
    "# Проверка гипотез по увеличению выручки в интернет-магазине - оценить результаты А/В теста."
   ]
  },
  {
   "cell_type": "markdown",
   "metadata": {},
   "source": [
    "<a id=\"begin\"></a>"
   ]
  },
  {
   "cell_type": "markdown",
   "metadata": {},
   "source": [
    "**Оглавление** \n",
    "\n",
    "1. [Описание проекта](#project)\n",
    "2. [Описание данных](#data)\n",
    "3. [Предобработка данных](#start)\n",
    "4. Приоритизация гипотез\n",
    "    * [применение фреймворка ICE для приоритизации гипотез;](#ice)\n",
    "    * [применение фреймворка RICE для приоритизации гипотез;](#rice)\n",
    "    * [результат приоритизации гипотез.](#result)\n",
    "5. [Анализ A/B-теста](#abtest)\n",
    "    * [построение графика кумулятивной выручки по группам;](#graffic_1)\n",
    "    * [построение графика кумулятивного среднего чека по группам;](#graffic_2)\n",
    "    * [построение графика относительного изменения кумулятивного среднего чека\n",
    "    группы В к группе А;](#graffic_3)\n",
    "    * [построение графика кумулятивной конверсии по группам;](#graffic_4)\n",
    "    * [построение графика относительного различия кумулятивных конверсий;](#graffic_5)\n",
    "    * [построение точечного графика количества заказов по пользователям;](#graffic_6)\n",
    "    * [расчёт 95-го и 99-го перцентилей количества заказов на пользователя;](#percentile_1)\n",
    "    * [построение точечного графика стоимостей заказов;](#graffic_7)\n",
    "    * [расчёт 95-го и 99-го перцентилей стоимости заказов;](#percentile_2)\n",
    "    * [расчёт статистической значимости различий в конверсии между группами по «сырым» данным;](#pvalue_1)\n",
    "    * [расчёт статистической значимости различий в среднем чеке заказа между группами по «сырым» данным;](#pvalue_2)\n",
    "    * [расчёт статистической значимости различий в конверсии между группами по «очищенным» данным;](#pvalue_3)\n",
    "    * [расчёт статистической значимости различий в среднем чеке заказа между группами по «очищенным» данным.](#pvalue_4)\n",
    "6. [Решение по результатам анализа теста.](#decision)\n",
    "    "
   ]
  },
  {
   "cell_type": "markdown",
   "metadata": {},
   "source": [
    "<a id=\"project\"></a>"
   ]
  },
  {
   "cell_type": "markdown",
   "metadata": {},
   "source": [
    "## Описание проекта\n",
    "[(к оглавлению)](#begin)\n",
    "\n",
    "**Вместе с отделом маркетинга мы подготовили список гипотез для увеличения выручки крупного интернет-магазина**\n",
    "\n",
    "*Задачи работы:*\n",
    "- приоритизировать гипотезы;\n",
    "- запустить A/B-тест;\n",
    "- проанализировать результаты."
   ]
  },
  {
   "cell_type": "markdown",
   "metadata": {},
   "source": [
    "<a id=\"data\"></a>"
   ]
  },
  {
   "cell_type": "markdown",
   "metadata": {},
   "source": [
    "## Описание данных \n",
    "[(к оглавлению)](#begin)\n",
    "\n",
    "**Данные для первой части**\n",
    "\n",
    "*Файл /hypothesis.csv*\n",
    "- Hypothesis — краткое описание гипотезы;\n",
    "- Reach — охват пользователей по 10-балльной шкале;\n",
    "- Impact — влияние на пользователей по 10-балльной шкале;\n",
    "- Confidence — уверенность в гипотезе по 10-балльной шкале;\n",
    "- Efforts — затраты ресурсов на проверку гипотезы по 10-балльной шкале. Чем больше значение Efforts, тем дороже проверка гипотезы.\n",
    "\n",
    "**Данные для второй части**\n",
    "\n",
    "*Файл /orders.csv*\n",
    "\n",
    "- transactionId — идентификатор заказа;\n",
    "- visitorId — идентификатор пользователя, совершившего заказ;\n",
    "- date — дата, когда был совершён заказ;\n",
    "- revenue — выручка заказа;\n",
    "- group — группа A/B-теста, в которую попал заказ.\n",
    "\n",
    "*Файл /visitors.csv*\n",
    "- date — дата;\n",
    "- group — группа A/B-теста;\n",
    "- visitors — количество пользователей в указанную дату в указанной группе A/B-теста."
   ]
  },
  {
   "cell_type": "markdown",
   "metadata": {},
   "source": [
    "<a id=\"start\"></a>"
   ]
  },
  {
   "cell_type": "markdown",
   "metadata": {},
   "source": [
    " ## Предобработка данных \n",
    " [(к оглавлению)](#begin)"
   ]
  },
  {
   "cell_type": "code",
   "execution_count": 1,
   "metadata": {},
   "outputs": [],
   "source": [
    "import pandas as pd\n",
    "import datetime as dt\n",
    "import numpy as np\n",
    "import matplotlib.pyplot as plt\n",
    "import scipy.stats as stats"
   ]
  },
  {
   "cell_type": "code",
   "execution_count": 2,
   "metadata": {},
   "outputs": [],
   "source": [
    "hypothesis = pd.read_csv('/hypothesis.csv')\n",
    "orders = pd.read_csv('/orders.csv')\n",
    "visitors = pd.read_csv('/visitors.csv')"
   ]
  },
  {
   "cell_type": "code",
   "execution_count": 3,
   "metadata": {},
   "outputs": [],
   "source": [
    "#Функция для предобработки\n",
    "def inspect(df):\n",
    "    display(df.head()) \n",
    "    df.info() \n",
    "    print ('Количество дубликатов -', df.duplicated().sum())\n",
    "    numeric_columns=df.describe().columns\n",
    "    display(df.describe())\n",
    "    display()\n",
    "    df.columns = [x.lower().replace(' ', '_') for x in df.columns.values]\n",
    "    for column_name in df.columns:\n",
    "        if column_name not in numeric_columns:\n",
    "            if 'session' in column_name or 'dt' in column_name:\n",
    "                df[column_name] = pd.to_datetime(df[column_name])\n",
    "            else:\n",
    "                display(df[column_name].value_counts())\n",
    "                print(50*'*')\n",
    "    return df.head(10)"
   ]
  },
  {
   "cell_type": "code",
   "execution_count": 4,
   "metadata": {},
   "outputs": [],
   "source": [
    "pd.set_option('max_colwidth', 400)"
   ]
  },
  {
   "cell_type": "code",
   "execution_count": 5,
   "metadata": {
    "scrolled": false
   },
   "outputs": [
    {
     "data": {
      "text/html": [
       "<div>\n",
       "<style scoped>\n",
       "    .dataframe tbody tr th:only-of-type {\n",
       "        vertical-align: middle;\n",
       "    }\n",
       "\n",
       "    .dataframe tbody tr th {\n",
       "        vertical-align: top;\n",
       "    }\n",
       "\n",
       "    .dataframe thead th {\n",
       "        text-align: right;\n",
       "    }\n",
       "</style>\n",
       "<table border=\"1\" class=\"dataframe\">\n",
       "  <thead>\n",
       "    <tr style=\"text-align: right;\">\n",
       "      <th></th>\n",
       "      <th>Hypothesis</th>\n",
       "      <th>Reach</th>\n",
       "      <th>Impact</th>\n",
       "      <th>Confidence</th>\n",
       "      <th>Efforts</th>\n",
       "    </tr>\n",
       "  </thead>\n",
       "  <tbody>\n",
       "    <tr>\n",
       "      <th>0</th>\n",
       "      <td>Добавить два новых канала привлечения трафика, что позволит привлекать на 30% больше пользователей</td>\n",
       "      <td>3</td>\n",
       "      <td>10</td>\n",
       "      <td>8</td>\n",
       "      <td>6</td>\n",
       "    </tr>\n",
       "    <tr>\n",
       "      <th>1</th>\n",
       "      <td>Запустить собственную службу доставки, что сократит срок доставки заказов</td>\n",
       "      <td>2</td>\n",
       "      <td>5</td>\n",
       "      <td>4</td>\n",
       "      <td>10</td>\n",
       "    </tr>\n",
       "    <tr>\n",
       "      <th>2</th>\n",
       "      <td>Добавить блоки рекомендаций товаров на сайт интернет магазина, чтобы повысить конверсию и средний чек заказа</td>\n",
       "      <td>8</td>\n",
       "      <td>3</td>\n",
       "      <td>7</td>\n",
       "      <td>3</td>\n",
       "    </tr>\n",
       "    <tr>\n",
       "      <th>3</th>\n",
       "      <td>Изменить структура категорий, что увеличит конверсию, т.к. пользователи быстрее найдут нужный товар</td>\n",
       "      <td>8</td>\n",
       "      <td>3</td>\n",
       "      <td>3</td>\n",
       "      <td>8</td>\n",
       "    </tr>\n",
       "    <tr>\n",
       "      <th>4</th>\n",
       "      <td>Изменить цвет фона главной страницы, чтобы увеличить вовлеченность пользователей</td>\n",
       "      <td>3</td>\n",
       "      <td>1</td>\n",
       "      <td>1</td>\n",
       "      <td>1</td>\n",
       "    </tr>\n",
       "  </tbody>\n",
       "</table>\n",
       "</div>"
      ],
      "text/plain": [
       "                                                                                                     Hypothesis  \\\n",
       "0            Добавить два новых канала привлечения трафика, что позволит привлекать на 30% больше пользователей   \n",
       "1                                     Запустить собственную службу доставки, что сократит срок доставки заказов   \n",
       "2  Добавить блоки рекомендаций товаров на сайт интернет магазина, чтобы повысить конверсию и средний чек заказа   \n",
       "3           Изменить структура категорий, что увеличит конверсию, т.к. пользователи быстрее найдут нужный товар   \n",
       "4                              Изменить цвет фона главной страницы, чтобы увеличить вовлеченность пользователей   \n",
       "\n",
       "   Reach  Impact  Confidence  Efforts  \n",
       "0      3      10           8        6  \n",
       "1      2       5           4       10  \n",
       "2      8       3           7        3  \n",
       "3      8       3           3        8  \n",
       "4      3       1           1        1  "
      ]
     },
     "metadata": {},
     "output_type": "display_data"
    },
    {
     "name": "stdout",
     "output_type": "stream",
     "text": [
      "<class 'pandas.core.frame.DataFrame'>\n",
      "RangeIndex: 9 entries, 0 to 8\n",
      "Data columns (total 5 columns):\n",
      " #   Column      Non-Null Count  Dtype \n",
      "---  ------      --------------  ----- \n",
      " 0   Hypothesis  9 non-null      object\n",
      " 1   Reach       9 non-null      int64 \n",
      " 2   Impact      9 non-null      int64 \n",
      " 3   Confidence  9 non-null      int64 \n",
      " 4   Efforts     9 non-null      int64 \n",
      "dtypes: int64(4), object(1)\n",
      "memory usage: 488.0+ bytes\n",
      "Количество дубликатов - 0\n"
     ]
    },
    {
     "data": {
      "text/html": [
       "<div>\n",
       "<style scoped>\n",
       "    .dataframe tbody tr th:only-of-type {\n",
       "        vertical-align: middle;\n",
       "    }\n",
       "\n",
       "    .dataframe tbody tr th {\n",
       "        vertical-align: top;\n",
       "    }\n",
       "\n",
       "    .dataframe thead th {\n",
       "        text-align: right;\n",
       "    }\n",
       "</style>\n",
       "<table border=\"1\" class=\"dataframe\">\n",
       "  <thead>\n",
       "    <tr style=\"text-align: right;\">\n",
       "      <th></th>\n",
       "      <th>Reach</th>\n",
       "      <th>Impact</th>\n",
       "      <th>Confidence</th>\n",
       "      <th>Efforts</th>\n",
       "    </tr>\n",
       "  </thead>\n",
       "  <tbody>\n",
       "    <tr>\n",
       "      <th>count</th>\n",
       "      <td>9.000000</td>\n",
       "      <td>9.000000</td>\n",
       "      <td>9.000000</td>\n",
       "      <td>9.000000</td>\n",
       "    </tr>\n",
       "    <tr>\n",
       "      <th>mean</th>\n",
       "      <td>4.777778</td>\n",
       "      <td>4.777778</td>\n",
       "      <td>5.555556</td>\n",
       "      <td>4.888889</td>\n",
       "    </tr>\n",
       "    <tr>\n",
       "      <th>std</th>\n",
       "      <td>3.153481</td>\n",
       "      <td>3.192874</td>\n",
       "      <td>3.045944</td>\n",
       "      <td>2.803767</td>\n",
       "    </tr>\n",
       "    <tr>\n",
       "      <th>min</th>\n",
       "      <td>1.000000</td>\n",
       "      <td>1.000000</td>\n",
       "      <td>1.000000</td>\n",
       "      <td>1.000000</td>\n",
       "    </tr>\n",
       "    <tr>\n",
       "      <th>25%</th>\n",
       "      <td>3.000000</td>\n",
       "      <td>3.000000</td>\n",
       "      <td>3.000000</td>\n",
       "      <td>3.000000</td>\n",
       "    </tr>\n",
       "    <tr>\n",
       "      <th>50%</th>\n",
       "      <td>3.000000</td>\n",
       "      <td>3.000000</td>\n",
       "      <td>7.000000</td>\n",
       "      <td>5.000000</td>\n",
       "    </tr>\n",
       "    <tr>\n",
       "      <th>75%</th>\n",
       "      <td>8.000000</td>\n",
       "      <td>7.000000</td>\n",
       "      <td>8.000000</td>\n",
       "      <td>6.000000</td>\n",
       "    </tr>\n",
       "    <tr>\n",
       "      <th>max</th>\n",
       "      <td>10.000000</td>\n",
       "      <td>10.000000</td>\n",
       "      <td>9.000000</td>\n",
       "      <td>10.000000</td>\n",
       "    </tr>\n",
       "  </tbody>\n",
       "</table>\n",
       "</div>"
      ],
      "text/plain": [
       "           Reach     Impact  Confidence    Efforts\n",
       "count   9.000000   9.000000    9.000000   9.000000\n",
       "mean    4.777778   4.777778    5.555556   4.888889\n",
       "std     3.153481   3.192874    3.045944   2.803767\n",
       "min     1.000000   1.000000    1.000000   1.000000\n",
       "25%     3.000000   3.000000    3.000000   3.000000\n",
       "50%     3.000000   3.000000    7.000000   5.000000\n",
       "75%     8.000000   7.000000    8.000000   6.000000\n",
       "max    10.000000  10.000000    9.000000  10.000000"
      ]
     },
     "metadata": {},
     "output_type": "display_data"
    },
    {
     "data": {
      "text/plain": [
       "Добавить два новых канала привлечения трафика, что позволит привлекать на 30% больше пользователей              1\n",
       "Запустить собственную службу доставки, что сократит срок доставки заказов                                       1\n",
       "Добавить блоки рекомендаций товаров на сайт интернет магазина, чтобы повысить конверсию и средний чек заказа    1\n",
       "Изменить структура категорий, что увеличит конверсию, т.к. пользователи быстрее найдут нужный товар             1\n",
       "Изменить цвет фона главной страницы, чтобы увеличить вовлеченность пользователей                                1\n",
       "Добавить страницу отзывов клиентов о магазине, что позволит увеличить количество заказов                        1\n",
       "Показать на главной странице баннеры с актуальными акциями и распродажами, чтобы увеличить конверсию            1\n",
       "Добавить форму подписки на все основные страницы, чтобы собрать базу клиентов для email-рассылок                1\n",
       "Запустить акцию, дающую скидку на товар в день рождения                                                         1\n",
       "Name: hypothesis, dtype: int64"
      ]
     },
     "metadata": {},
     "output_type": "display_data"
    },
    {
     "name": "stdout",
     "output_type": "stream",
     "text": [
      "**************************************************\n"
     ]
    },
    {
     "data": {
      "text/plain": [
       "3     3\n",
       "8     2\n",
       "2     1\n",
       "5     1\n",
       "10    1\n",
       "1     1\n",
       "Name: reach, dtype: int64"
      ]
     },
     "metadata": {},
     "output_type": "display_data"
    },
    {
     "name": "stdout",
     "output_type": "stream",
     "text": [
      "**************************************************\n"
     ]
    },
    {
     "data": {
      "text/plain": [
       "3     3\n",
       "10    1\n",
       "5     1\n",
       "1     1\n",
       "2     1\n",
       "7     1\n",
       "9     1\n",
       "Name: impact, dtype: int64"
      ]
     },
     "metadata": {},
     "output_type": "display_data"
    },
    {
     "name": "stdout",
     "output_type": "stream",
     "text": [
      "**************************************************\n"
     ]
    },
    {
     "data": {
      "text/plain": [
       "8    3\n",
       "4    1\n",
       "7    1\n",
       "3    1\n",
       "1    1\n",
       "2    1\n",
       "9    1\n",
       "Name: confidence, dtype: int64"
      ]
     },
     "metadata": {},
     "output_type": "display_data"
    },
    {
     "name": "stdout",
     "output_type": "stream",
     "text": [
      "**************************************************\n"
     ]
    },
    {
     "data": {
      "text/plain": [
       "3     3\n",
       "5     2\n",
       "6     1\n",
       "10    1\n",
       "8     1\n",
       "1     1\n",
       "Name: efforts, dtype: int64"
      ]
     },
     "metadata": {},
     "output_type": "display_data"
    },
    {
     "name": "stdout",
     "output_type": "stream",
     "text": [
      "**************************************************\n"
     ]
    },
    {
     "data": {
      "text/html": [
       "<div>\n",
       "<style scoped>\n",
       "    .dataframe tbody tr th:only-of-type {\n",
       "        vertical-align: middle;\n",
       "    }\n",
       "\n",
       "    .dataframe tbody tr th {\n",
       "        vertical-align: top;\n",
       "    }\n",
       "\n",
       "    .dataframe thead th {\n",
       "        text-align: right;\n",
       "    }\n",
       "</style>\n",
       "<table border=\"1\" class=\"dataframe\">\n",
       "  <thead>\n",
       "    <tr style=\"text-align: right;\">\n",
       "      <th></th>\n",
       "      <th>hypothesis</th>\n",
       "      <th>reach</th>\n",
       "      <th>impact</th>\n",
       "      <th>confidence</th>\n",
       "      <th>efforts</th>\n",
       "    </tr>\n",
       "  </thead>\n",
       "  <tbody>\n",
       "    <tr>\n",
       "      <th>0</th>\n",
       "      <td>Добавить два новых канала привлечения трафика, что позволит привлекать на 30% больше пользователей</td>\n",
       "      <td>3</td>\n",
       "      <td>10</td>\n",
       "      <td>8</td>\n",
       "      <td>6</td>\n",
       "    </tr>\n",
       "    <tr>\n",
       "      <th>1</th>\n",
       "      <td>Запустить собственную службу доставки, что сократит срок доставки заказов</td>\n",
       "      <td>2</td>\n",
       "      <td>5</td>\n",
       "      <td>4</td>\n",
       "      <td>10</td>\n",
       "    </tr>\n",
       "    <tr>\n",
       "      <th>2</th>\n",
       "      <td>Добавить блоки рекомендаций товаров на сайт интернет магазина, чтобы повысить конверсию и средний чек заказа</td>\n",
       "      <td>8</td>\n",
       "      <td>3</td>\n",
       "      <td>7</td>\n",
       "      <td>3</td>\n",
       "    </tr>\n",
       "    <tr>\n",
       "      <th>3</th>\n",
       "      <td>Изменить структура категорий, что увеличит конверсию, т.к. пользователи быстрее найдут нужный товар</td>\n",
       "      <td>8</td>\n",
       "      <td>3</td>\n",
       "      <td>3</td>\n",
       "      <td>8</td>\n",
       "    </tr>\n",
       "    <tr>\n",
       "      <th>4</th>\n",
       "      <td>Изменить цвет фона главной страницы, чтобы увеличить вовлеченность пользователей</td>\n",
       "      <td>3</td>\n",
       "      <td>1</td>\n",
       "      <td>1</td>\n",
       "      <td>1</td>\n",
       "    </tr>\n",
       "    <tr>\n",
       "      <th>5</th>\n",
       "      <td>Добавить страницу отзывов клиентов о магазине, что позволит увеличить количество заказов</td>\n",
       "      <td>3</td>\n",
       "      <td>2</td>\n",
       "      <td>2</td>\n",
       "      <td>3</td>\n",
       "    </tr>\n",
       "    <tr>\n",
       "      <th>6</th>\n",
       "      <td>Показать на главной странице баннеры с актуальными акциями и распродажами, чтобы увеличить конверсию</td>\n",
       "      <td>5</td>\n",
       "      <td>3</td>\n",
       "      <td>8</td>\n",
       "      <td>3</td>\n",
       "    </tr>\n",
       "    <tr>\n",
       "      <th>7</th>\n",
       "      <td>Добавить форму подписки на все основные страницы, чтобы собрать базу клиентов для email-рассылок</td>\n",
       "      <td>10</td>\n",
       "      <td>7</td>\n",
       "      <td>8</td>\n",
       "      <td>5</td>\n",
       "    </tr>\n",
       "    <tr>\n",
       "      <th>8</th>\n",
       "      <td>Запустить акцию, дающую скидку на товар в день рождения</td>\n",
       "      <td>1</td>\n",
       "      <td>9</td>\n",
       "      <td>9</td>\n",
       "      <td>5</td>\n",
       "    </tr>\n",
       "  </tbody>\n",
       "</table>\n",
       "</div>"
      ],
      "text/plain": [
       "                                                                                                     hypothesis  \\\n",
       "0            Добавить два новых канала привлечения трафика, что позволит привлекать на 30% больше пользователей   \n",
       "1                                     Запустить собственную службу доставки, что сократит срок доставки заказов   \n",
       "2  Добавить блоки рекомендаций товаров на сайт интернет магазина, чтобы повысить конверсию и средний чек заказа   \n",
       "3           Изменить структура категорий, что увеличит конверсию, т.к. пользователи быстрее найдут нужный товар   \n",
       "4                              Изменить цвет фона главной страницы, чтобы увеличить вовлеченность пользователей   \n",
       "5                      Добавить страницу отзывов клиентов о магазине, что позволит увеличить количество заказов   \n",
       "6          Показать на главной странице баннеры с актуальными акциями и распродажами, чтобы увеличить конверсию   \n",
       "7              Добавить форму подписки на все основные страницы, чтобы собрать базу клиентов для email-рассылок   \n",
       "8                                                       Запустить акцию, дающую скидку на товар в день рождения   \n",
       "\n",
       "   reach  impact  confidence  efforts  \n",
       "0      3      10           8        6  \n",
       "1      2       5           4       10  \n",
       "2      8       3           7        3  \n",
       "3      8       3           3        8  \n",
       "4      3       1           1        1  \n",
       "5      3       2           2        3  \n",
       "6      5       3           8        3  \n",
       "7     10       7           8        5  \n",
       "8      1       9           9        5  "
      ]
     },
     "execution_count": 5,
     "metadata": {},
     "output_type": "execute_result"
    }
   ],
   "source": [
    "inspect(hypothesis)"
   ]
  },
  {
   "cell_type": "code",
   "execution_count": 6,
   "metadata": {
    "scrolled": false
   },
   "outputs": [
    {
     "data": {
      "text/html": [
       "<div>\n",
       "<style scoped>\n",
       "    .dataframe tbody tr th:only-of-type {\n",
       "        vertical-align: middle;\n",
       "    }\n",
       "\n",
       "    .dataframe tbody tr th {\n",
       "        vertical-align: top;\n",
       "    }\n",
       "\n",
       "    .dataframe thead th {\n",
       "        text-align: right;\n",
       "    }\n",
       "</style>\n",
       "<table border=\"1\" class=\"dataframe\">\n",
       "  <thead>\n",
       "    <tr style=\"text-align: right;\">\n",
       "      <th></th>\n",
       "      <th>transactionId</th>\n",
       "      <th>visitorId</th>\n",
       "      <th>date</th>\n",
       "      <th>revenue</th>\n",
       "      <th>group</th>\n",
       "    </tr>\n",
       "  </thead>\n",
       "  <tbody>\n",
       "    <tr>\n",
       "      <th>0</th>\n",
       "      <td>3667963787</td>\n",
       "      <td>3312258926</td>\n",
       "      <td>2019-08-15</td>\n",
       "      <td>1650</td>\n",
       "      <td>B</td>\n",
       "    </tr>\n",
       "    <tr>\n",
       "      <th>1</th>\n",
       "      <td>2804400009</td>\n",
       "      <td>3642806036</td>\n",
       "      <td>2019-08-15</td>\n",
       "      <td>730</td>\n",
       "      <td>B</td>\n",
       "    </tr>\n",
       "    <tr>\n",
       "      <th>2</th>\n",
       "      <td>2961555356</td>\n",
       "      <td>4069496402</td>\n",
       "      <td>2019-08-15</td>\n",
       "      <td>400</td>\n",
       "      <td>A</td>\n",
       "    </tr>\n",
       "    <tr>\n",
       "      <th>3</th>\n",
       "      <td>3797467345</td>\n",
       "      <td>1196621759</td>\n",
       "      <td>2019-08-15</td>\n",
       "      <td>9759</td>\n",
       "      <td>B</td>\n",
       "    </tr>\n",
       "    <tr>\n",
       "      <th>4</th>\n",
       "      <td>2282983706</td>\n",
       "      <td>2322279887</td>\n",
       "      <td>2019-08-15</td>\n",
       "      <td>2308</td>\n",
       "      <td>B</td>\n",
       "    </tr>\n",
       "  </tbody>\n",
       "</table>\n",
       "</div>"
      ],
      "text/plain": [
       "   transactionId   visitorId        date  revenue group\n",
       "0     3667963787  3312258926  2019-08-15     1650     B\n",
       "1     2804400009  3642806036  2019-08-15      730     B\n",
       "2     2961555356  4069496402  2019-08-15      400     A\n",
       "3     3797467345  1196621759  2019-08-15     9759     B\n",
       "4     2282983706  2322279887  2019-08-15     2308     B"
      ]
     },
     "metadata": {},
     "output_type": "display_data"
    },
    {
     "name": "stdout",
     "output_type": "stream",
     "text": [
      "<class 'pandas.core.frame.DataFrame'>\n",
      "RangeIndex: 1197 entries, 0 to 1196\n",
      "Data columns (total 5 columns):\n",
      " #   Column         Non-Null Count  Dtype \n",
      "---  ------         --------------  ----- \n",
      " 0   transactionId  1197 non-null   int64 \n",
      " 1   visitorId      1197 non-null   int64 \n",
      " 2   date           1197 non-null   object\n",
      " 3   revenue        1197 non-null   int64 \n",
      " 4   group          1197 non-null   object\n",
      "dtypes: int64(3), object(2)\n",
      "memory usage: 46.9+ KB\n",
      "Количество дубликатов - 0\n"
     ]
    },
    {
     "data": {
      "text/html": [
       "<div>\n",
       "<style scoped>\n",
       "    .dataframe tbody tr th:only-of-type {\n",
       "        vertical-align: middle;\n",
       "    }\n",
       "\n",
       "    .dataframe tbody tr th {\n",
       "        vertical-align: top;\n",
       "    }\n",
       "\n",
       "    .dataframe thead th {\n",
       "        text-align: right;\n",
       "    }\n",
       "</style>\n",
       "<table border=\"1\" class=\"dataframe\">\n",
       "  <thead>\n",
       "    <tr style=\"text-align: right;\">\n",
       "      <th></th>\n",
       "      <th>transactionId</th>\n",
       "      <th>visitorId</th>\n",
       "      <th>revenue</th>\n",
       "    </tr>\n",
       "  </thead>\n",
       "  <tbody>\n",
       "    <tr>\n",
       "      <th>count</th>\n",
       "      <td>1.197000e+03</td>\n",
       "      <td>1.197000e+03</td>\n",
       "      <td>1.197000e+03</td>\n",
       "    </tr>\n",
       "    <tr>\n",
       "      <th>mean</th>\n",
       "      <td>2.155621e+09</td>\n",
       "      <td>2.165960e+09</td>\n",
       "      <td>8.348006e+03</td>\n",
       "    </tr>\n",
       "    <tr>\n",
       "      <th>std</th>\n",
       "      <td>1.229085e+09</td>\n",
       "      <td>1.236014e+09</td>\n",
       "      <td>3.919113e+04</td>\n",
       "    </tr>\n",
       "    <tr>\n",
       "      <th>min</th>\n",
       "      <td>1.062393e+06</td>\n",
       "      <td>5.114589e+06</td>\n",
       "      <td>5.000000e+01</td>\n",
       "    </tr>\n",
       "    <tr>\n",
       "      <th>25%</th>\n",
       "      <td>1.166776e+09</td>\n",
       "      <td>1.111826e+09</td>\n",
       "      <td>1.220000e+03</td>\n",
       "    </tr>\n",
       "    <tr>\n",
       "      <th>50%</th>\n",
       "      <td>2.145194e+09</td>\n",
       "      <td>2.217985e+09</td>\n",
       "      <td>2.978000e+03</td>\n",
       "    </tr>\n",
       "    <tr>\n",
       "      <th>75%</th>\n",
       "      <td>3.237740e+09</td>\n",
       "      <td>3.177606e+09</td>\n",
       "      <td>8.290000e+03</td>\n",
       "    </tr>\n",
       "    <tr>\n",
       "      <th>max</th>\n",
       "      <td>4.293856e+09</td>\n",
       "      <td>4.283872e+09</td>\n",
       "      <td>1.294500e+06</td>\n",
       "    </tr>\n",
       "  </tbody>\n",
       "</table>\n",
       "</div>"
      ],
      "text/plain": [
       "       transactionId     visitorId       revenue\n",
       "count   1.197000e+03  1.197000e+03  1.197000e+03\n",
       "mean    2.155621e+09  2.165960e+09  8.348006e+03\n",
       "std     1.229085e+09  1.236014e+09  3.919113e+04\n",
       "min     1.062393e+06  5.114589e+06  5.000000e+01\n",
       "25%     1.166776e+09  1.111826e+09  1.220000e+03\n",
       "50%     2.145194e+09  2.217985e+09  2.978000e+03\n",
       "75%     3.237740e+09  3.177606e+09  8.290000e+03\n",
       "max     4.293856e+09  4.283872e+09  1.294500e+06"
      ]
     },
     "metadata": {},
     "output_type": "display_data"
    },
    {
     "data": {
      "text/plain": [
       "3667963787    1\n",
       "4167421281    1\n",
       "2875229767    1\n",
       "504373597     1\n",
       "2017680897    1\n",
       "             ..\n",
       "1853288890    1\n",
       "2084190534    1\n",
       "2956594374    1\n",
       "3646798055    1\n",
       "3936777065    1\n",
       "Name: transactionid, Length: 1197, dtype: int64"
      ]
     },
     "metadata": {},
     "output_type": "display_data"
    },
    {
     "name": "stdout",
     "output_type": "stream",
     "text": [
      "**************************************************\n"
     ]
    },
    {
     "data": {
      "text/plain": [
       "4256040402    11\n",
       "2458001652    11\n",
       "2378935119     9\n",
       "2038680547     8\n",
       "199603092      5\n",
       "              ..\n",
       "2524310328     1\n",
       "2210805728     1\n",
       "2274825520     1\n",
       "1831227158     1\n",
       "2108080724     1\n",
       "Name: visitorid, Length: 1031, dtype: int64"
      ]
     },
     "metadata": {},
     "output_type": "display_data"
    },
    {
     "name": "stdout",
     "output_type": "stream",
     "text": [
      "**************************************************\n"
     ]
    },
    {
     "data": {
      "text/plain": [
       "2019-08-05    48\n",
       "2019-08-14    47\n",
       "2019-08-12    47\n",
       "2019-08-06    46\n",
       "2019-08-15    46\n",
       "2019-08-01    45\n",
       "2019-08-28    45\n",
       "2019-08-02    44\n",
       "2019-08-27    44\n",
       "2019-08-08    43\n",
       "2019-08-19    43\n",
       "2019-08-29    42\n",
       "2019-08-07    42\n",
       "2019-08-22    41\n",
       "2019-08-09    41\n",
       "2019-08-26    41\n",
       "2019-08-03    40\n",
       "2019-08-23    40\n",
       "2019-08-10    39\n",
       "2019-08-16    38\n",
       "2019-08-21    37\n",
       "2019-08-30    35\n",
       "2019-08-13    35\n",
       "2019-08-04    33\n",
       "2019-08-20    32\n",
       "2019-08-31    32\n",
       "2019-08-24    31\n",
       "2019-08-11    26\n",
       "2019-08-18    26\n",
       "2019-08-17    24\n",
       "2019-08-25    24\n",
       "Name: date, dtype: int64"
      ]
     },
     "metadata": {},
     "output_type": "display_data"
    },
    {
     "name": "stdout",
     "output_type": "stream",
     "text": [
      "**************************************************\n"
     ]
    },
    {
     "data": {
      "text/plain": [
       "B    640\n",
       "A    557\n",
       "Name: group, dtype: int64"
      ]
     },
     "metadata": {},
     "output_type": "display_data"
    },
    {
     "name": "stdout",
     "output_type": "stream",
     "text": [
      "**************************************************\n"
     ]
    },
    {
     "data": {
      "text/html": [
       "<div>\n",
       "<style scoped>\n",
       "    .dataframe tbody tr th:only-of-type {\n",
       "        vertical-align: middle;\n",
       "    }\n",
       "\n",
       "    .dataframe tbody tr th {\n",
       "        vertical-align: top;\n",
       "    }\n",
       "\n",
       "    .dataframe thead th {\n",
       "        text-align: right;\n",
       "    }\n",
       "</style>\n",
       "<table border=\"1\" class=\"dataframe\">\n",
       "  <thead>\n",
       "    <tr style=\"text-align: right;\">\n",
       "      <th></th>\n",
       "      <th>transactionid</th>\n",
       "      <th>visitorid</th>\n",
       "      <th>date</th>\n",
       "      <th>revenue</th>\n",
       "      <th>group</th>\n",
       "    </tr>\n",
       "  </thead>\n",
       "  <tbody>\n",
       "    <tr>\n",
       "      <th>0</th>\n",
       "      <td>3667963787</td>\n",
       "      <td>3312258926</td>\n",
       "      <td>2019-08-15</td>\n",
       "      <td>1650</td>\n",
       "      <td>B</td>\n",
       "    </tr>\n",
       "    <tr>\n",
       "      <th>1</th>\n",
       "      <td>2804400009</td>\n",
       "      <td>3642806036</td>\n",
       "      <td>2019-08-15</td>\n",
       "      <td>730</td>\n",
       "      <td>B</td>\n",
       "    </tr>\n",
       "    <tr>\n",
       "      <th>2</th>\n",
       "      <td>2961555356</td>\n",
       "      <td>4069496402</td>\n",
       "      <td>2019-08-15</td>\n",
       "      <td>400</td>\n",
       "      <td>A</td>\n",
       "    </tr>\n",
       "    <tr>\n",
       "      <th>3</th>\n",
       "      <td>3797467345</td>\n",
       "      <td>1196621759</td>\n",
       "      <td>2019-08-15</td>\n",
       "      <td>9759</td>\n",
       "      <td>B</td>\n",
       "    </tr>\n",
       "    <tr>\n",
       "      <th>4</th>\n",
       "      <td>2282983706</td>\n",
       "      <td>2322279887</td>\n",
       "      <td>2019-08-15</td>\n",
       "      <td>2308</td>\n",
       "      <td>B</td>\n",
       "    </tr>\n",
       "    <tr>\n",
       "      <th>5</th>\n",
       "      <td>182168103</td>\n",
       "      <td>935554773</td>\n",
       "      <td>2019-08-15</td>\n",
       "      <td>2210</td>\n",
       "      <td>B</td>\n",
       "    </tr>\n",
       "    <tr>\n",
       "      <th>6</th>\n",
       "      <td>398296753</td>\n",
       "      <td>2900797465</td>\n",
       "      <td>2019-08-15</td>\n",
       "      <td>1860</td>\n",
       "      <td>B</td>\n",
       "    </tr>\n",
       "    <tr>\n",
       "      <th>7</th>\n",
       "      <td>2626614568</td>\n",
       "      <td>78758296</td>\n",
       "      <td>2019-08-15</td>\n",
       "      <td>1044</td>\n",
       "      <td>A</td>\n",
       "    </tr>\n",
       "    <tr>\n",
       "      <th>8</th>\n",
       "      <td>1576988021</td>\n",
       "      <td>295230930</td>\n",
       "      <td>2019-08-15</td>\n",
       "      <td>13710</td>\n",
       "      <td>A</td>\n",
       "    </tr>\n",
       "    <tr>\n",
       "      <th>9</th>\n",
       "      <td>1506739906</td>\n",
       "      <td>1882260405</td>\n",
       "      <td>2019-08-15</td>\n",
       "      <td>1855</td>\n",
       "      <td>B</td>\n",
       "    </tr>\n",
       "  </tbody>\n",
       "</table>\n",
       "</div>"
      ],
      "text/plain": [
       "   transactionid   visitorid        date  revenue group\n",
       "0     3667963787  3312258926  2019-08-15     1650     B\n",
       "1     2804400009  3642806036  2019-08-15      730     B\n",
       "2     2961555356  4069496402  2019-08-15      400     A\n",
       "3     3797467345  1196621759  2019-08-15     9759     B\n",
       "4     2282983706  2322279887  2019-08-15     2308     B\n",
       "5      182168103   935554773  2019-08-15     2210     B\n",
       "6      398296753  2900797465  2019-08-15     1860     B\n",
       "7     2626614568    78758296  2019-08-15     1044     A\n",
       "8     1576988021   295230930  2019-08-15    13710     A\n",
       "9     1506739906  1882260405  2019-08-15     1855     B"
      ]
     },
     "execution_count": 6,
     "metadata": {},
     "output_type": "execute_result"
    }
   ],
   "source": [
    "inspect(orders)"
   ]
  },
  {
   "cell_type": "code",
   "execution_count": 7,
   "metadata": {},
   "outputs": [],
   "source": [
    "orders = orders.rename(columns={'transactionid': 'transaction_id', 'visitorid': 'visitor_id'})"
   ]
  },
  {
   "cell_type": "code",
   "execution_count": 8,
   "metadata": {},
   "outputs": [
    {
     "data": {
      "text/html": [
       "<div>\n",
       "<style scoped>\n",
       "    .dataframe tbody tr th:only-of-type {\n",
       "        vertical-align: middle;\n",
       "    }\n",
       "\n",
       "    .dataframe tbody tr th {\n",
       "        vertical-align: top;\n",
       "    }\n",
       "\n",
       "    .dataframe thead th {\n",
       "        text-align: right;\n",
       "    }\n",
       "</style>\n",
       "<table border=\"1\" class=\"dataframe\">\n",
       "  <thead>\n",
       "    <tr style=\"text-align: right;\">\n",
       "      <th></th>\n",
       "      <th>date</th>\n",
       "      <th>group</th>\n",
       "      <th>visitors</th>\n",
       "    </tr>\n",
       "  </thead>\n",
       "  <tbody>\n",
       "    <tr>\n",
       "      <th>0</th>\n",
       "      <td>2019-08-01</td>\n",
       "      <td>A</td>\n",
       "      <td>719</td>\n",
       "    </tr>\n",
       "    <tr>\n",
       "      <th>1</th>\n",
       "      <td>2019-08-02</td>\n",
       "      <td>A</td>\n",
       "      <td>619</td>\n",
       "    </tr>\n",
       "    <tr>\n",
       "      <th>2</th>\n",
       "      <td>2019-08-03</td>\n",
       "      <td>A</td>\n",
       "      <td>507</td>\n",
       "    </tr>\n",
       "    <tr>\n",
       "      <th>3</th>\n",
       "      <td>2019-08-04</td>\n",
       "      <td>A</td>\n",
       "      <td>717</td>\n",
       "    </tr>\n",
       "    <tr>\n",
       "      <th>4</th>\n",
       "      <td>2019-08-05</td>\n",
       "      <td>A</td>\n",
       "      <td>756</td>\n",
       "    </tr>\n",
       "  </tbody>\n",
       "</table>\n",
       "</div>"
      ],
      "text/plain": [
       "         date group  visitors\n",
       "0  2019-08-01     A       719\n",
       "1  2019-08-02     A       619\n",
       "2  2019-08-03     A       507\n",
       "3  2019-08-04     A       717\n",
       "4  2019-08-05     A       756"
      ]
     },
     "metadata": {},
     "output_type": "display_data"
    },
    {
     "name": "stdout",
     "output_type": "stream",
     "text": [
      "<class 'pandas.core.frame.DataFrame'>\n",
      "RangeIndex: 62 entries, 0 to 61\n",
      "Data columns (total 3 columns):\n",
      " #   Column    Non-Null Count  Dtype \n",
      "---  ------    --------------  ----- \n",
      " 0   date      62 non-null     object\n",
      " 1   group     62 non-null     object\n",
      " 2   visitors  62 non-null     int64 \n",
      "dtypes: int64(1), object(2)\n",
      "memory usage: 1.6+ KB\n",
      "Количество дубликатов - 0\n"
     ]
    },
    {
     "data": {
      "text/html": [
       "<div>\n",
       "<style scoped>\n",
       "    .dataframe tbody tr th:only-of-type {\n",
       "        vertical-align: middle;\n",
       "    }\n",
       "\n",
       "    .dataframe tbody tr th {\n",
       "        vertical-align: top;\n",
       "    }\n",
       "\n",
       "    .dataframe thead th {\n",
       "        text-align: right;\n",
       "    }\n",
       "</style>\n",
       "<table border=\"1\" class=\"dataframe\">\n",
       "  <thead>\n",
       "    <tr style=\"text-align: right;\">\n",
       "      <th></th>\n",
       "      <th>visitors</th>\n",
       "    </tr>\n",
       "  </thead>\n",
       "  <tbody>\n",
       "    <tr>\n",
       "      <th>count</th>\n",
       "      <td>62.000000</td>\n",
       "    </tr>\n",
       "    <tr>\n",
       "      <th>mean</th>\n",
       "      <td>607.290323</td>\n",
       "    </tr>\n",
       "    <tr>\n",
       "      <th>std</th>\n",
       "      <td>114.400560</td>\n",
       "    </tr>\n",
       "    <tr>\n",
       "      <th>min</th>\n",
       "      <td>361.000000</td>\n",
       "    </tr>\n",
       "    <tr>\n",
       "      <th>25%</th>\n",
       "      <td>534.000000</td>\n",
       "    </tr>\n",
       "    <tr>\n",
       "      <th>50%</th>\n",
       "      <td>624.500000</td>\n",
       "    </tr>\n",
       "    <tr>\n",
       "      <th>75%</th>\n",
       "      <td>710.500000</td>\n",
       "    </tr>\n",
       "    <tr>\n",
       "      <th>max</th>\n",
       "      <td>770.000000</td>\n",
       "    </tr>\n",
       "  </tbody>\n",
       "</table>\n",
       "</div>"
      ],
      "text/plain": [
       "         visitors\n",
       "count   62.000000\n",
       "mean   607.290323\n",
       "std    114.400560\n",
       "min    361.000000\n",
       "25%    534.000000\n",
       "50%    624.500000\n",
       "75%    710.500000\n",
       "max    770.000000"
      ]
     },
     "metadata": {},
     "output_type": "display_data"
    },
    {
     "data": {
      "text/plain": [
       "2019-08-01    2\n",
       "2019-08-17    2\n",
       "2019-08-30    2\n",
       "2019-08-29    2\n",
       "2019-08-28    2\n",
       "2019-08-27    2\n",
       "2019-08-26    2\n",
       "2019-08-25    2\n",
       "2019-08-24    2\n",
       "2019-08-23    2\n",
       "2019-08-22    2\n",
       "2019-08-21    2\n",
       "2019-08-20    2\n",
       "2019-08-19    2\n",
       "2019-08-18    2\n",
       "2019-08-16    2\n",
       "2019-08-02    2\n",
       "2019-08-15    2\n",
       "2019-08-14    2\n",
       "2019-08-13    2\n",
       "2019-08-12    2\n",
       "2019-08-11    2\n",
       "2019-08-10    2\n",
       "2019-08-09    2\n",
       "2019-08-08    2\n",
       "2019-08-07    2\n",
       "2019-08-06    2\n",
       "2019-08-05    2\n",
       "2019-08-04    2\n",
       "2019-08-03    2\n",
       "2019-08-31    2\n",
       "Name: date, dtype: int64"
      ]
     },
     "metadata": {},
     "output_type": "display_data"
    },
    {
     "name": "stdout",
     "output_type": "stream",
     "text": [
      "**************************************************\n"
     ]
    },
    {
     "data": {
      "text/plain": [
       "A    31\n",
       "B    31\n",
       "Name: group, dtype: int64"
      ]
     },
     "metadata": {},
     "output_type": "display_data"
    },
    {
     "name": "stdout",
     "output_type": "stream",
     "text": [
      "**************************************************\n"
     ]
    },
    {
     "data": {
      "text/html": [
       "<div>\n",
       "<style scoped>\n",
       "    .dataframe tbody tr th:only-of-type {\n",
       "        vertical-align: middle;\n",
       "    }\n",
       "\n",
       "    .dataframe tbody tr th {\n",
       "        vertical-align: top;\n",
       "    }\n",
       "\n",
       "    .dataframe thead th {\n",
       "        text-align: right;\n",
       "    }\n",
       "</style>\n",
       "<table border=\"1\" class=\"dataframe\">\n",
       "  <thead>\n",
       "    <tr style=\"text-align: right;\">\n",
       "      <th></th>\n",
       "      <th>date</th>\n",
       "      <th>group</th>\n",
       "      <th>visitors</th>\n",
       "    </tr>\n",
       "  </thead>\n",
       "  <tbody>\n",
       "    <tr>\n",
       "      <th>0</th>\n",
       "      <td>2019-08-01</td>\n",
       "      <td>A</td>\n",
       "      <td>719</td>\n",
       "    </tr>\n",
       "    <tr>\n",
       "      <th>1</th>\n",
       "      <td>2019-08-02</td>\n",
       "      <td>A</td>\n",
       "      <td>619</td>\n",
       "    </tr>\n",
       "    <tr>\n",
       "      <th>2</th>\n",
       "      <td>2019-08-03</td>\n",
       "      <td>A</td>\n",
       "      <td>507</td>\n",
       "    </tr>\n",
       "    <tr>\n",
       "      <th>3</th>\n",
       "      <td>2019-08-04</td>\n",
       "      <td>A</td>\n",
       "      <td>717</td>\n",
       "    </tr>\n",
       "    <tr>\n",
       "      <th>4</th>\n",
       "      <td>2019-08-05</td>\n",
       "      <td>A</td>\n",
       "      <td>756</td>\n",
       "    </tr>\n",
       "    <tr>\n",
       "      <th>5</th>\n",
       "      <td>2019-08-06</td>\n",
       "      <td>A</td>\n",
       "      <td>667</td>\n",
       "    </tr>\n",
       "    <tr>\n",
       "      <th>6</th>\n",
       "      <td>2019-08-07</td>\n",
       "      <td>A</td>\n",
       "      <td>644</td>\n",
       "    </tr>\n",
       "    <tr>\n",
       "      <th>7</th>\n",
       "      <td>2019-08-08</td>\n",
       "      <td>A</td>\n",
       "      <td>610</td>\n",
       "    </tr>\n",
       "    <tr>\n",
       "      <th>8</th>\n",
       "      <td>2019-08-09</td>\n",
       "      <td>A</td>\n",
       "      <td>617</td>\n",
       "    </tr>\n",
       "    <tr>\n",
       "      <th>9</th>\n",
       "      <td>2019-08-10</td>\n",
       "      <td>A</td>\n",
       "      <td>406</td>\n",
       "    </tr>\n",
       "  </tbody>\n",
       "</table>\n",
       "</div>"
      ],
      "text/plain": [
       "         date group  visitors\n",
       "0  2019-08-01     A       719\n",
       "1  2019-08-02     A       619\n",
       "2  2019-08-03     A       507\n",
       "3  2019-08-04     A       717\n",
       "4  2019-08-05     A       756\n",
       "5  2019-08-06     A       667\n",
       "6  2019-08-07     A       644\n",
       "7  2019-08-08     A       610\n",
       "8  2019-08-09     A       617\n",
       "9  2019-08-10     A       406"
      ]
     },
     "execution_count": 8,
     "metadata": {},
     "output_type": "execute_result"
    }
   ],
   "source": [
    "inspect(visitors)"
   ]
  },
  {
   "cell_type": "markdown",
   "metadata": {},
   "source": [
    "Проведены загрузка и первичное ознакомление с данными, выполнены предобработка и замена названия столбцов. Дубликаты и пропуски не обнаружены. Данные готовы к дальнейшему анализу. "
   ]
  },
  {
   "cell_type": "markdown",
   "metadata": {},
   "source": [
    "<a id=\"ice\"></a>"
   ]
  },
  {
   "cell_type": "markdown",
   "metadata": {},
   "source": [
    "## Приоритизация гипотез"
   ]
  },
  {
   "cell_type": "markdown",
   "metadata": {},
   "source": [
    "### Применение фреймворка ICE для приоритизации гипотез.\n",
    "[(к оглавлению)](#begin)"
   ]
  },
  {
   "cell_type": "markdown",
   "metadata": {},
   "source": [
    "ICE — один из самых популярных способов приоритизации задач:\n",
    "- impact — насколько сильно изменение повлияет на пользователей, их опыт и удовлетворение от продукта;\n",
    "- confidence — насколько вы уверены, что это изменение повлияет на пользователей именно так;\n",
    "- efforts — сколько стоит протестировать эту гипотезу.\n",
    "\n",
    "<p>Для его определения воспользуемся формулой:</p>\n",
    "<p>ICE = Impact * Confidence / Efforts</p>"
   ]
  },
  {
   "cell_type": "code",
   "execution_count": 9,
   "metadata": {},
   "outputs": [
    {
     "data": {
      "text/html": [
       "<div>\n",
       "<style scoped>\n",
       "    .dataframe tbody tr th:only-of-type {\n",
       "        vertical-align: middle;\n",
       "    }\n",
       "\n",
       "    .dataframe tbody tr th {\n",
       "        vertical-align: top;\n",
       "    }\n",
       "\n",
       "    .dataframe thead th {\n",
       "        text-align: right;\n",
       "    }\n",
       "</style>\n",
       "<table border=\"1\" class=\"dataframe\">\n",
       "  <thead>\n",
       "    <tr style=\"text-align: right;\">\n",
       "      <th></th>\n",
       "      <th>hypothesis</th>\n",
       "      <th>ice</th>\n",
       "    </tr>\n",
       "  </thead>\n",
       "  <tbody>\n",
       "    <tr>\n",
       "      <th>8</th>\n",
       "      <td>Запустить акцию, дающую скидку на товар в день рождения</td>\n",
       "      <td>16.200000</td>\n",
       "    </tr>\n",
       "    <tr>\n",
       "      <th>0</th>\n",
       "      <td>Добавить два новых канала привлечения трафика, что позволит привлекать на 30% больше пользователей</td>\n",
       "      <td>13.333333</td>\n",
       "    </tr>\n",
       "    <tr>\n",
       "      <th>7</th>\n",
       "      <td>Добавить форму подписки на все основные страницы, чтобы собрать базу клиентов для email-рассылок</td>\n",
       "      <td>11.200000</td>\n",
       "    </tr>\n",
       "    <tr>\n",
       "      <th>6</th>\n",
       "      <td>Показать на главной странице баннеры с актуальными акциями и распродажами, чтобы увеличить конверсию</td>\n",
       "      <td>8.000000</td>\n",
       "    </tr>\n",
       "    <tr>\n",
       "      <th>2</th>\n",
       "      <td>Добавить блоки рекомендаций товаров на сайт интернет магазина, чтобы повысить конверсию и средний чек заказа</td>\n",
       "      <td>7.000000</td>\n",
       "    </tr>\n",
       "    <tr>\n",
       "      <th>1</th>\n",
       "      <td>Запустить собственную службу доставки, что сократит срок доставки заказов</td>\n",
       "      <td>2.000000</td>\n",
       "    </tr>\n",
       "    <tr>\n",
       "      <th>5</th>\n",
       "      <td>Добавить страницу отзывов клиентов о магазине, что позволит увеличить количество заказов</td>\n",
       "      <td>1.333333</td>\n",
       "    </tr>\n",
       "    <tr>\n",
       "      <th>3</th>\n",
       "      <td>Изменить структура категорий, что увеличит конверсию, т.к. пользователи быстрее найдут нужный товар</td>\n",
       "      <td>1.125000</td>\n",
       "    </tr>\n",
       "    <tr>\n",
       "      <th>4</th>\n",
       "      <td>Изменить цвет фона главной страницы, чтобы увеличить вовлеченность пользователей</td>\n",
       "      <td>1.000000</td>\n",
       "    </tr>\n",
       "  </tbody>\n",
       "</table>\n",
       "</div>"
      ],
      "text/plain": [
       "                                                                                                     hypothesis  \\\n",
       "8                                                       Запустить акцию, дающую скидку на товар в день рождения   \n",
       "0            Добавить два новых канала привлечения трафика, что позволит привлекать на 30% больше пользователей   \n",
       "7              Добавить форму подписки на все основные страницы, чтобы собрать базу клиентов для email-рассылок   \n",
       "6          Показать на главной странице баннеры с актуальными акциями и распродажами, чтобы увеличить конверсию   \n",
       "2  Добавить блоки рекомендаций товаров на сайт интернет магазина, чтобы повысить конверсию и средний чек заказа   \n",
       "1                                     Запустить собственную службу доставки, что сократит срок доставки заказов   \n",
       "5                      Добавить страницу отзывов клиентов о магазине, что позволит увеличить количество заказов   \n",
       "3           Изменить структура категорий, что увеличит конверсию, т.к. пользователи быстрее найдут нужный товар   \n",
       "4                              Изменить цвет фона главной страницы, чтобы увеличить вовлеченность пользователей   \n",
       "\n",
       "         ice  \n",
       "8  16.200000  \n",
       "0  13.333333  \n",
       "7  11.200000  \n",
       "6   8.000000  \n",
       "2   7.000000  \n",
       "1   2.000000  \n",
       "5   1.333333  \n",
       "3   1.125000  \n",
       "4   1.000000  "
      ]
     },
     "metadata": {},
     "output_type": "display_data"
    }
   ],
   "source": [
    "hypothesis['ice'] = hypothesis['impact'] * hypothesis['confidence'] / hypothesis['efforts']\n",
    "display(hypothesis[['hypothesis', 'ice']].sort_values(by='ice', ascending=False))"
   ]
  },
  {
   "cell_type": "markdown",
   "metadata": {},
   "source": [
    "<a id=\"rice\"></a>"
   ]
  },
  {
   "cell_type": "markdown",
   "metadata": {},
   "source": [
    "### Применение фреймворка RICE для приоритизации гипотез.\n",
    "[(к оглавлению)](#begin)"
   ]
  },
  {
   "cell_type": "markdown",
   "metadata": {},
   "source": [
    "У метода ICE есть модификация RICE (R от англ. reach, «охват»), которая учитывает охват влияния.\n",
    "Приоритизируем гипотезу данным фреймворком"
   ]
  },
  {
   "cell_type": "code",
   "execution_count": 10,
   "metadata": {},
   "outputs": [
    {
     "data": {
      "text/html": [
       "<div>\n",
       "<style scoped>\n",
       "    .dataframe tbody tr th:only-of-type {\n",
       "        vertical-align: middle;\n",
       "    }\n",
       "\n",
       "    .dataframe tbody tr th {\n",
       "        vertical-align: top;\n",
       "    }\n",
       "\n",
       "    .dataframe thead th {\n",
       "        text-align: right;\n",
       "    }\n",
       "</style>\n",
       "<table border=\"1\" class=\"dataframe\">\n",
       "  <thead>\n",
       "    <tr style=\"text-align: right;\">\n",
       "      <th></th>\n",
       "      <th>hypothesis</th>\n",
       "      <th>rice</th>\n",
       "    </tr>\n",
       "  </thead>\n",
       "  <tbody>\n",
       "    <tr>\n",
       "      <th>7</th>\n",
       "      <td>Добавить форму подписки на все основные страницы, чтобы собрать базу клиентов для email-рассылок</td>\n",
       "      <td>112.0</td>\n",
       "    </tr>\n",
       "    <tr>\n",
       "      <th>2</th>\n",
       "      <td>Добавить блоки рекомендаций товаров на сайт интернет магазина, чтобы повысить конверсию и средний чек заказа</td>\n",
       "      <td>56.0</td>\n",
       "    </tr>\n",
       "    <tr>\n",
       "      <th>0</th>\n",
       "      <td>Добавить два новых канала привлечения трафика, что позволит привлекать на 30% больше пользователей</td>\n",
       "      <td>40.0</td>\n",
       "    </tr>\n",
       "    <tr>\n",
       "      <th>6</th>\n",
       "      <td>Показать на главной странице баннеры с актуальными акциями и распродажами, чтобы увеличить конверсию</td>\n",
       "      <td>40.0</td>\n",
       "    </tr>\n",
       "    <tr>\n",
       "      <th>8</th>\n",
       "      <td>Запустить акцию, дающую скидку на товар в день рождения</td>\n",
       "      <td>16.2</td>\n",
       "    </tr>\n",
       "    <tr>\n",
       "      <th>3</th>\n",
       "      <td>Изменить структура категорий, что увеличит конверсию, т.к. пользователи быстрее найдут нужный товар</td>\n",
       "      <td>9.0</td>\n",
       "    </tr>\n",
       "    <tr>\n",
       "      <th>1</th>\n",
       "      <td>Запустить собственную службу доставки, что сократит срок доставки заказов</td>\n",
       "      <td>4.0</td>\n",
       "    </tr>\n",
       "    <tr>\n",
       "      <th>5</th>\n",
       "      <td>Добавить страницу отзывов клиентов о магазине, что позволит увеличить количество заказов</td>\n",
       "      <td>4.0</td>\n",
       "    </tr>\n",
       "    <tr>\n",
       "      <th>4</th>\n",
       "      <td>Изменить цвет фона главной страницы, чтобы увеличить вовлеченность пользователей</td>\n",
       "      <td>3.0</td>\n",
       "    </tr>\n",
       "  </tbody>\n",
       "</table>\n",
       "</div>"
      ],
      "text/plain": [
       "                                                                                                     hypothesis  \\\n",
       "7              Добавить форму подписки на все основные страницы, чтобы собрать базу клиентов для email-рассылок   \n",
       "2  Добавить блоки рекомендаций товаров на сайт интернет магазина, чтобы повысить конверсию и средний чек заказа   \n",
       "0            Добавить два новых канала привлечения трафика, что позволит привлекать на 30% больше пользователей   \n",
       "6          Показать на главной странице баннеры с актуальными акциями и распродажами, чтобы увеличить конверсию   \n",
       "8                                                       Запустить акцию, дающую скидку на товар в день рождения   \n",
       "3           Изменить структура категорий, что увеличит конверсию, т.к. пользователи быстрее найдут нужный товар   \n",
       "1                                     Запустить собственную службу доставки, что сократит срок доставки заказов   \n",
       "5                      Добавить страницу отзывов клиентов о магазине, что позволит увеличить количество заказов   \n",
       "4                              Изменить цвет фона главной страницы, чтобы увеличить вовлеченность пользователей   \n",
       "\n",
       "    rice  \n",
       "7  112.0  \n",
       "2   56.0  \n",
       "0   40.0  \n",
       "6   40.0  \n",
       "8   16.2  \n",
       "3    9.0  \n",
       "1    4.0  \n",
       "5    4.0  \n",
       "4    3.0  "
      ]
     },
     "metadata": {},
     "output_type": "display_data"
    },
    {
     "data": {
      "text/plain": [
       "array(['Добавить два новых канала привлечения трафика, что позволит привлекать на 30% больше пользователей',\n",
       "       'Запустить собственную службу доставки, что сократит срок доставки заказов',\n",
       "       'Добавить блоки рекомендаций товаров на сайт интернет магазина, чтобы повысить конверсию и средний чек заказа',\n",
       "       'Изменить структура категорий, что увеличит конверсию, т.к. пользователи быстрее найдут нужный товар',\n",
       "       'Изменить цвет фона главной страницы, чтобы увеличить вовлеченность пользователей',\n",
       "       'Добавить страницу отзывов клиентов о магазине, что позволит увеличить количество заказов',\n",
       "       'Показать на главной странице баннеры с актуальными акциями и распродажами, чтобы увеличить конверсию',\n",
       "       'Добавить форму подписки на все основные страницы, чтобы собрать базу клиентов для email-рассылок',\n",
       "       'Запустить акцию, дающую скидку на товар в день рождения'],\n",
       "      dtype=object)"
      ]
     },
     "metadata": {},
     "output_type": "display_data"
    }
   ],
   "source": [
    "hypothesis['rice'] = hypothesis['reach'] * hypothesis['impact'] * hypothesis['confidence'] / hypothesis['efforts']\n",
    "\n",
    "display(hypothesis[['hypothesis', 'rice']].sort_values(by='rice', ascending=False))\n",
    "display(hypothesis['hypothesis'].unique())"
   ]
  },
  {
   "cell_type": "markdown",
   "metadata": {},
   "source": [
    "<a id=\"result\"></a>"
   ]
  },
  {
   "cell_type": "markdown",
   "metadata": {},
   "source": [
    "### Результат приоритизации гипотез\n",
    "[(к оглавлению)](#begin)"
   ]
  },
  {
   "cell_type": "code",
   "execution_count": 11,
   "metadata": {},
   "outputs": [
    {
     "data": {
      "text/html": [
       "<div>\n",
       "<style scoped>\n",
       "    .dataframe tbody tr th:only-of-type {\n",
       "        vertical-align: middle;\n",
       "    }\n",
       "\n",
       "    .dataframe tbody tr th {\n",
       "        vertical-align: top;\n",
       "    }\n",
       "\n",
       "    .dataframe thead th {\n",
       "        text-align: right;\n",
       "    }\n",
       "</style>\n",
       "<table border=\"1\" class=\"dataframe\">\n",
       "  <thead>\n",
       "    <tr style=\"text-align: right;\">\n",
       "      <th></th>\n",
       "      <th>hypothesis</th>\n",
       "      <th>rice</th>\n",
       "    </tr>\n",
       "  </thead>\n",
       "  <tbody>\n",
       "    <tr>\n",
       "      <th>7</th>\n",
       "      <td>Добавить форму подписки на все основные страницы, чтобы собрать базу клиентов для email-рассылок</td>\n",
       "      <td>112.0</td>\n",
       "    </tr>\n",
       "    <tr>\n",
       "      <th>2</th>\n",
       "      <td>Добавить блоки рекомендаций товаров на сайт интернет магазина, чтобы повысить конверсию и средний чек заказа</td>\n",
       "      <td>56.0</td>\n",
       "    </tr>\n",
       "    <tr>\n",
       "      <th>0</th>\n",
       "      <td>Добавить два новых канала привлечения трафика, что позволит привлекать на 30% больше пользователей</td>\n",
       "      <td>40.0</td>\n",
       "    </tr>\n",
       "    <tr>\n",
       "      <th>6</th>\n",
       "      <td>Показать на главной странице баннеры с актуальными акциями и распродажами, чтобы увеличить конверсию</td>\n",
       "      <td>40.0</td>\n",
       "    </tr>\n",
       "  </tbody>\n",
       "</table>\n",
       "</div>"
      ],
      "text/plain": [
       "                                                                                                     hypothesis  \\\n",
       "7              Добавить форму подписки на все основные страницы, чтобы собрать базу клиентов для email-рассылок   \n",
       "2  Добавить блоки рекомендаций товаров на сайт интернет магазина, чтобы повысить конверсию и средний чек заказа   \n",
       "0            Добавить два новых канала привлечения трафика, что позволит привлекать на 30% больше пользователей   \n",
       "6          Показать на главной странице баннеры с актуальными акциями и распродажами, чтобы увеличить конверсию   \n",
       "\n",
       "    rice  \n",
       "7  112.0  \n",
       "2   56.0  \n",
       "0   40.0  \n",
       "6   40.0  "
      ]
     },
     "metadata": {},
     "output_type": "display_data"
    },
    {
     "data": {
      "text/html": [
       "<div>\n",
       "<style scoped>\n",
       "    .dataframe tbody tr th:only-of-type {\n",
       "        vertical-align: middle;\n",
       "    }\n",
       "\n",
       "    .dataframe tbody tr th {\n",
       "        vertical-align: top;\n",
       "    }\n",
       "\n",
       "    .dataframe thead th {\n",
       "        text-align: right;\n",
       "    }\n",
       "</style>\n",
       "<table border=\"1\" class=\"dataframe\">\n",
       "  <thead>\n",
       "    <tr style=\"text-align: right;\">\n",
       "      <th></th>\n",
       "      <th>hypothesis</th>\n",
       "      <th>ice</th>\n",
       "    </tr>\n",
       "  </thead>\n",
       "  <tbody>\n",
       "    <tr>\n",
       "      <th>8</th>\n",
       "      <td>Запустить акцию, дающую скидку на товар в день рождения</td>\n",
       "      <td>16.200000</td>\n",
       "    </tr>\n",
       "    <tr>\n",
       "      <th>0</th>\n",
       "      <td>Добавить два новых канала привлечения трафика, что позволит привлекать на 30% больше пользователей</td>\n",
       "      <td>13.333333</td>\n",
       "    </tr>\n",
       "    <tr>\n",
       "      <th>7</th>\n",
       "      <td>Добавить форму подписки на все основные страницы, чтобы собрать базу клиентов для email-рассылок</td>\n",
       "      <td>11.200000</td>\n",
       "    </tr>\n",
       "    <tr>\n",
       "      <th>6</th>\n",
       "      <td>Показать на главной странице баннеры с актуальными акциями и распродажами, чтобы увеличить конверсию</td>\n",
       "      <td>8.000000</td>\n",
       "    </tr>\n",
       "  </tbody>\n",
       "</table>\n",
       "</div>"
      ],
      "text/plain": [
       "                                                                                             hypothesis  \\\n",
       "8                                               Запустить акцию, дающую скидку на товар в день рождения   \n",
       "0    Добавить два новых канала привлечения трафика, что позволит привлекать на 30% больше пользователей   \n",
       "7      Добавить форму подписки на все основные страницы, чтобы собрать базу клиентов для email-рассылок   \n",
       "6  Показать на главной странице баннеры с актуальными акциями и распродажами, чтобы увеличить конверсию   \n",
       "\n",
       "         ice  \n",
       "8  16.200000  \n",
       "0  13.333333  \n",
       "7  11.200000  \n",
       "6   8.000000  "
      ]
     },
     "metadata": {},
     "output_type": "display_data"
    }
   ],
   "source": [
    "display(hypothesis[['hypothesis', 'rice']].sort_values(by='rice', ascending=False).head(4))\n",
    "display(hypothesis[['hypothesis', 'ice']].sort_values(by='ice', ascending=False).head(4))"
   ]
  },
  {
   "cell_type": "markdown",
   "metadata": {},
   "source": [
    "При проведении приоритизации гипотез методом ICE выделяются гипотезы: 8, 0, 7, 6. В то время как, при применении фреймворка RICE список гипотез уже: 7,2,0,6. Это связано с тем, что показатель reach выше чем у остальных, и данная гипотеза учитывает отхват пользователей. Таким образом, будет рассмотрена гипотеза о \"Добавлении двух новых каналов привлечения трафика, что позволит привлекать на 30% больше пользователей\"."
   ]
  },
  {
   "cell_type": "markdown",
   "metadata": {},
   "source": [
    "<a id=\"abtest\"></a>"
   ]
  },
  {
   "cell_type": "markdown",
   "metadata": {},
   "source": [
    "## Анализ A/B-теста\n",
    "[(к оглавлению)](#begin)"
   ]
  },
  {
   "cell_type": "markdown",
   "metadata": {},
   "source": [
    "Определим корректно ли разбиты пользователи на группы, а именно, не попали ли они в обе группы одновременно."
   ]
  },
  {
   "cell_type": "code",
   "execution_count": 12,
   "metadata": {},
   "outputs": [
    {
     "data": {
      "text/plain": [
       "4.85"
      ]
     },
     "metadata": {},
     "output_type": "display_data"
    }
   ],
   "source": [
    "double_visitors = np.intersect1d(orders.query('group == \"A\"')['visitor_id'].unique(),\n",
    "                   orders.query('group == \"B\"')['visitor_id'].unique())\n",
    "display(round((len(double_visitors) / orders['visitor_id'].count() * 100), 2))"
   ]
  },
  {
   "cell_type": "markdown",
   "metadata": {},
   "source": [
    "Меньше 5% от общего количества пользователей составляют покупатели которые попали в обе группы, рационально их будет исключить из дальнейшего участия в тестировании."
   ]
  },
  {
   "cell_type": "code",
   "execution_count": 13,
   "metadata": {},
   "outputs": [
    {
     "data": {
      "text/html": [
       "<div>\n",
       "<style scoped>\n",
       "    .dataframe tbody tr th:only-of-type {\n",
       "        vertical-align: middle;\n",
       "    }\n",
       "\n",
       "    .dataframe tbody tr th {\n",
       "        vertical-align: top;\n",
       "    }\n",
       "\n",
       "    .dataframe thead th {\n",
       "        text-align: right;\n",
       "    }\n",
       "</style>\n",
       "<table border=\"1\" class=\"dataframe\">\n",
       "  <thead>\n",
       "    <tr style=\"text-align: right;\">\n",
       "      <th></th>\n",
       "      <th>transaction_id</th>\n",
       "      <th>visitor_id</th>\n",
       "      <th>date</th>\n",
       "      <th>revenue</th>\n",
       "      <th>group</th>\n",
       "    </tr>\n",
       "  </thead>\n",
       "  <tbody>\n",
       "    <tr>\n",
       "      <th>0</th>\n",
       "      <td>3667963787</td>\n",
       "      <td>3312258926</td>\n",
       "      <td>2019-08-15</td>\n",
       "      <td>1650</td>\n",
       "      <td>B</td>\n",
       "    </tr>\n",
       "    <tr>\n",
       "      <th>1</th>\n",
       "      <td>2804400009</td>\n",
       "      <td>3642806036</td>\n",
       "      <td>2019-08-15</td>\n",
       "      <td>730</td>\n",
       "      <td>B</td>\n",
       "    </tr>\n",
       "    <tr>\n",
       "      <th>3</th>\n",
       "      <td>3797467345</td>\n",
       "      <td>1196621759</td>\n",
       "      <td>2019-08-15</td>\n",
       "      <td>9759</td>\n",
       "      <td>B</td>\n",
       "    </tr>\n",
       "    <tr>\n",
       "      <th>4</th>\n",
       "      <td>2282983706</td>\n",
       "      <td>2322279887</td>\n",
       "      <td>2019-08-15</td>\n",
       "      <td>2308</td>\n",
       "      <td>B</td>\n",
       "    </tr>\n",
       "    <tr>\n",
       "      <th>5</th>\n",
       "      <td>182168103</td>\n",
       "      <td>935554773</td>\n",
       "      <td>2019-08-15</td>\n",
       "      <td>2210</td>\n",
       "      <td>B</td>\n",
       "    </tr>\n",
       "    <tr>\n",
       "      <th>...</th>\n",
       "      <td>...</td>\n",
       "      <td>...</td>\n",
       "      <td>...</td>\n",
       "      <td>...</td>\n",
       "      <td>...</td>\n",
       "    </tr>\n",
       "    <tr>\n",
       "      <th>1191</th>\n",
       "      <td>3592955527</td>\n",
       "      <td>608641596</td>\n",
       "      <td>2019-08-14</td>\n",
       "      <td>16490</td>\n",
       "      <td>B</td>\n",
       "    </tr>\n",
       "    <tr>\n",
       "      <th>1192</th>\n",
       "      <td>2662137336</td>\n",
       "      <td>3733762160</td>\n",
       "      <td>2019-08-14</td>\n",
       "      <td>6490</td>\n",
       "      <td>B</td>\n",
       "    </tr>\n",
       "    <tr>\n",
       "      <th>1193</th>\n",
       "      <td>2203539145</td>\n",
       "      <td>370388673</td>\n",
       "      <td>2019-08-14</td>\n",
       "      <td>3190</td>\n",
       "      <td>A</td>\n",
       "    </tr>\n",
       "    <tr>\n",
       "      <th>1194</th>\n",
       "      <td>1807773912</td>\n",
       "      <td>573423106</td>\n",
       "      <td>2019-08-14</td>\n",
       "      <td>10550</td>\n",
       "      <td>A</td>\n",
       "    </tr>\n",
       "    <tr>\n",
       "      <th>1196</th>\n",
       "      <td>3936777065</td>\n",
       "      <td>2108080724</td>\n",
       "      <td>2019-08-15</td>\n",
       "      <td>202740</td>\n",
       "      <td>B</td>\n",
       "    </tr>\n",
       "  </tbody>\n",
       "</table>\n",
       "<p>1016 rows × 5 columns</p>\n",
       "</div>"
      ],
      "text/plain": [
       "      transaction_id  visitor_id        date  revenue group\n",
       "0         3667963787  3312258926  2019-08-15     1650     B\n",
       "1         2804400009  3642806036  2019-08-15      730     B\n",
       "3         3797467345  1196621759  2019-08-15     9759     B\n",
       "4         2282983706  2322279887  2019-08-15     2308     B\n",
       "5          182168103   935554773  2019-08-15     2210     B\n",
       "...              ...         ...         ...      ...   ...\n",
       "1191      3592955527   608641596  2019-08-14    16490     B\n",
       "1192      2662137336  3733762160  2019-08-14     6490     B\n",
       "1193      2203539145   370388673  2019-08-14     3190     A\n",
       "1194      1807773912   573423106  2019-08-14    10550     A\n",
       "1196      3936777065  2108080724  2019-08-15   202740     B\n",
       "\n",
       "[1016 rows x 5 columns]"
      ]
     },
     "execution_count": 13,
     "metadata": {},
     "output_type": "execute_result"
    }
   ],
   "source": [
    "orders[~orders['visitor_id'].isin(double_visitors)]"
   ]
  },
  {
   "cell_type": "markdown",
   "metadata": {},
   "source": [
    "<a id=\"graffic_1\"></a>"
   ]
  },
  {
   "cell_type": "markdown",
   "metadata": {},
   "source": [
    "### Построение графика кумулятивной выручки по группам.\n",
    "[(к оглавлению)](#begin)"
   ]
  },
  {
   "cell_type": "code",
   "execution_count": 14,
   "metadata": {},
   "outputs": [],
   "source": [
    "# создаем массив уникальных пар значений дат и групп теста\n",
    "datesGroups = orders[['date','group']].drop_duplicates()"
   ]
  },
  {
   "cell_type": "markdown",
   "metadata": {},
   "source": [
    "Агрегируем значения. Вычислим максимальную дату. Для группы тоже рассчитаем максимум, и хотя она будет определённой, сделаем это, чтобы столбец 'group' не пропал из итогового вывода. Найдём число уникальных ID заказов и пользователей. Подсчитаем сумму средних чеков, затем применим методы к каждой строке датафрейма и отсортируем результаты по столбцам ."
   ]
  },
  {
   "cell_type": "code",
   "execution_count": 15,
   "metadata": {},
   "outputs": [],
   "source": [
    "ordersAggregated = datesGroups.apply(lambda x: orders[np.logical_and(orders['date'] <= x['date'],\n",
    "                                                                     orders['group'] == x['group'])]\n",
    "                                     .agg({'date' : 'max', 'group' : 'max', 'transaction_id' : 'nunique',\n",
    "                                           'visitor_id' : 'nunique', 'revenue' : 'sum'})\n",
    "                                     , axis=1).sort_values(by=['date','group'])"
   ]
  },
  {
   "cell_type": "markdown",
   "metadata": {},
   "source": [
    "Аналогично получим агрегированные кумулятивные по дням данные о посетителях интернет-магазина:"
   ]
  },
  {
   "cell_type": "code",
   "execution_count": 16,
   "metadata": {},
   "outputs": [],
   "source": [
    "visitorsAggregated = datesGroups.apply(lambda x: visitors[np.logical_and(visitors['date'] <= x['date'],\n",
    "                                                                         visitors['group'] == x['group'])]\n",
    "                                       .agg({'date' : 'max', 'group' : 'max', 'visitors' : 'sum'})\n",
    "                                       , axis=1).sort_values(by=['date','group'])"
   ]
  },
  {
   "cell_type": "markdown",
   "metadata": {},
   "source": [
    "Объединяем кумулятивные данные в одной таблице и присваиваем ее столбцам понятные названия"
   ]
  },
  {
   "cell_type": "code",
   "execution_count": 17,
   "metadata": {},
   "outputs": [
    {
     "data": {
      "text/html": [
       "<div>\n",
       "<style scoped>\n",
       "    .dataframe tbody tr th:only-of-type {\n",
       "        vertical-align: middle;\n",
       "    }\n",
       "\n",
       "    .dataframe tbody tr th {\n",
       "        vertical-align: top;\n",
       "    }\n",
       "\n",
       "    .dataframe thead th {\n",
       "        text-align: right;\n",
       "    }\n",
       "</style>\n",
       "<table border=\"1\" class=\"dataframe\">\n",
       "  <thead>\n",
       "    <tr style=\"text-align: right;\">\n",
       "      <th></th>\n",
       "      <th>date</th>\n",
       "      <th>group</th>\n",
       "      <th>orders</th>\n",
       "      <th>buyers</th>\n",
       "      <th>revenue</th>\n",
       "      <th>visitors</th>\n",
       "    </tr>\n",
       "  </thead>\n",
       "  <tbody>\n",
       "    <tr>\n",
       "      <th>0</th>\n",
       "      <td>2019-08-01</td>\n",
       "      <td>A</td>\n",
       "      <td>24</td>\n",
       "      <td>20</td>\n",
       "      <td>148579</td>\n",
       "      <td>719</td>\n",
       "    </tr>\n",
       "    <tr>\n",
       "      <th>1</th>\n",
       "      <td>2019-08-01</td>\n",
       "      <td>B</td>\n",
       "      <td>21</td>\n",
       "      <td>20</td>\n",
       "      <td>101217</td>\n",
       "      <td>713</td>\n",
       "    </tr>\n",
       "    <tr>\n",
       "      <th>2</th>\n",
       "      <td>2019-08-02</td>\n",
       "      <td>A</td>\n",
       "      <td>44</td>\n",
       "      <td>38</td>\n",
       "      <td>242401</td>\n",
       "      <td>1338</td>\n",
       "    </tr>\n",
       "    <tr>\n",
       "      <th>3</th>\n",
       "      <td>2019-08-02</td>\n",
       "      <td>B</td>\n",
       "      <td>45</td>\n",
       "      <td>43</td>\n",
       "      <td>266748</td>\n",
       "      <td>1294</td>\n",
       "    </tr>\n",
       "    <tr>\n",
       "      <th>4</th>\n",
       "      <td>2019-08-03</td>\n",
       "      <td>A</td>\n",
       "      <td>68</td>\n",
       "      <td>62</td>\n",
       "      <td>354874</td>\n",
       "      <td>1845</td>\n",
       "    </tr>\n",
       "  </tbody>\n",
       "</table>\n",
       "</div>"
      ],
      "text/plain": [
       "         date group  orders  buyers  revenue  visitors\n",
       "0  2019-08-01     A      24      20   148579       719\n",
       "1  2019-08-01     B      21      20   101217       713\n",
       "2  2019-08-02     A      44      38   242401      1338\n",
       "3  2019-08-02     B      45      43   266748      1294\n",
       "4  2019-08-03     A      68      62   354874      1845"
      ]
     },
     "metadata": {},
     "output_type": "display_data"
    }
   ],
   "source": [
    "cumulativeData = ordersAggregated.merge(visitorsAggregated, left_on=['date', 'group'],\n",
    "                                        right_on=['date', 'group'])\n",
    "cumulativeData.columns = ['date', 'group', 'orders', 'buyers', 'revenue', 'visitors']\n",
    "display(cumulativeData.head()) "
   ]
  },
  {
   "cell_type": "code",
   "execution_count": 18,
   "metadata": {},
   "outputs": [
    {
     "data": {
      "image/png": "[encoded data removed]",
      "text/plain": [
       "<Figure size 864x360 with 1 Axes>"
      ]
     },
     "metadata": {
      "needs_background": "light"
     },
     "output_type": "display_data"
    }
   ],
   "source": [
    "fig, ax = plt.subplots(figsize=(12, 5))\n",
    "\n",
    "# датафрейм с кумулятивным количеством заказов и кумулятивной выручкой по дням в группе А\n",
    "cumulativeRevenueA = cumulativeData[cumulativeData['group']=='A'][['date','revenue', 'orders']]\n",
    "\n",
    "# датафрейм с кумулятивным количеством заказов и кумулятивной выручкой по дням в группе B\n",
    "cumulativeRevenueB = cumulativeData[cumulativeData['group']=='B'][['date','revenue', 'orders']]\n",
    "\n",
    "# Строим график выручки группы А\n",
    "plt.plot(cumulativeRevenueA['date'], cumulativeRevenueA['revenue'], label='A')\n",
    "\n",
    "# Строим график выручки группы B\n",
    "plt.plot(cumulativeRevenueB['date'], cumulativeRevenueB['revenue'], label='B')\n",
    "\n",
    "plt.legend()\n",
    "plt.xticks(rotation=90)\n",
    "plt.ylabel(\"выручка\")\n",
    "plt.xlabel(\"дата\")\n",
    "plt.title('График кумулятивной выручки по группам')\n",
    "plt.show()"
   ]
  },
  {
   "cell_type": "markdown",
   "metadata": {},
   "source": [
    "Наблюдается равномерное увеличение выручки, однако виден резкий скачок, что может сигнализировать о всплесках числа заказов, либо о появлении очень дорогих заказов в выборке."
   ]
  },
  {
   "cell_type": "markdown",
   "metadata": {},
   "source": [
    "<a id=\"graffic_2\"></a>"
   ]
  },
  {
   "cell_type": "markdown",
   "metadata": {},
   "source": [
    "### Построение графика кумулятивного среднего чека по группам. \n",
    "[(к оглавлению)](#begin)"
   ]
  },
  {
   "cell_type": "code",
   "execution_count": 19,
   "metadata": {},
   "outputs": [
    {
     "data": {
      "image/png": "[encoded data removed]",
      "text/plain": [
       "<Figure size 864x360 with 1 Axes>"
      ]
     },
     "metadata": {
      "needs_background": "light"
     },
     "output_type": "display_data"
    }
   ],
   "source": [
    "fig, ax = plt.subplots(figsize=(12, 5))\n",
    "plt.plot(cumulativeRevenueA['date'], cumulativeRevenueA['revenue']/cumulativeRevenueA['orders'], label='A')\n",
    "plt.plot(cumulativeRevenueB['date'], cumulativeRevenueB['revenue']/cumulativeRevenueB['orders'], label='B')\n",
    "plt.legend()\n",
    "plt.xticks(rotation=90)\n",
    "plt.ylabel(\"выручка\")\n",
    "plt.xlabel(\"дата\")\n",
    "plt.title('График кумулятивной выручки среднего чека по группам')\n",
    "plt.show()"
   ]
  },
  {
   "cell_type": "markdown",
   "metadata": {},
   "source": [
    "Средний чек также показывает резкий прирост выручки группы В, возможно в группу B попали крупные заказы (резкий всплеск на графике 19 числа). Тогда ей нужно больше данных, чтобы прийти к реальному среднему чеку и установиться на его уровне."
   ]
  },
  {
   "cell_type": "markdown",
   "metadata": {},
   "source": [
    "<a id=\"graffic_3\"></a>"
   ]
  },
  {
   "cell_type": "markdown",
   "metadata": {},
   "source": [
    "### Построение графика относительного изменения кумулятивного среднего чека группы B к группе A.\n",
    "[(к оглавлению)](#begin)"
   ]
  },
  {
   "cell_type": "code",
   "execution_count": 20,
   "metadata": {},
   "outputs": [
    {
     "data": {
      "image/png": "[encoded data removed]",
      "text/plain": [
       "<Figure size 864x360 with 1 Axes>"
      ]
     },
     "metadata": {
      "needs_background": "light"
     },
     "output_type": "display_data"
    }
   ],
   "source": [
    "# собираем данные в одном датафрейме\n",
    "mergedCumulativeRevenue = cumulativeRevenueA.merge(cumulativeRevenueB, left_on='date', right_on='date',\n",
    "                                                   how='left', suffixes=['A', 'B'])\n",
    "\n",
    "# cтроим отношение средних чеков\n",
    "fig, ax = plt.subplots(figsize=(12, 5))\n",
    "plt.plot(mergedCumulativeRevenue['date'], (mergedCumulativeRevenue['revenueB']\n",
    "                                           /mergedCumulativeRevenue['ordersB'])\n",
    "         /(mergedCumulativeRevenue['revenueA']\n",
    "           /mergedCumulativeRevenue['ordersA'])-1)\n",
    "\n",
    "# добавляем ось X\n",
    "plt.axhline(y=0, color='black', linestyle='--') \n",
    "plt.xticks(rotation=90)\n",
    "plt.title('график относительного изменения кумулятивного среднего чека группы B к группе A.')\n",
    "plt.xlabel(\"дата\")\n",
    "plt.ylabel(\"отношение\")\n",
    "plt.show()"
   ]
  },
  {
   "cell_type": "markdown",
   "metadata": {},
   "source": [
    "В нескольких точках график различия между сегментами резко «скачет», определенно есть большие заказы или выбросы. "
   ]
  },
  {
   "cell_type": "markdown",
   "metadata": {},
   "source": [
    "<a id=\"graffic_4\"></a>"
   ]
  },
  {
   "cell_type": "markdown",
   "metadata": {},
   "source": [
    "### Построение графика кумулятивной конверсии по группам. \n",
    "[(к оглавлению)](#begin)"
   ]
  },
  {
   "cell_type": "code",
   "execution_count": 21,
   "metadata": {},
   "outputs": [
    {
     "data": {
      "image/png": "[encoded data removed]",
      "text/plain": [
       "<Figure size 864x360 with 1 Axes>"
      ]
     },
     "metadata": {
      "needs_background": "light"
     },
     "output_type": "display_data"
    }
   ],
   "source": [
    "fig, ax = plt.subplots(figsize=(12, 5))\n",
    "# считаем кумулятивную конверсию\n",
    "cumulativeData['conversion'] = cumulativeData['orders']/cumulativeData['visitors']\n",
    "\n",
    "# отделяем данные по группе A\n",
    "cumulativeDataA = cumulativeData[cumulativeData['group']=='A']\n",
    "\n",
    "# отделяем данные по группе B\n",
    "cumulativeDataB = cumulativeData[cumulativeData['group']=='B']\n",
    "\n",
    "# строим графики\n",
    "plt.plot(cumulativeDataA['date'], cumulativeDataA['conversion'], label='A')\n",
    "plt.plot(cumulativeDataB['date'], cumulativeDataB['conversion'], label='B')\n",
    "plt.legend()\n",
    "\n",
    "# задаем масштаб осей\n",
    "plt.xticks(rotation=90)\n",
    "plt.title('График кумулятивной конверсии по группам.')\n",
    "plt.ylabel(\"конверсия\")\n",
    "plt.xlabel(\"дата\")\n",
    "plt.show()"
   ]
  },
  {
   "cell_type": "markdown",
   "metadata": {},
   "source": [
    "Наблюдаем резкие колебания в начале и постепенную стабилизацию со временем. Кумулятивная конверсия группы В значительно выше."
   ]
  },
  {
   "cell_type": "markdown",
   "metadata": {},
   "source": [
    "<a id=\"graffic_5\"></a>"
   ]
  },
  {
   "cell_type": "markdown",
   "metadata": {},
   "source": [
    "### Построение графика относительного различия кумулятивных конверсий.\n",
    "[(к оглавлению)](#begin)"
   ]
  },
  {
   "cell_type": "code",
   "execution_count": 22,
   "metadata": {},
   "outputs": [
    {
     "data": {
      "image/png": "[encoded data removed]",
      "text/plain": [
       "<Figure size 864x360 with 1 Axes>"
      ]
     },
     "metadata": {
      "needs_background": "light"
     },
     "output_type": "display_data"
    }
   ],
   "source": [
    "fig, ax = plt.subplots(figsize=(12, 5))\n",
    "mergedCumulativeConversions = cumulativeDataA[['date','conversion']].merge(cumulativeDataB[['date','conversion']],\n",
    "                                                                           left_on='date', right_on='date', how='left',\n",
    "                                                                           suffixes=['A', 'B'])\n",
    "\n",
    "plt.plot(mergedCumulativeConversions['date'], mergedCumulativeConversions['conversionB']\n",
    "         /mergedCumulativeConversions['conversionA']-1,\n",
    "         label=\"Относительный прирост конверсии группы B относительно группы A\")\n",
    "\n",
    "plt.legend()\n",
    "\n",
    "plt.axhline(y=0, color='black', linestyle='--')\n",
    "plt.axhline(y=0.15, color='grey', linestyle='--')\n",
    "plt.xticks(rotation=90)\n",
    "plt.title('график относительного различия кумулятивных конверсий.')\n",
    "plt.ylabel('конверсия')\n",
    "plt.xlabel('дата')\n",
    "plt.show()"
   ]
  },
  {
   "cell_type": "markdown",
   "metadata": {},
   "source": [
    "В начале теста группа B значительно проигрывала группе A, затем вырвалась вперёд. Потом её конверсия снова падала, но теперь постепенно растёт."
   ]
  },
  {
   "cell_type": "markdown",
   "metadata": {},
   "source": [
    "<a id=\"graffic_6\"></a>"
   ]
  },
  {
   "cell_type": "markdown",
   "metadata": {},
   "source": [
    "### Построение точечного графика количества заказов по пользователям.\n",
    "[(к оглавлению)](#begin)"
   ]
  },
  {
   "cell_type": "code",
   "execution_count": 23,
   "metadata": {},
   "outputs": [
    {
     "name": "stdout",
     "output_type": "stream",
     "text": [
      "         user_id  orders\n",
      "1023  4256040402      11\n",
      "591   2458001652      11\n",
      "569   2378935119       9\n",
      "487   2038680547       8\n",
      "44     199603092       5\n",
      "744   3062433592       5\n",
      "55     237748145       5\n",
      "917   3803269165       5\n",
      "299   1230306981       5\n",
      "897   3717692402       5\n"
     ]
    }
   ],
   "source": [
    "# сгруппируем данные\n",
    "ordersByUsers = (\n",
    "    orders.groupby('visitor_id', as_index=False)\n",
    "    .agg({'transaction_id': pd.Series.nunique})\n",
    ")\n",
    "\n",
    "ordersByUsers.columns = ['user_id', 'orders']\n",
    "\n",
    "print(ordersByUsers.sort_values(by='orders', ascending=False).head(10)) "
   ]
  },
  {
   "cell_type": "code",
   "execution_count": 24,
   "metadata": {},
   "outputs": [
    {
     "data": {
      "image/png": "[encoded data removed]",
      "text/plain": [
       "<Figure size 864x360 with 1 Axes>"
      ]
     },
     "metadata": {
      "needs_background": "light"
     },
     "output_type": "display_data"
    }
   ],
   "source": [
    "# Построим точечный график:\n",
    "fig, ax = plt.subplots(figsize=(12, 5))\n",
    "\n",
    "ordersByUsers_A = (orders\n",
    "                .query('group == \"A\"')\n",
    "                .groupby('visitor_id', as_index=False)\n",
    "                .agg({'transaction_id': pd.Series.nunique})\n",
    ")\n",
    "ordersByUsers_B = (orders\n",
    "                .query('group == \"B\"')\n",
    "                .groupby('visitor_id', as_index=False)\n",
    "                .agg({'transaction_id': pd.Series.nunique})\n",
    ")\n",
    "\n",
    "x_values_A = pd.Series(range(0,len(ordersByUsers_A)))\n",
    "x_values_B = pd.Series(range(0,len(ordersByUsers_B)))\n",
    "\n",
    "plt.scatter(x_values_A, ordersByUsers_A['transaction_id'], label=\"Группа A\", alpha=0.5) \n",
    "plt.scatter(x_values_B, ordersByUsers_B['transaction_id'], label=\"Группа B\", alpha=0.5) \n",
    "plt.ylabel(\"количество заказов\")\n",
    "plt.xlabel(\"пользователи\")\n",
    "plt.title('точечный график количества заказов по пользователям')\n",
    "plt.legend()\n",
    "plt.show()"
   ]
  },
  {
   "cell_type": "markdown",
   "metadata": {},
   "source": [
    "Много пользователей с 2-3 заказами. Считать их аномалиями или нет, мы не можем, поскольку их точная доля не ясна."
   ]
  },
  {
   "cell_type": "markdown",
   "metadata": {},
   "source": [
    "<a id=\"percentile_1\"></a>"
   ]
  },
  {
   "cell_type": "markdown",
   "metadata": {},
   "source": [
    "### Расчёт 95-го и 99-го перцентилей количества заказов на пользователя.\n",
    "[(к оглавлению)](#begin)"
   ]
  },
  {
   "cell_type": "code",
   "execution_count": 25,
   "metadata": {},
   "outputs": [
    {
     "data": {
      "text/plain": [
       "array([2., 4.])"
      ]
     },
     "metadata": {},
     "output_type": "display_data"
    }
   ],
   "source": [
    "display(np.percentile(ordersByUsers['orders'], [95, 99]))"
   ]
  },
  {
   "cell_type": "markdown",
   "metadata": {},
   "source": [
    "Не более 5% всех пользователей оформляли 2 заказа, и не более 1% - 4. Предлагаю выбрать нижнюю границу в 2 заказа,  и отсеять аномальных пользователей по ней."
   ]
  },
  {
   "cell_type": "markdown",
   "metadata": {},
   "source": [
    "<a id=\"graffic_7\"></a>"
   ]
  },
  {
   "cell_type": "markdown",
   "metadata": {},
   "source": [
    "### Построение точечного графика стоимостей заказов. \n",
    "[(к оглавлению)](#begin)"
   ]
  },
  {
   "cell_type": "code",
   "execution_count": 26,
   "metadata": {},
   "outputs": [
    {
     "data": {
      "image/png": "[encoded data removed]",
      "text/plain": [
       "<Figure size 864x360 with 1 Axes>"
      ]
     },
     "metadata": {
      "needs_background": "light"
     },
     "output_type": "display_data"
    }
   ],
   "source": [
    "fig, ax = plt.subplots(figsize=(12, 5))\n",
    "x_values = pd.Series(range(0,len(orders['revenue'])))\n",
    "plt.scatter(x_values, orders['revenue']) \n",
    "plt.ylabel(\"стоимость заказа\")\n",
    "plt.xlabel(\"пользователи\")\n",
    "plt.title('точечный график стоимостей заказов.')\n",
    "plt.show()"
   ]
  },
  {
   "cell_type": "markdown",
   "metadata": {},
   "source": [
    "Как и предполагалось, на графике видны аномально-большие заказы. "
   ]
  },
  {
   "cell_type": "markdown",
   "metadata": {},
   "source": [
    "<a id=\"percentile_2\"></a>"
   ]
  },
  {
   "cell_type": "markdown",
   "metadata": {},
   "source": [
    "### Расчёт 95-го и 99-го перцентилей стоимости заказов.\n",
    "[(к оглавлению)](#begin)"
   ]
  },
  {
   "cell_type": "code",
   "execution_count": 27,
   "metadata": {},
   "outputs": [
    {
     "data": {
      "text/plain": [
       "array([28000. , 58233.2])"
      ]
     },
     "metadata": {},
     "output_type": "display_data"
    }
   ],
   "source": [
    "display(np.percentile(orders['revenue'], [95, 99]))"
   ]
  },
  {
   "cell_type": "markdown",
   "metadata": {},
   "source": [
    "Не более 5% заказов дороже 28 000 рублей и не более 1% дороже 58234 рублей. За аномальные значения будем считать заказы дороже 28 000 рублей."
   ]
  },
  {
   "cell_type": "markdown",
   "metadata": {},
   "source": [
    "<a id=\"pvalue_1\"></a>"
   ]
  },
  {
   "cell_type": "markdown",
   "metadata": {},
   "source": [
    "###  Расчёт статистической значимости различий в конверсии между группами по «сырым» данным.\n",
    "[(к оглавлению)](#begin)"
   ]
  },
  {
   "cell_type": "markdown",
   "metadata": {},
   "source": [
    "Посчитаем статистическую значимость различий в конверсии и среднем чеке между группами по «сырым» данным — без удаления аномальных пользователей."
   ]
  },
  {
   "cell_type": "code",
   "execution_count": 28,
   "metadata": {},
   "outputs": [
    {
     "data": {
      "text/html": [
       "<div>\n",
       "<style scoped>\n",
       "    .dataframe tbody tr th:only-of-type {\n",
       "        vertical-align: middle;\n",
       "    }\n",
       "\n",
       "    .dataframe tbody tr th {\n",
       "        vertical-align: top;\n",
       "    }\n",
       "\n",
       "    .dataframe thead th {\n",
       "        text-align: right;\n",
       "    }\n",
       "</style>\n",
       "<table border=\"1\" class=\"dataframe\">\n",
       "  <thead>\n",
       "    <tr style=\"text-align: right;\">\n",
       "      <th></th>\n",
       "      <th>date</th>\n",
       "      <th>ordersPerDateA</th>\n",
       "      <th>revenuePerDateA</th>\n",
       "      <th>ordersPerDateB</th>\n",
       "      <th>revenuePerDateB</th>\n",
       "      <th>ordersCummulativeA</th>\n",
       "      <th>revenueCummulativeA</th>\n",
       "      <th>ordersCummulativeB</th>\n",
       "      <th>revenueCummulativeB</th>\n",
       "      <th>visitorsPerDateA</th>\n",
       "      <th>visitorsPerDateB</th>\n",
       "      <th>visitorsCummulativeA</th>\n",
       "      <th>visitorsCummulativeB</th>\n",
       "    </tr>\n",
       "  </thead>\n",
       "  <tbody>\n",
       "    <tr>\n",
       "      <th>0</th>\n",
       "      <td>2019-08-01</td>\n",
       "      <td>24</td>\n",
       "      <td>148579</td>\n",
       "      <td>21</td>\n",
       "      <td>101217</td>\n",
       "      <td>24</td>\n",
       "      <td>148579</td>\n",
       "      <td>21</td>\n",
       "      <td>101217</td>\n",
       "      <td>719</td>\n",
       "      <td>713</td>\n",
       "      <td>719</td>\n",
       "      <td>713</td>\n",
       "    </tr>\n",
       "    <tr>\n",
       "      <th>1</th>\n",
       "      <td>2019-08-02</td>\n",
       "      <td>20</td>\n",
       "      <td>93822</td>\n",
       "      <td>24</td>\n",
       "      <td>165531</td>\n",
       "      <td>44</td>\n",
       "      <td>242401</td>\n",
       "      <td>45</td>\n",
       "      <td>266748</td>\n",
       "      <td>619</td>\n",
       "      <td>581</td>\n",
       "      <td>1338</td>\n",
       "      <td>1294</td>\n",
       "    </tr>\n",
       "    <tr>\n",
       "      <th>2</th>\n",
       "      <td>2019-08-03</td>\n",
       "      <td>24</td>\n",
       "      <td>112473</td>\n",
       "      <td>16</td>\n",
       "      <td>114248</td>\n",
       "      <td>68</td>\n",
       "      <td>354874</td>\n",
       "      <td>61</td>\n",
       "      <td>380996</td>\n",
       "      <td>507</td>\n",
       "      <td>509</td>\n",
       "      <td>1845</td>\n",
       "      <td>1803</td>\n",
       "    </tr>\n",
       "    <tr>\n",
       "      <th>3</th>\n",
       "      <td>2019-08-04</td>\n",
       "      <td>16</td>\n",
       "      <td>70825</td>\n",
       "      <td>17</td>\n",
       "      <td>108571</td>\n",
       "      <td>84</td>\n",
       "      <td>425699</td>\n",
       "      <td>78</td>\n",
       "      <td>489567</td>\n",
       "      <td>717</td>\n",
       "      <td>770</td>\n",
       "      <td>2562</td>\n",
       "      <td>2573</td>\n",
       "    </tr>\n",
       "    <tr>\n",
       "      <th>4</th>\n",
       "      <td>2019-08-05</td>\n",
       "      <td>25</td>\n",
       "      <td>124218</td>\n",
       "      <td>23</td>\n",
       "      <td>92428</td>\n",
       "      <td>109</td>\n",
       "      <td>549917</td>\n",
       "      <td>101</td>\n",
       "      <td>581995</td>\n",
       "      <td>756</td>\n",
       "      <td>707</td>\n",
       "      <td>3318</td>\n",
       "      <td>3280</td>\n",
       "    </tr>\n",
       "  </tbody>\n",
       "</table>\n",
       "</div>"
      ],
      "text/plain": [
       "         date  ordersPerDateA  revenuePerDateA  ordersPerDateB  \\\n",
       "0  2019-08-01              24           148579              21   \n",
       "1  2019-08-02              20            93822              24   \n",
       "2  2019-08-03              24           112473              16   \n",
       "3  2019-08-04              16            70825              17   \n",
       "4  2019-08-05              25           124218              23   \n",
       "\n",
       "   revenuePerDateB  ordersCummulativeA  revenueCummulativeA  \\\n",
       "0           101217                  24               148579   \n",
       "1           165531                  44               242401   \n",
       "2           114248                  68               354874   \n",
       "3           108571                  84               425699   \n",
       "4            92428                 109               549917   \n",
       "\n",
       "   ordersCummulativeB  revenueCummulativeB  visitorsPerDateA  \\\n",
       "0                  21               101217               719   \n",
       "1                  45               266748               619   \n",
       "2                  61               380996               507   \n",
       "3                  78               489567               717   \n",
       "4                 101               581995               756   \n",
       "\n",
       "   visitorsPerDateB  visitorsCummulativeA  visitorsCummulativeB  \n",
       "0               713                   719                   713  \n",
       "1               581                  1338                  1294  \n",
       "2               509                  1845                  1803  \n",
       "3               770                  2562                  2573  \n",
       "4               707                  3318                  3280  "
      ]
     },
     "metadata": {},
     "output_type": "display_data"
    }
   ],
   "source": [
    "visitorsADaily = visitors[visitors['group'] == 'A'][['date', 'visitors']]\n",
    "visitorsADaily.columns = ['date', 'visitorsPerDateA']\n",
    "\n",
    "visitorsACummulative = visitorsADaily.apply(\n",
    "    lambda x: visitorsADaily[visitorsADaily['date'] <= x['date']].agg(\n",
    "        {'date': 'max', 'visitorsPerDateA': 'sum'}\n",
    "    ),\n",
    "    axis=1,\n",
    ")\n",
    "visitorsACummulative.columns = ['date', 'visitorsCummulativeA']\n",
    "\n",
    "visitorsBDaily = visitors[visitors['group'] == 'B'][['date', 'visitors']]\n",
    "visitorsBDaily.columns = ['date', 'visitorsPerDateB']\n",
    "\n",
    "visitorsBCummulative = visitorsBDaily.apply(\n",
    "    lambda x: visitorsBDaily[visitorsBDaily['date'] <= x['date']].agg(\n",
    "        {'date': 'max', 'visitorsPerDateB': 'sum'}\n",
    "    ),\n",
    "    axis=1,\n",
    ")\n",
    "visitorsBCummulative.columns = ['date', 'visitorsCummulativeB']\n",
    "\n",
    "ordersADaily = (\n",
    "    orders[orders['group'] == 'A'][['date', 'transaction_id', 'visitor_id', 'revenue']]\n",
    "    .groupby('date', as_index=False)\n",
    "    .agg({'transaction_id': pd.Series.nunique, 'revenue': 'sum'})\n",
    ")\n",
    "ordersADaily.columns = ['date', 'ordersPerDateA', 'revenuePerDateA']\n",
    "\n",
    "ordersACummulative = ordersADaily.apply(\n",
    "    lambda x: ordersADaily[ordersADaily['date'] <= x['date']].agg(\n",
    "        {'date': 'max', 'ordersPerDateA': 'sum', 'revenuePerDateA': 'sum'}\n",
    "    ),\n",
    "    axis=1,\n",
    ").sort_values(by=['date'])\n",
    "ordersACummulative.columns = [\n",
    "    'date',\n",
    "    'ordersCummulativeA',\n",
    "    'revenueCummulativeA',\n",
    "]\n",
    "\n",
    "ordersBDaily = (\n",
    "    orders[orders['group'] == 'B'][['date', 'transaction_id', 'visitor_id', 'revenue']]\n",
    "    .groupby('date', as_index=False)\n",
    "    .agg({'transaction_id': pd.Series.nunique, 'revenue': 'sum'})\n",
    ")\n",
    "ordersBDaily.columns = ['date', 'ordersPerDateB', 'revenuePerDateB']\n",
    "\n",
    "ordersBCummulative = ordersBDaily.apply(\n",
    "    lambda x: ordersBDaily[ordersBDaily['date'] <= x['date']].agg(\n",
    "        {'date': 'max', 'ordersPerDateB': 'sum', 'revenuePerDateB': 'sum'}\n",
    "    ),\n",
    "    axis=1,\n",
    ").sort_values(by=['date'])\n",
    "ordersBCummulative.columns = [\n",
    "    'date',\n",
    "    'ordersCummulativeB',\n",
    "    'revenueCummulativeB',\n",
    "]\n",
    "\n",
    "data = (\n",
    "    ordersADaily.merge(\n",
    "        ordersBDaily, left_on='date', right_on='date', how='left'\n",
    "    )\n",
    "    .merge(ordersACummulative, left_on='date', right_on='date', how='left')\n",
    "    .merge(ordersBCummulative, left_on='date', right_on='date', how='left')\n",
    "    .merge(visitorsADaily, left_on='date', right_on='date', how='left')\n",
    "    .merge(visitorsBDaily, left_on='date', right_on='date', how='left')\n",
    "    .merge(visitorsACummulative, left_on='date', right_on='date', how='left')\n",
    "    .merge(visitorsBCummulative, left_on='date', right_on='date', how='left')\n",
    ")\n",
    "\n",
    "display(data.head())"
   ]
  },
  {
   "cell_type": "markdown",
   "metadata": {},
   "source": [
    "Посчитаем статистическую значимость различия в конверсии между группами."
   ]
  },
  {
   "cell_type": "code",
   "execution_count": 29,
   "metadata": {},
   "outputs": [],
   "source": [
    "ordersByUsersA = (\n",
    "    orders[orders['group'] == 'A']\n",
    "    .groupby('visitor_id', as_index=False)\n",
    "    .agg({'transaction_id': pd.Series.nunique})\n",
    ")\n",
    "ordersByUsersA.columns = ['visitor_id', 'orders']\n",
    "\n",
    "ordersByUsersB = (\n",
    "    orders[orders['group'] == 'B']\n",
    "    .groupby('visitor_id', as_index=False)\n",
    "    .agg({'transaction_id': pd.Series.nunique})\n",
    "    \n",
    ")\n",
    "ordersByUsersB.columns = ['visitor_id', 'orders'] "
   ]
  },
  {
   "cell_type": "markdown",
   "metadata": {},
   "source": [
    "Объявим переменные sampleA и sampleB, в которых пользователям из разных групп будет соответствовать количество заказов. Тем, кто ничего не заказал, будут соответствовать нули. Это нужно, чтобы подготовить выборки к проверке критерием Манна-Уитни."
   ]
  },
  {
   "cell_type": "code",
   "execution_count": 30,
   "metadata": {},
   "outputs": [],
   "source": [
    "sampleA = pd.concat([ordersByUsersA['orders'],pd.Series(0, index=np.arange(data['visitorsPerDateA'].sum()\n",
    "                                                                           - len(ordersByUsersA['orders'])),\n",
    "                                                        name='orders')],axis=0)\n",
    "\n",
    "sampleB = pd.concat([ordersByUsersB['orders'],pd.Series(0, index=np.arange(data['visitorsPerDateB'].sum()\n",
    "                                                                           - len(ordersByUsersB['orders'])),\n",
    "                                                        name='orders')],axis=0)"
   ]
  },
  {
   "cell_type": "markdown",
   "metadata": {},
   "source": [
    "Выведем относительный прирост конверсии группы B. Округлим до трёх знаков после запятой."
   ]
  },
  {
   "cell_type": "markdown",
   "metadata": {},
   "source": [
    "<p>Нулевая гипотеза: статистически значимых различий в конверсии между группами по \"сырым\" данным нет.</p>\n",
    "<p>Альтернативная гипотеза: статистически значимых различий в конверсии между группами по \"сырым\" данным есть.</p>"
   ]
  },
  {
   "cell_type": "code",
   "execution_count": 31,
   "metadata": {
    "scrolled": true
   },
   "outputs": [
    {
     "data": {
      "text/plain": [
       "'p_value = 0.017'"
      ]
     },
     "metadata": {},
     "output_type": "display_data"
    },
    {
     "data": {
      "text/plain": [
       "'В/А = 0.138'"
      ]
     },
     "metadata": {},
     "output_type": "display_data"
    }
   ],
   "source": [
    "ordersByUsersA = (\n",
    "    orders[orders['group'] == 'A']\n",
    "    .groupby('visitor_id', as_index=False)\n",
    "    .agg({'transaction_id': pd.Series.nunique})\n",
    ")\n",
    "ordersByUsersA.columns = ['visitor_id', 'orders']\n",
    "\n",
    "ordersByUsersB = (\n",
    "    orders[orders['group'] == 'B']\n",
    "    .groupby('visitor_id', as_index=False)\n",
    "    .agg({'transaction_id': pd.Series.nunique})\n",
    ")\n",
    "ordersByUsersB.columns = ['visitor_id', 'orders']\n",
    "\n",
    "sampleA = pd.concat(\n",
    "    [\n",
    "        ordersByUsersA['orders'],\n",
    "        pd.Series(\n",
    "            0,\n",
    "            index=np.arange(\n",
    "                data['visitorsPerDateA'].sum() - len(ordersByUsersA['orders'])\n",
    "            ),\n",
    "            name='orders',\n",
    "        ),\n",
    "    ],\n",
    "    axis=0,\n",
    ")\n",
    "\n",
    "sampleB = pd.concat(\n",
    "    [\n",
    "        ordersByUsersB['orders'],\n",
    "        pd.Series(\n",
    "            0,\n",
    "            index=np.arange(\n",
    "                data['visitorsPerDateB'].sum() - len(ordersByUsersB['orders'])\n",
    "            ),\n",
    "            name='orders',\n",
    "        ),\n",
    "    ],\n",
    "    axis=0,\n",
    ")\n",
    "\n",
    "display(\"p_value = {0:.3f}\".format(stats.mannwhitneyu(sampleA, sampleB)[1]))\n",
    "\n",
    "display(\"В/А = {0:.3f}\".format(sampleB.mean() / sampleA.mean() - 1))\n"
   ]
  },
  {
   "cell_type": "markdown",
   "metadata": {},
   "source": [
    "p-value = 0.008,  меньше 0,05. Значит, нулевую гипотезу о том, что статистически значимых различий в конверсии между группами по \"сырым\" данным нет, отвергаем. 13,8% - выйгрыш группы В."
   ]
  },
  {
   "cell_type": "markdown",
   "metadata": {},
   "source": [
    "<a id=\"pvalue_2\"></a>"
   ]
  },
  {
   "cell_type": "markdown",
   "metadata": {},
   "source": [
    "### Расчёт статистической значимости различий в среднем чеке заказа между группами по «сырым» данным\n",
    "[(к оглавлению)](#begin)"
   ]
  },
  {
   "cell_type": "markdown",
   "metadata": {},
   "source": [
    "<p>Нулевая гипотеза: статистически значимых различий в среднем чеке заказа между группами по \"сырым\" данным нет .</p>\n",
    "<p>Альтернативная гипотеза: статистически значимых различий в среднем чеке заказа между группами по \"сырым\" данным есть.</p>"
   ]
  },
  {
   "cell_type": "code",
   "execution_count": 32,
   "metadata": {},
   "outputs": [
    {
     "data": {
      "text/plain": [
       "'p-value = 0.729'"
      ]
     },
     "metadata": {},
     "output_type": "display_data"
    },
    {
     "data": {
      "text/plain": [
       "'B/A = 0.259'"
      ]
     },
     "metadata": {},
     "output_type": "display_data"
    }
   ],
   "source": [
    "display('p-value = {0:.3f}'.format(stats.mannwhitneyu(orders[orders['group']=='A']['revenue'],\n",
    "                                            orders[orders['group']=='B']['revenue'])\n",
    "                         [1]))\n",
    "display('B/A = {0:.3f}'.format(orders[orders['group']=='B']['revenue'].mean()\n",
    "                         /orders[orders['group']=='A']['revenue'].mean()\n",
    "                         -1))"
   ]
  },
  {
   "cell_type": "markdown",
   "metadata": {},
   "source": [
    "P-value значительно больше 0.05. Значит, причин отвергать нулевую гипотезу и считать, что в среднем чеке есть различия, нет. Cредний чек группы B значительно выше среднего чека группы A, но поскольку p-value > alpha выборки не показывают статистически значимое различие."
   ]
  },
  {
   "cell_type": "markdown",
   "metadata": {},
   "source": [
    "<a id=\"pvalue_3\"></a>"
   ]
  },
  {
   "cell_type": "markdown",
   "metadata": {},
   "source": [
    "### Расчёт статистической значимости различий в конверсии между группами по «очищенным» данным\n",
    "[(к оглавлению)](#begin)"
   ]
  },
  {
   "cell_type": "code",
   "execution_count": 33,
   "metadata": {},
   "outputs": [
    {
     "name": "stdout",
     "output_type": "stream",
     "text": [
      "1099    148427295\n",
      "18      199603092\n",
      "928     204675465\n",
      "23      237748145\n",
      "37      249864742\n",
      "Name: visitor_id, dtype: int64\n",
      "(74,)\n"
     ]
    }
   ],
   "source": [
    "usersWithManyOrders = pd.concat(\n",
    "    [\n",
    "        ordersByUsersA[ordersByUsersA['orders'] > 2]['visitor_id'],\n",
    "        ordersByUsersB[ordersByUsersB['orders'] > 2]['visitor_id'],\n",
    "    ],\n",
    "    axis=0,\n",
    ")\n",
    "\n",
    "revenue_lim = np.percentile(orders['revenue'], 95)\n",
    "usersWithExpensiveOrders = orders[orders['revenue'] > revenue_lim]['visitor_id']\n",
    "\n",
    "abnormalUsers = (\n",
    "    pd.concat([usersWithManyOrders, usersWithExpensiveOrders], axis=0)\n",
    "    .drop_duplicates()\n",
    "    .sort_values()\n",
    ")\n",
    "print(abnormalUsers.head(5))\n",
    "print(abnormalUsers.shape) "
   ]
  },
  {
   "cell_type": "markdown",
   "metadata": {},
   "source": [
    "Всего 74 аномальных пользователя. "
   ]
  },
  {
   "cell_type": "markdown",
   "metadata": {},
   "source": [
    "<p>Нулевая гипотеза: статистически значимых различий в конверсии между группами по \"очищенным\" данным нет.</p>\n",
    "<p>Альтернативная гипотеза: статистически значимых различий в конверсии между группами по \"очищенным\" данным есть.</p>"
   ]
  },
  {
   "cell_type": "code",
   "execution_count": 34,
   "metadata": {},
   "outputs": [
    {
     "name": "stdout",
     "output_type": "stream",
     "text": [
      "p-value = 0.013\n",
      "B/A = 0.173\n"
     ]
    }
   ],
   "source": [
    "sampleAFiltered = pd.concat(\n",
    "    [\n",
    "        ordersByUsersA[\n",
    "            np.logical_not(ordersByUsersA['visitor_id'].isin(abnormalUsers))\n",
    "        ]['orders'],\n",
    "        pd.Series(\n",
    "            0,\n",
    "            index=np.arange(\n",
    "                data['visitorsPerDateA'].sum() - len(ordersByUsersA['orders'])\n",
    "            ),\n",
    "            name='orders',\n",
    "        ),\n",
    "    ],\n",
    "    axis=0,\n",
    ")\n",
    "\n",
    "sampleBFiltered = pd.concat(\n",
    "    [\n",
    "        ordersByUsersB[\n",
    "            np.logical_not(ordersByUsersB['visitor_id'].isin(abnormalUsers))\n",
    "        ]['orders'],\n",
    "        pd.Series(\n",
    "            0,\n",
    "            index=np.arange(\n",
    "                data['visitorsPerDateB'].sum() - len(ordersByUsersB['orders'])\n",
    "            ),\n",
    "            name='orders',\n",
    "        ),\n",
    "    ],\n",
    "    axis=0,\n",
    ")\n",
    "print('p-value = {0:.3f}'.format(stats.mannwhitneyu(sampleAFiltered, sampleBFiltered)[1]))\n",
    "print('B/A = {0:.3f}'.format(sampleBFiltered.mean()/sampleAFiltered.mean()-1))"
   ]
  },
  {
   "cell_type": "markdown",
   "metadata": {},
   "source": [
    "<p>Значение p-value после очистки данных практически не изменилось. А вот отношение конверсии группы В к А заметно улучшилось с 13.8% до 17.3% </p> <p> Пользователи группы В лучше конвертируются в покупателей. </p>"
   ]
  },
  {
   "cell_type": "markdown",
   "metadata": {},
   "source": [
    "<a id=\"pvalue_4\"></a>"
   ]
  },
  {
   "cell_type": "markdown",
   "metadata": {},
   "source": [
    "### Расчёт статистической значимости различий в среднем чеке заказа между группами по «очищенным» данным\n",
    "[(к оглавлению)](#begin)"
   ]
  },
  {
   "cell_type": "markdown",
   "metadata": {},
   "source": [
    "<p>Нулевая гипотеза: статистически значимых различий в среднем чеке заказа между группами по \"очищенным\" данным нет .</p>\n",
    "<p>Альтернативная гипотеза: статистически значимых различий в среднем чеке заказа между группами по \"очищенным\"  данным есть.</p>"
   ]
  },
  {
   "cell_type": "code",
   "execution_count": 35,
   "metadata": {},
   "outputs": [
    {
     "name": "stdout",
     "output_type": "stream",
     "text": [
      "p-value = 0.738\n",
      "B/A = -0.020\n"
     ]
    }
   ],
   "source": [
    "print(\n",
    "    'p-value = {0:.3f}'.format(\n",
    "        stats.mannwhitneyu(\n",
    "            orders[\n",
    "                np.logical_and(\n",
    "                    orders['group'] == 'A',\n",
    "                    np.logical_not(orders['visitor_id'].isin(abnormalUsers)),\n",
    "                )\n",
    "            ]['revenue'],\n",
    "            orders[\n",
    "                np.logical_and(\n",
    "                    orders['group'] == 'B',\n",
    "                    np.logical_not(orders['visitor_id'].isin(abnormalUsers)),\n",
    "                )\n",
    "            ]['revenue'],\n",
    "        )[1]\n",
    "    )\n",
    ")\n",
    "\n",
    "print(\n",
    "    \"B/A = {0:.3f}\".format(\n",
    "        orders[\n",
    "            np.logical_and(\n",
    "                orders['group'] == 'B',\n",
    "                np.logical_not(orders['visitor_id'].isin(abnormalUsers)),\n",
    "            )\n",
    "        ]['revenue'].mean()\n",
    "        / orders[\n",
    "            np.logical_and(\n",
    "                orders['group'] == 'A',\n",
    "                np.logical_not(orders['visitor_id'].isin(abnormalUsers)),\n",
    "            )\n",
    "        ]['revenue'].mean()\n",
    "        - 1\n",
    "    )\n",
    ")"
   ]
  },
  {
   "cell_type": "markdown",
   "metadata": {},
   "source": [
    "<p>P-value также значительно больше 0.05 . Значит, причин отвергать нулевую гипотезу и считать, что в среднем чеке есть различия, нет.</p>\n",
    "<p> После очистки данных изменилось отношение между сегментами, однако данные различия статистически не значимы."
   ]
  },
  {
   "cell_type": "markdown",
   "metadata": {},
   "source": [
    "<a id=\"decision\"></a>"
   ]
  },
  {
   "cell_type": "markdown",
   "metadata": {},
   "source": [
    "## Решение по результатам анализа теста.\n",
    "[(к оглавлению)](#begin)"
   ]
  },
  {
   "cell_type": "markdown",
   "metadata": {},
   "source": [
    "- Есть статистически значимые различия по конверсии между группами по «сырым» и по данным после фильтрации аномалий;\n",
    "- Статистически значимых различий по среднему чеку между группами по «сырым» и по данным после фильтрации аномалий нет.\n",
    "\n",
    "После очистки данных результаты конверсии пользователей группы В на 17.3% выше, чем группа А. Средний чек между сегментами не различается. "
   ]
  }
 ],
 "metadata": {
  "ExecuteTimeLog": [
   {
    "duration": 759,
    "start_time": "2022-03-13T14:24:36.944Z"
   },
   {
    "duration": 490,
    "start_time": "2022-03-13T14:24:37.706Z"
   },
   {
    "duration": 3,
    "start_time": "2022-03-13T14:24:44.233Z"
   },
   {
    "duration": 15,
    "start_time": "2022-03-13T14:24:44.664Z"
   },
   {
    "duration": 17,
    "start_time": "2022-03-13T14:24:55.758Z"
   },
   {
    "duration": 10,
    "start_time": "2022-03-13T14:25:09.397Z"
   },
   {
    "duration": 727,
    "start_time": "2022-03-13T14:26:51.803Z"
   },
   {
    "duration": 20,
    "start_time": "2022-03-13T14:26:52.533Z"
   },
   {
    "duration": 12,
    "start_time": "2022-03-13T14:26:52.555Z"
   },
   {
    "duration": 755,
    "start_time": "2022-03-13T14:27:13.819Z"
   },
   {
    "duration": 14,
    "start_time": "2022-03-13T14:27:14.577Z"
   },
   {
    "duration": 15,
    "start_time": "2022-03-13T14:27:14.594Z"
   },
   {
    "duration": 615,
    "start_time": "2022-03-13T14:31:49.985Z"
   },
   {
    "duration": 6,
    "start_time": "2022-03-13T14:33:10.803Z"
   },
   {
    "duration": 259,
    "start_time": "2022-03-13T14:33:41.669Z"
   },
   {
    "duration": 248,
    "start_time": "2022-03-13T14:33:49.567Z"
   },
   {
    "duration": 766,
    "start_time": "2022-03-13T14:33:53.986Z"
   },
   {
    "duration": 19,
    "start_time": "2022-03-13T14:33:54.754Z"
   },
   {
    "duration": 31,
    "start_time": "2022-03-13T14:33:54.776Z"
   },
   {
    "duration": 18,
    "start_time": "2022-03-13T14:33:54.810Z"
   },
   {
    "duration": 350,
    "start_time": "2022-03-13T14:33:54.831Z"
   },
   {
    "duration": 11,
    "start_time": "2022-03-13T14:34:03.098Z"
   },
   {
    "duration": 12,
    "start_time": "2022-03-13T14:36:42.275Z"
   },
   {
    "duration": 4,
    "start_time": "2022-03-13T14:37:18.445Z"
   },
   {
    "duration": 30,
    "start_time": "2022-03-13T14:40:05.543Z"
   },
   {
    "duration": 15,
    "start_time": "2022-03-13T14:40:13.414Z"
   },
   {
    "duration": 17,
    "start_time": "2022-03-13T14:46:44.148Z"
   },
   {
    "duration": 17,
    "start_time": "2022-03-13T14:46:58.050Z"
   },
   {
    "duration": 988,
    "start_time": "2022-03-13T15:05:43.767Z"
   },
   {
    "duration": 48,
    "start_time": "2022-03-13T15:05:44.759Z"
   },
   {
    "duration": 11,
    "start_time": "2022-03-13T15:05:44.811Z"
   },
   {
    "duration": 9,
    "start_time": "2022-03-13T15:05:44.825Z"
   },
   {
    "duration": 27,
    "start_time": "2022-03-13T15:05:44.836Z"
   },
   {
    "duration": 34,
    "start_time": "2022-03-13T15:05:44.866Z"
   },
   {
    "duration": 417,
    "start_time": "2022-03-14T12:17:14.530Z"
   },
   {
    "duration": 856,
    "start_time": "2022-03-14T12:17:20.187Z"
   },
   {
    "duration": 79,
    "start_time": "2022-03-14T12:17:21.045Z"
   },
   {
    "duration": 9,
    "start_time": "2022-03-14T12:17:21.127Z"
   },
   {
    "duration": 10,
    "start_time": "2022-03-14T12:17:21.138Z"
   },
   {
    "duration": 35,
    "start_time": "2022-03-14T12:17:21.152Z"
   },
   {
    "duration": 19,
    "start_time": "2022-03-14T12:17:21.190Z"
   },
   {
    "duration": 32,
    "start_time": "2022-03-14T12:17:21.212Z"
   },
   {
    "duration": 29,
    "start_time": "2022-03-14T12:19:22.519Z"
   },
   {
    "duration": 8,
    "start_time": "2022-03-14T12:19:37.805Z"
   },
   {
    "duration": 10,
    "start_time": "2022-03-14T12:20:09.034Z"
   },
   {
    "duration": 888,
    "start_time": "2022-03-14T13:48:43.124Z"
   },
   {
    "duration": 76,
    "start_time": "2022-03-14T13:48:44.015Z"
   },
   {
    "duration": 126,
    "start_time": "2022-03-14T13:48:44.094Z"
   },
   {
    "duration": -456,
    "start_time": "2022-03-14T13:48:44.679Z"
   },
   {
    "duration": -458,
    "start_time": "2022-03-14T13:48:44.682Z"
   },
   {
    "duration": -465,
    "start_time": "2022-03-14T13:48:44.691Z"
   },
   {
    "duration": -470,
    "start_time": "2022-03-14T13:48:44.697Z"
   },
   {
    "duration": -474,
    "start_time": "2022-03-14T13:48:44.702Z"
   },
   {
    "duration": 10,
    "start_time": "2022-03-14T13:48:51.996Z"
   },
   {
    "duration": 22,
    "start_time": "2022-03-14T13:49:06.091Z"
   },
   {
    "duration": 1676,
    "start_time": "2022-03-14T13:49:40.840Z"
   },
   {
    "duration": 10,
    "start_time": "2022-03-14T13:51:06.042Z"
   },
   {
    "duration": 1028,
    "start_time": "2022-03-14T13:51:10.252Z"
   },
   {
    "duration": 80,
    "start_time": "2022-03-14T13:51:11.283Z"
   },
   {
    "duration": 9,
    "start_time": "2022-03-14T13:51:11.366Z"
   },
   {
    "duration": 8,
    "start_time": "2022-03-14T13:51:11.378Z"
   },
   {
    "duration": 22,
    "start_time": "2022-03-14T13:51:11.388Z"
   },
   {
    "duration": 34,
    "start_time": "2022-03-14T13:51:11.413Z"
   },
   {
    "duration": 11,
    "start_time": "2022-03-14T13:51:11.450Z"
   },
   {
    "duration": 8625,
    "start_time": "2022-03-14T13:52:03.414Z"
   },
   {
    "duration": 8360,
    "start_time": "2022-03-14T13:52:31.059Z"
   },
   {
    "duration": 8,
    "start_time": "2022-03-14T13:54:39.201Z"
   },
   {
    "duration": 8240,
    "start_time": "2022-03-14T13:55:05.870Z"
   },
   {
    "duration": 10366,
    "start_time": "2022-03-14T13:55:23.936Z"
   },
   {
    "duration": 10,
    "start_time": "2022-03-14T13:56:35.461Z"
   },
   {
    "duration": 8511,
    "start_time": "2022-03-14T13:56:48.020Z"
   },
   {
    "duration": 9,
    "start_time": "2022-03-14T13:57:26.720Z"
   },
   {
    "duration": 20,
    "start_time": "2022-03-14T13:58:09.957Z"
   },
   {
    "duration": 419,
    "start_time": "2022-03-14T13:58:47.886Z"
   },
   {
    "duration": 320,
    "start_time": "2022-03-14T13:59:09.017Z"
   },
   {
    "duration": 12,
    "start_time": "2022-03-14T13:59:19.469Z"
   },
   {
    "duration": 19,
    "start_time": "2022-03-14T13:59:37.717Z"
   },
   {
    "duration": 9,
    "start_time": "2022-03-14T14:00:16.296Z"
   },
   {
    "duration": 514,
    "start_time": "2022-03-14T14:00:23.959Z"
   },
   {
    "duration": 608,
    "start_time": "2022-03-14T14:00:37.338Z"
   },
   {
    "duration": 494,
    "start_time": "2022-03-14T14:01:50.409Z"
   },
   {
    "duration": 538,
    "start_time": "2022-03-14T14:02:49.787Z"
   },
   {
    "duration": 480,
    "start_time": "2022-03-14T14:02:56.298Z"
   },
   {
    "duration": 629,
    "start_time": "2022-03-14T14:03:18.432Z"
   },
   {
    "duration": 625,
    "start_time": "2022-03-14T14:03:25.632Z"
   },
   {
    "duration": 499,
    "start_time": "2022-03-14T14:03:30.672Z"
   },
   {
    "duration": 823,
    "start_time": "2022-03-14T14:03:56.239Z"
   },
   {
    "duration": 471,
    "start_time": "2022-03-14T14:04:08.020Z"
   },
   {
    "duration": 469,
    "start_time": "2022-03-14T14:04:22.042Z"
   },
   {
    "duration": 616,
    "start_time": "2022-03-14T14:04:41.182Z"
   },
   {
    "duration": 752,
    "start_time": "2022-03-14T14:04:48.819Z"
   },
   {
    "duration": 637,
    "start_time": "2022-03-14T14:04:55.585Z"
   },
   {
    "duration": 708,
    "start_time": "2022-03-14T14:08:06.425Z"
   },
   {
    "duration": 619,
    "start_time": "2022-03-14T14:08:13.200Z"
   },
   {
    "duration": 487,
    "start_time": "2022-03-14T14:08:48.000Z"
   },
   {
    "duration": 671,
    "start_time": "2022-03-14T14:09:19.464Z"
   },
   {
    "duration": 597,
    "start_time": "2022-03-14T14:09:30.899Z"
   },
   {
    "duration": 463,
    "start_time": "2022-03-14T14:09:42.429Z"
   },
   {
    "duration": 624,
    "start_time": "2022-03-14T14:10:28.489Z"
   },
   {
    "duration": 470,
    "start_time": "2022-03-14T14:10:36.560Z"
   },
   {
    "duration": 486,
    "start_time": "2022-03-14T14:10:44.094Z"
   },
   {
    "duration": 1001,
    "start_time": "2022-03-14T14:10:57.982Z"
   },
   {
    "duration": 828,
    "start_time": "2022-03-14T14:11:15.180Z"
   },
   {
    "duration": 467,
    "start_time": "2022-03-14T14:11:22.059Z"
   },
   {
    "duration": 485,
    "start_time": "2022-03-14T14:11:28.347Z"
   },
   {
    "duration": 468,
    "start_time": "2022-03-14T14:11:38.177Z"
   },
   {
    "duration": 832,
    "start_time": "2022-03-14T14:11:45.528Z"
   },
   {
    "duration": 976,
    "start_time": "2022-03-14T14:11:54.511Z"
   },
   {
    "duration": 471,
    "start_time": "2022-03-14T14:12:01.263Z"
   },
   {
    "duration": 962,
    "start_time": "2022-03-14T14:12:49.870Z"
   },
   {
    "duration": 88,
    "start_time": "2022-03-14T14:12:50.836Z"
   },
   {
    "duration": 9,
    "start_time": "2022-03-14T14:12:50.927Z"
   },
   {
    "duration": 35,
    "start_time": "2022-03-14T14:12:50.939Z"
   },
   {
    "duration": 28,
    "start_time": "2022-03-14T14:12:50.978Z"
   },
   {
    "duration": 28,
    "start_time": "2022-03-14T14:12:51.010Z"
   },
   {
    "duration": 12,
    "start_time": "2022-03-14T14:12:51.041Z"
   },
   {
    "duration": 428,
    "start_time": "2022-03-14T14:12:51.057Z"
   },
   {
    "duration": 287,
    "start_time": "2022-03-14T14:12:51.489Z"
   },
   {
    "duration": 18,
    "start_time": "2022-03-14T14:12:51.779Z"
   },
   {
    "duration": 492,
    "start_time": "2022-03-14T14:12:51.799Z"
   },
   {
    "duration": 755,
    "start_time": "2022-03-14T14:13:53.728Z"
   },
   {
    "duration": 465,
    "start_time": "2022-03-14T14:14:16.925Z"
   },
   {
    "duration": 545,
    "start_time": "2022-03-14T14:15:20.655Z"
   },
   {
    "duration": 640,
    "start_time": "2022-03-14T14:18:50.901Z"
   },
   {
    "duration": 485,
    "start_time": "2022-03-14T14:19:20.009Z"
   },
   {
    "duration": 631,
    "start_time": "2022-03-14T14:19:45.982Z"
   },
   {
    "duration": 687,
    "start_time": "2022-03-14T14:22:15.430Z"
   },
   {
    "duration": 358,
    "start_time": "2022-03-14T14:22:33.711Z"
   },
   {
    "duration": 648,
    "start_time": "2022-03-14T14:22:39.526Z"
   },
   {
    "duration": 1039,
    "start_time": "2022-03-14T14:24:00.863Z"
   },
   {
    "duration": 87,
    "start_time": "2022-03-14T14:24:01.905Z"
   },
   {
    "duration": 11,
    "start_time": "2022-03-14T14:24:01.995Z"
   },
   {
    "duration": 21,
    "start_time": "2022-03-14T14:24:02.009Z"
   },
   {
    "duration": 31,
    "start_time": "2022-03-14T14:24:02.032Z"
   },
   {
    "duration": 21,
    "start_time": "2022-03-14T14:24:02.066Z"
   },
   {
    "duration": 25,
    "start_time": "2022-03-14T14:24:02.090Z"
   },
   {
    "duration": 319,
    "start_time": "2022-03-14T14:24:02.120Z"
   },
   {
    "duration": 258,
    "start_time": "2022-03-14T14:24:02.442Z"
   },
   {
    "duration": 42,
    "start_time": "2022-03-14T14:24:02.703Z"
   },
   {
    "duration": 644,
    "start_time": "2022-03-14T14:24:02.748Z"
   },
   {
    "duration": 453,
    "start_time": "2022-03-14T14:24:38.168Z"
   },
   {
    "duration": 543,
    "start_time": "2022-03-14T14:25:11.187Z"
   },
   {
    "duration": 543,
    "start_time": "2022-03-14T14:25:25.429Z"
   },
   {
    "duration": 510,
    "start_time": "2022-03-14T14:25:34.803Z"
   },
   {
    "duration": 665,
    "start_time": "2022-03-14T14:25:59.217Z"
   },
   {
    "duration": 560,
    "start_time": "2022-03-14T14:37:31.832Z"
   },
   {
    "duration": 697,
    "start_time": "2022-03-14T14:38:21.332Z"
   },
   {
    "duration": 645,
    "start_time": "2022-03-14T14:38:42.227Z"
   },
   {
    "duration": 504,
    "start_time": "2022-03-14T14:39:06.775Z"
   },
   {
    "duration": 704,
    "start_time": "2022-03-14T14:39:12.791Z"
   },
   {
    "duration": 333,
    "start_time": "2022-03-14T15:10:34.032Z"
   },
   {
    "duration": 462,
    "start_time": "2022-03-14T15:10:50.759Z"
   },
   {
    "duration": 466,
    "start_time": "2022-03-14T15:11:10.996Z"
   },
   {
    "duration": 525,
    "start_time": "2022-03-14T15:11:21.586Z"
   },
   {
    "duration": 631,
    "start_time": "2022-03-14T15:19:42.163Z"
   },
   {
    "duration": 580,
    "start_time": "2022-03-14T15:20:07.618Z"
   },
   {
    "duration": 798,
    "start_time": "2022-03-14T15:20:17.888Z"
   },
   {
    "duration": 315,
    "start_time": "2022-03-14T15:26:36.783Z"
   },
   {
    "duration": 357,
    "start_time": "2022-03-14T15:27:18.730Z"
   },
   {
    "duration": 349,
    "start_time": "2022-03-14T15:28:12.301Z"
   },
   {
    "duration": 409,
    "start_time": "2022-03-14T15:28:50.257Z"
   },
   {
    "duration": 409,
    "start_time": "2022-03-14T15:29:11.798Z"
   },
   {
    "duration": 655,
    "start_time": "2022-03-14T15:29:33.269Z"
   },
   {
    "duration": 422,
    "start_time": "2022-03-14T15:29:50.282Z"
   },
   {
    "duration": 436,
    "start_time": "2022-03-14T15:31:06.580Z"
   },
   {
    "duration": 910,
    "start_time": "2022-03-14T15:31:56.622Z"
   },
   {
    "duration": 156,
    "start_time": "2022-03-14T15:31:57.535Z"
   },
   {
    "duration": 10,
    "start_time": "2022-03-14T15:31:57.694Z"
   },
   {
    "duration": 5,
    "start_time": "2022-03-14T15:31:57.707Z"
   },
   {
    "duration": 37,
    "start_time": "2022-03-14T15:31:57.715Z"
   },
   {
    "duration": 19,
    "start_time": "2022-03-14T15:31:57.754Z"
   },
   {
    "duration": 8,
    "start_time": "2022-03-14T15:31:57.775Z"
   },
   {
    "duration": 356,
    "start_time": "2022-03-14T15:31:57.787Z"
   },
   {
    "duration": 266,
    "start_time": "2022-03-14T15:31:58.145Z"
   },
   {
    "duration": 36,
    "start_time": "2022-03-14T15:31:58.413Z"
   },
   {
    "duration": 581,
    "start_time": "2022-03-14T15:31:58.451Z"
   },
   {
    "duration": 536,
    "start_time": "2022-03-14T15:31:59.035Z"
   },
   {
    "duration": 630,
    "start_time": "2022-03-14T15:31:59.573Z"
   },
   {
    "duration": 611,
    "start_time": "2022-03-14T15:32:00.205Z"
   },
   {
    "duration": 684,
    "start_time": "2022-03-14T15:32:00.819Z"
   },
   {
    "duration": 221,
    "start_time": "2022-03-14T15:32:01.505Z"
   },
   {
    "duration": 593,
    "start_time": "2022-03-14T15:32:01.729Z"
   },
   {
    "duration": 7,
    "start_time": "2022-03-14T15:35:49.254Z"
   },
   {
    "duration": 472,
    "start_time": "2022-03-14T15:43:22.194Z"
   },
   {
    "duration": 468,
    "start_time": "2022-03-14T15:44:06.881Z"
   },
   {
    "duration": 7,
    "start_time": "2022-03-14T15:48:41.526Z"
   },
   {
    "duration": 429,
    "start_time": "2022-03-14T15:59:33.081Z"
   },
   {
    "duration": 319,
    "start_time": "2022-03-14T16:00:30.013Z"
   },
   {
    "duration": 339,
    "start_time": "2022-03-14T16:00:53.256Z"
   },
   {
    "duration": 9584,
    "start_time": "2022-03-14T16:01:02.849Z"
   },
   {
    "duration": 195,
    "start_time": "2022-03-14T16:03:45.593Z"
   },
   {
    "duration": 220,
    "start_time": "2022-03-14T16:03:49.449Z"
   },
   {
    "duration": 373,
    "start_time": "2022-03-14T16:04:45.611Z"
   },
   {
    "duration": 7687,
    "start_time": "2022-03-14T16:06:23.663Z"
   },
   {
    "duration": 394,
    "start_time": "2022-03-14T16:07:43.004Z"
   },
   {
    "duration": 277,
    "start_time": "2022-03-14T16:07:59.258Z"
   },
   {
    "duration": 7799,
    "start_time": "2022-03-14T16:08:12.402Z"
   },
   {
    "duration": 322,
    "start_time": "2022-03-14T16:09:03.532Z"
   },
   {
    "duration": 7540,
    "start_time": "2022-03-14T16:09:18.795Z"
   },
   {
    "duration": 8,
    "start_time": "2022-03-14T16:11:17.728Z"
   },
   {
    "duration": 10,
    "start_time": "2022-03-14T16:12:18.590Z"
   },
   {
    "duration": 9,
    "start_time": "2022-03-14T16:12:31.464Z"
   },
   {
    "duration": 330,
    "start_time": "2022-03-14T16:13:21.877Z"
   },
   {
    "duration": 639,
    "start_time": "2022-03-14T16:14:06.800Z"
   },
   {
    "duration": 1435,
    "start_time": "2022-03-14T16:15:12.662Z"
   },
   {
    "duration": 77,
    "start_time": "2022-03-14T16:15:14.100Z"
   },
   {
    "duration": 10,
    "start_time": "2022-03-14T16:15:14.180Z"
   },
   {
    "duration": 14,
    "start_time": "2022-03-14T16:15:14.192Z"
   },
   {
    "duration": 31,
    "start_time": "2022-03-14T16:15:14.208Z"
   },
   {
    "duration": 18,
    "start_time": "2022-03-14T16:15:14.241Z"
   },
   {
    "duration": 13,
    "start_time": "2022-03-14T16:15:14.261Z"
   },
   {
    "duration": 377,
    "start_time": "2022-03-14T16:15:14.278Z"
   },
   {
    "duration": 340,
    "start_time": "2022-03-14T16:15:14.659Z"
   },
   {
    "duration": 23,
    "start_time": "2022-03-14T16:15:15.003Z"
   },
   {
    "duration": 741,
    "start_time": "2022-03-14T16:15:15.045Z"
   },
   {
    "duration": 530,
    "start_time": "2022-03-14T16:15:15.789Z"
   },
   {
    "duration": 729,
    "start_time": "2022-03-14T16:15:16.322Z"
   },
   {
    "duration": 744,
    "start_time": "2022-03-14T16:15:17.054Z"
   },
   {
    "duration": 842,
    "start_time": "2022-03-14T16:15:17.801Z"
   },
   {
    "duration": 263,
    "start_time": "2022-03-14T16:15:18.651Z"
   },
   {
    "duration": 484,
    "start_time": "2022-03-14T16:15:18.917Z"
   },
   {
    "duration": 7,
    "start_time": "2022-03-14T16:15:19.404Z"
   },
   {
    "duration": 611,
    "start_time": "2022-03-14T16:15:19.414Z"
   },
   {
    "duration": 14,
    "start_time": "2022-03-14T16:15:20.028Z"
   },
   {
    "duration": 262,
    "start_time": "2022-03-14T16:15:20.045Z"
   },
   {
    "duration": 358,
    "start_time": "2022-03-14T16:15:20.310Z"
   },
   {
    "duration": 323,
    "start_time": "2022-03-14T16:15:20.673Z"
   },
   {
    "duration": 9,
    "start_time": "2022-03-14T16:15:20.999Z"
   },
   {
    "duration": 11,
    "start_time": "2022-03-14T16:15:21.010Z"
   },
   {
    "duration": 8,
    "start_time": "2022-03-14T16:15:21.043Z"
   },
   {
    "duration": 253,
    "start_time": "2022-03-14T16:15:21.053Z"
   },
   {
    "duration": 8243,
    "start_time": "2022-03-14T16:15:21.308Z"
   },
   {
    "duration": 18,
    "start_time": "2022-03-14T16:21:31.629Z"
   },
   {
    "duration": 20,
    "start_time": "2022-03-14T16:21:45.868Z"
   },
   {
    "duration": 15,
    "start_time": "2022-03-14T16:26:56.078Z"
   },
   {
    "duration": 7780,
    "start_time": "2022-03-14T16:28:08.320Z"
   },
   {
    "duration": 7535,
    "start_time": "2022-03-14T16:29:29.631Z"
   },
   {
    "duration": 17,
    "start_time": "2022-03-14T16:29:51.269Z"
   },
   {
    "duration": 13,
    "start_time": "2022-03-14T16:30:30.154Z"
   },
   {
    "duration": 26,
    "start_time": "2022-03-14T16:32:43.058Z"
   },
   {
    "duration": 1738,
    "start_time": "2022-03-14T16:49:23.647Z"
   },
   {
    "duration": 88,
    "start_time": "2022-03-14T16:49:25.388Z"
   },
   {
    "duration": 10,
    "start_time": "2022-03-14T16:49:25.480Z"
   },
   {
    "duration": 4,
    "start_time": "2022-03-14T16:49:25.493Z"
   },
   {
    "duration": 23,
    "start_time": "2022-03-14T16:49:25.500Z"
   },
   {
    "duration": 21,
    "start_time": "2022-03-14T16:49:25.525Z"
   },
   {
    "duration": 8,
    "start_time": "2022-03-14T16:49:25.549Z"
   },
   {
    "duration": 334,
    "start_time": "2022-03-14T16:49:25.560Z"
   },
   {
    "duration": 267,
    "start_time": "2022-03-14T16:49:25.896Z"
   },
   {
    "duration": 18,
    "start_time": "2022-03-14T16:49:26.166Z"
   },
   {
    "duration": 583,
    "start_time": "2022-03-14T16:49:26.187Z"
   },
   {
    "duration": 580,
    "start_time": "2022-03-14T16:49:26.772Z"
   },
   {
    "duration": 596,
    "start_time": "2022-03-14T16:49:27.355Z"
   },
   {
    "duration": 538,
    "start_time": "2022-03-14T16:49:27.954Z"
   },
   {
    "duration": 670,
    "start_time": "2022-03-14T16:49:28.495Z"
   },
   {
    "duration": 305,
    "start_time": "2022-03-14T16:49:29.168Z"
   },
   {
    "duration": 570,
    "start_time": "2022-03-14T16:49:29.476Z"
   },
   {
    "duration": 7,
    "start_time": "2022-03-14T16:49:30.049Z"
   },
   {
    "duration": 598,
    "start_time": "2022-03-14T16:49:30.059Z"
   },
   {
    "duration": 8,
    "start_time": "2022-03-14T16:49:30.660Z"
   },
   {
    "duration": 287,
    "start_time": "2022-03-14T16:49:30.671Z"
   },
   {
    "duration": 284,
    "start_time": "2022-03-14T16:49:30.961Z"
   },
   {
    "duration": 241,
    "start_time": "2022-03-14T16:49:31.252Z"
   },
   {
    "duration": 10,
    "start_time": "2022-03-14T16:49:31.496Z"
   },
   {
    "duration": 19,
    "start_time": "2022-03-14T16:49:31.508Z"
   },
   {
    "duration": 23,
    "start_time": "2022-03-14T16:49:31.529Z"
   },
   {
    "duration": 268,
    "start_time": "2022-03-14T16:49:31.555Z"
   },
   {
    "duration": 25,
    "start_time": "2022-03-14T16:49:31.825Z"
   },
   {
    "duration": 17,
    "start_time": "2022-03-14T16:49:31.853Z"
   },
   {
    "duration": 14,
    "start_time": "2022-03-14T16:49:31.873Z"
   },
   {
    "duration": 16,
    "start_time": "2022-03-14T16:49:31.890Z"
   },
   {
    "duration": 56,
    "start_time": "2022-03-14T16:49:31.908Z"
   },
   {
    "duration": 1337,
    "start_time": "2022-03-14T16:49:47.557Z"
   },
   {
    "duration": 72,
    "start_time": "2022-03-14T16:49:48.897Z"
   },
   {
    "duration": 9,
    "start_time": "2022-03-14T16:49:48.972Z"
   },
   {
    "duration": 5,
    "start_time": "2022-03-14T16:49:48.983Z"
   },
   {
    "duration": 20,
    "start_time": "2022-03-14T16:49:48.990Z"
   },
   {
    "duration": 34,
    "start_time": "2022-03-14T16:49:49.012Z"
   },
   {
    "duration": 9,
    "start_time": "2022-03-14T16:49:49.049Z"
   },
   {
    "duration": 435,
    "start_time": "2022-03-14T16:49:49.062Z"
   },
   {
    "duration": 360,
    "start_time": "2022-03-14T16:49:49.500Z"
   },
   {
    "duration": 23,
    "start_time": "2022-03-14T16:49:49.863Z"
   },
   {
    "duration": 564,
    "start_time": "2022-03-14T16:49:49.889Z"
   },
   {
    "duration": 542,
    "start_time": "2022-03-14T16:49:50.456Z"
   },
   {
    "duration": 1174,
    "start_time": "2022-03-14T16:49:51.001Z"
   },
   {
    "duration": 1474,
    "start_time": "2022-03-14T16:49:52.177Z"
   },
   {
    "duration": 968,
    "start_time": "2022-03-14T16:49:53.654Z"
   },
   {
    "duration": 208,
    "start_time": "2022-03-14T16:49:54.625Z"
   },
   {
    "duration": 500,
    "start_time": "2022-03-14T16:49:54.843Z"
   },
   {
    "duration": 8,
    "start_time": "2022-03-14T16:49:55.347Z"
   },
   {
    "duration": 488,
    "start_time": "2022-03-14T16:49:55.359Z"
   },
   {
    "duration": 9,
    "start_time": "2022-03-14T16:49:55.850Z"
   },
   {
    "duration": 231,
    "start_time": "2022-03-14T16:49:55.863Z"
   },
   {
    "duration": 283,
    "start_time": "2022-03-14T16:49:56.097Z"
   },
   {
    "duration": 246,
    "start_time": "2022-03-14T16:49:56.387Z"
   },
   {
    "duration": 16,
    "start_time": "2022-03-14T16:49:56.636Z"
   },
   {
    "duration": 20,
    "start_time": "2022-03-14T16:49:56.655Z"
   },
   {
    "duration": 11,
    "start_time": "2022-03-14T16:49:56.678Z"
   },
   {
    "duration": 271,
    "start_time": "2022-03-14T16:49:56.692Z"
   },
   {
    "duration": 16,
    "start_time": "2022-03-14T16:49:56.965Z"
   },
   {
    "duration": 14,
    "start_time": "2022-03-14T16:49:56.983Z"
   },
   {
    "duration": 52,
    "start_time": "2022-03-14T16:49:56.999Z"
   },
   {
    "duration": 13,
    "start_time": "2022-03-14T16:49:57.055Z"
   },
   {
    "duration": 20,
    "start_time": "2022-03-14T16:49:57.071Z"
   },
   {
    "duration": 1325,
    "start_time": "2022-03-14T16:52:49.081Z"
   },
   {
    "duration": 67,
    "start_time": "2022-03-14T16:52:50.409Z"
   },
   {
    "duration": 10,
    "start_time": "2022-03-14T16:52:50.482Z"
   },
   {
    "duration": 7,
    "start_time": "2022-03-14T16:52:50.494Z"
   },
   {
    "duration": 21,
    "start_time": "2022-03-14T16:52:50.504Z"
   },
   {
    "duration": 26,
    "start_time": "2022-03-14T16:52:50.528Z"
   },
   {
    "duration": 11,
    "start_time": "2022-03-14T16:52:50.557Z"
   },
   {
    "duration": 316,
    "start_time": "2022-03-14T16:52:50.572Z"
   },
   {
    "duration": 270,
    "start_time": "2022-03-14T16:52:50.891Z"
   },
   {
    "duration": 19,
    "start_time": "2022-03-14T16:52:51.164Z"
   },
   {
    "duration": 561,
    "start_time": "2022-03-14T16:52:51.185Z"
   },
   {
    "duration": 552,
    "start_time": "2022-03-14T16:52:51.749Z"
   },
   {
    "duration": 682,
    "start_time": "2022-03-14T16:52:52.304Z"
   },
   {
    "duration": 663,
    "start_time": "2022-03-14T16:52:52.990Z"
   },
   {
    "duration": 803,
    "start_time": "2022-03-14T16:52:53.656Z"
   },
   {
    "duration": 277,
    "start_time": "2022-03-14T16:52:54.462Z"
   },
   {
    "duration": 566,
    "start_time": "2022-03-14T16:52:54.744Z"
   },
   {
    "duration": 8,
    "start_time": "2022-03-14T16:52:55.313Z"
   },
   {
    "duration": 522,
    "start_time": "2022-03-14T16:52:55.323Z"
   },
   {
    "duration": 7,
    "start_time": "2022-03-14T16:52:55.849Z"
   },
   {
    "duration": 229,
    "start_time": "2022-03-14T16:52:55.859Z"
   },
   {
    "duration": 401,
    "start_time": "2022-03-14T16:52:56.090Z"
   },
   {
    "duration": 349,
    "start_time": "2022-03-14T16:52:56.494Z"
   },
   {
    "duration": 10,
    "start_time": "2022-03-14T16:52:56.846Z"
   },
   {
    "duration": 18,
    "start_time": "2022-03-14T16:52:56.859Z"
   },
   {
    "duration": 11,
    "start_time": "2022-03-14T16:52:56.884Z"
   },
   {
    "duration": 382,
    "start_time": "2022-03-14T16:52:56.897Z"
   },
   {
    "duration": 18,
    "start_time": "2022-03-14T16:52:57.282Z"
   },
   {
    "duration": 41,
    "start_time": "2022-03-14T16:52:57.303Z"
   },
   {
    "duration": 15,
    "start_time": "2022-03-14T16:52:57.347Z"
   },
   {
    "duration": 18,
    "start_time": "2022-03-14T16:52:57.364Z"
   },
   {
    "duration": 21,
    "start_time": "2022-03-14T16:52:57.385Z"
   },
   {
    "duration": 1477,
    "start_time": "2022-03-14T16:53:28.829Z"
   },
   {
    "duration": 80,
    "start_time": "2022-03-14T16:53:30.309Z"
   },
   {
    "duration": 9,
    "start_time": "2022-03-14T16:53:30.393Z"
   },
   {
    "duration": 23,
    "start_time": "2022-03-14T16:53:30.404Z"
   },
   {
    "duration": 25,
    "start_time": "2022-03-14T16:53:30.430Z"
   },
   {
    "duration": 17,
    "start_time": "2022-03-14T16:53:30.457Z"
   },
   {
    "duration": 8,
    "start_time": "2022-03-14T16:53:30.476Z"
   },
   {
    "duration": 335,
    "start_time": "2022-03-14T16:53:30.488Z"
   },
   {
    "duration": 269,
    "start_time": "2022-03-14T16:53:30.826Z"
   },
   {
    "duration": 18,
    "start_time": "2022-03-14T16:53:31.097Z"
   },
   {
    "duration": 567,
    "start_time": "2022-03-14T16:53:31.118Z"
   },
   {
    "duration": 560,
    "start_time": "2022-03-14T16:53:31.688Z"
   },
   {
    "duration": 630,
    "start_time": "2022-03-14T16:53:32.251Z"
   },
   {
    "duration": 580,
    "start_time": "2022-03-14T16:53:32.884Z"
   },
   {
    "duration": 732,
    "start_time": "2022-03-14T16:53:33.467Z"
   },
   {
    "duration": 254,
    "start_time": "2022-03-14T16:53:34.201Z"
   },
   {
    "duration": 458,
    "start_time": "2022-03-14T16:53:34.458Z"
   },
   {
    "duration": 23,
    "start_time": "2022-03-14T16:53:34.919Z"
   },
   {
    "duration": 482,
    "start_time": "2022-03-14T16:53:34.944Z"
   },
   {
    "duration": 6,
    "start_time": "2022-03-14T16:53:35.428Z"
   },
   {
    "duration": 215,
    "start_time": "2022-03-14T16:53:35.436Z"
   },
   {
    "duration": 275,
    "start_time": "2022-03-14T16:53:35.654Z"
   },
   {
    "duration": 220,
    "start_time": "2022-03-14T16:53:35.944Z"
   },
   {
    "duration": 9,
    "start_time": "2022-03-14T16:53:36.167Z"
   },
   {
    "duration": 9,
    "start_time": "2022-03-14T16:53:36.179Z"
   },
   {
    "duration": 9,
    "start_time": "2022-03-14T16:53:36.190Z"
   },
   {
    "duration": 276,
    "start_time": "2022-03-14T16:53:36.201Z"
   },
   {
    "duration": 17,
    "start_time": "2022-03-14T16:53:36.479Z"
   },
   {
    "duration": 14,
    "start_time": "2022-03-14T16:53:36.499Z"
   },
   {
    "duration": 36,
    "start_time": "2022-03-14T16:53:36.515Z"
   },
   {
    "duration": 14,
    "start_time": "2022-03-14T16:53:36.554Z"
   },
   {
    "duration": 22,
    "start_time": "2022-03-14T16:53:36.571Z"
   },
   {
    "duration": 300,
    "start_time": "2022-03-15T07:23:32.350Z"
   },
   {
    "duration": 1330,
    "start_time": "2022-03-15T07:23:36.416Z"
   },
   {
    "duration": 45,
    "start_time": "2022-03-15T07:23:37.748Z"
   },
   {
    "duration": 11,
    "start_time": "2022-03-15T07:23:37.796Z"
   },
   {
    "duration": 5,
    "start_time": "2022-03-15T07:23:37.811Z"
   },
   {
    "duration": 9,
    "start_time": "2022-03-15T07:23:37.818Z"
   },
   {
    "duration": 20,
    "start_time": "2022-03-15T07:23:37.829Z"
   },
   {
    "duration": 50,
    "start_time": "2022-03-15T07:23:37.851Z"
   },
   {
    "duration": 7,
    "start_time": "2022-03-15T07:23:37.905Z"
   },
   {
    "duration": 321,
    "start_time": "2022-03-15T07:23:37.914Z"
   },
   {
    "duration": 268,
    "start_time": "2022-03-15T07:23:38.238Z"
   },
   {
    "duration": 19,
    "start_time": "2022-03-15T07:23:38.509Z"
   },
   {
    "duration": 544,
    "start_time": "2022-03-15T07:23:38.531Z"
   },
   {
    "duration": 529,
    "start_time": "2022-03-15T07:23:39.077Z"
   },
   {
    "duration": 623,
    "start_time": "2022-03-15T07:23:39.608Z"
   },
   {
    "duration": 816,
    "start_time": "2022-03-15T07:23:40.288Z"
   },
   {
    "duration": 686,
    "start_time": "2022-03-15T07:23:41.107Z"
   },
   {
    "duration": 213,
    "start_time": "2022-03-15T07:23:41.796Z"
   },
   {
    "duration": 445,
    "start_time": "2022-03-15T07:23:42.011Z"
   },
   {
    "duration": 6,
    "start_time": "2022-03-15T07:23:42.459Z"
   },
   {
    "duration": 503,
    "start_time": "2022-03-15T07:23:42.467Z"
   },
   {
    "duration": 15,
    "start_time": "2022-03-15T07:23:42.972Z"
   },
   {
    "duration": 206,
    "start_time": "2022-03-15T07:23:42.990Z"
   },
   {
    "duration": 276,
    "start_time": "2022-03-15T07:23:43.201Z"
   },
   {
    "duration": 220,
    "start_time": "2022-03-15T07:23:43.480Z"
   },
   {
    "duration": 8,
    "start_time": "2022-03-15T07:23:43.703Z"
   },
   {
    "duration": 13,
    "start_time": "2022-03-15T07:23:43.714Z"
   },
   {
    "duration": 11,
    "start_time": "2022-03-15T07:23:43.730Z"
   },
   {
    "duration": 372,
    "start_time": "2022-03-15T07:23:43.744Z"
   },
   {
    "duration": 15,
    "start_time": "2022-03-15T07:23:44.118Z"
   },
   {
    "duration": 15,
    "start_time": "2022-03-15T07:23:44.136Z"
   },
   {
    "duration": 39,
    "start_time": "2022-03-15T07:23:44.154Z"
   },
   {
    "duration": 14,
    "start_time": "2022-03-15T07:23:44.196Z"
   },
   {
    "duration": 21,
    "start_time": "2022-03-15T07:23:44.212Z"
   },
   {
    "duration": 7,
    "start_time": "2022-03-15T07:26:24.275Z"
   },
   {
    "duration": 120,
    "start_time": "2022-03-15T07:26:37.002Z"
   },
   {
    "duration": 86,
    "start_time": "2022-03-15T07:27:18.829Z"
   },
   {
    "duration": 56,
    "start_time": "2022-03-15T07:27:49.241Z"
   },
   {
    "duration": 1366,
    "start_time": "2022-03-15T07:27:58.672Z"
   },
   {
    "duration": 58,
    "start_time": "2022-03-15T07:28:00.041Z"
   },
   {
    "duration": 7,
    "start_time": "2022-03-15T07:28:00.105Z"
   },
   {
    "duration": 106,
    "start_time": "2022-03-15T07:28:00.114Z"
   },
   {
    "duration": 123,
    "start_time": "2022-03-15T07:28:00.222Z"
   },
   {
    "duration": 85,
    "start_time": "2022-03-15T07:28:00.347Z"
   },
   {
    "duration": 14,
    "start_time": "2022-03-15T07:28:00.437Z"
   },
   {
    "duration": 19,
    "start_time": "2022-03-15T07:28:00.486Z"
   },
   {
    "duration": 32,
    "start_time": "2022-03-15T07:28:00.507Z"
   },
   {
    "duration": 6550,
    "start_time": "2022-03-15T07:28:00.541Z"
   },
   {
    "duration": -1418,
    "start_time": "2022-03-15T07:28:08.514Z"
   },
   {
    "duration": -1422,
    "start_time": "2022-03-15T07:28:08.520Z"
   },
   {
    "duration": -1426,
    "start_time": "2022-03-15T07:28:08.526Z"
   },
   {
    "duration": -1430,
    "start_time": "2022-03-15T07:28:08.532Z"
   },
   {
    "duration": -1432,
    "start_time": "2022-03-15T07:28:08.537Z"
   },
   {
    "duration": -1435,
    "start_time": "2022-03-15T07:28:08.542Z"
   },
   {
    "duration": -1436,
    "start_time": "2022-03-15T07:28:08.546Z"
   },
   {
    "duration": -1438,
    "start_time": "2022-03-15T07:28:08.550Z"
   },
   {
    "duration": -1441,
    "start_time": "2022-03-15T07:28:08.555Z"
   },
   {
    "duration": -1443,
    "start_time": "2022-03-15T07:28:08.559Z"
   },
   {
    "duration": -1444,
    "start_time": "2022-03-15T07:28:08.563Z"
   },
   {
    "duration": -1458,
    "start_time": "2022-03-15T07:28:08.579Z"
   },
   {
    "duration": -1461,
    "start_time": "2022-03-15T07:28:08.584Z"
   },
   {
    "duration": -1464,
    "start_time": "2022-03-15T07:28:08.590Z"
   },
   {
    "duration": -1469,
    "start_time": "2022-03-15T07:28:08.597Z"
   },
   {
    "duration": -1471,
    "start_time": "2022-03-15T07:28:08.601Z"
   },
   {
    "duration": -1474,
    "start_time": "2022-03-15T07:28:08.606Z"
   },
   {
    "duration": -1424,
    "start_time": "2022-03-15T07:28:08.611Z"
   },
   {
    "duration": -1426,
    "start_time": "2022-03-15T07:28:08.615Z"
   },
   {
    "duration": -1428,
    "start_time": "2022-03-15T07:28:08.620Z"
   },
   {
    "duration": -1433,
    "start_time": "2022-03-15T07:28:08.627Z"
   },
   {
    "duration": -1435,
    "start_time": "2022-03-15T07:28:08.631Z"
   },
   {
    "duration": -1436,
    "start_time": "2022-03-15T07:28:08.635Z"
   },
   {
    "duration": -1458,
    "start_time": "2022-03-15T07:28:08.659Z"
   },
   {
    "duration": 300,
    "start_time": "2022-03-15T07:28:38.830Z"
   },
   {
    "duration": 249,
    "start_time": "2022-03-15T07:28:48.815Z"
   },
   {
    "duration": 18,
    "start_time": "2022-03-15T07:28:49.275Z"
   },
   {
    "duration": 521,
    "start_time": "2022-03-15T07:28:51.811Z"
   },
   {
    "duration": 5,
    "start_time": "2022-03-15T07:31:57.162Z"
   },
   {
    "duration": 1298,
    "start_time": "2022-03-15T07:32:24.749Z"
   },
   {
    "duration": 47,
    "start_time": "2022-03-15T07:32:26.050Z"
   },
   {
    "duration": 7,
    "start_time": "2022-03-15T07:32:26.101Z"
   },
   {
    "duration": 121,
    "start_time": "2022-03-15T07:32:26.112Z"
   },
   {
    "duration": 164,
    "start_time": "2022-03-15T07:32:26.237Z"
   },
   {
    "duration": 5,
    "start_time": "2022-03-15T07:32:26.403Z"
   },
   {
    "duration": 89,
    "start_time": "2022-03-15T07:32:26.411Z"
   },
   {
    "duration": 16,
    "start_time": "2022-03-15T07:32:26.503Z"
   },
   {
    "duration": 17,
    "start_time": "2022-03-15T07:32:26.522Z"
   },
   {
    "duration": 47,
    "start_time": "2022-03-15T07:32:26.541Z"
   },
   {
    "duration": 311,
    "start_time": "2022-03-15T07:32:26.590Z"
   },
   {
    "duration": 269,
    "start_time": "2022-03-15T07:32:26.903Z"
   },
   {
    "duration": 17,
    "start_time": "2022-03-15T07:32:27.188Z"
   },
   {
    "duration": 537,
    "start_time": "2022-03-15T07:32:27.207Z"
   },
   {
    "duration": 970,
    "start_time": "2022-03-15T07:32:27.746Z"
   },
   {
    "duration": 1098,
    "start_time": "2022-03-15T07:32:28.719Z"
   },
   {
    "duration": 727,
    "start_time": "2022-03-15T07:32:29.820Z"
   },
   {
    "duration": 678,
    "start_time": "2022-03-15T07:32:30.549Z"
   },
   {
    "duration": 359,
    "start_time": "2022-03-15T07:32:31.230Z"
   },
   {
    "duration": -1304,
    "start_time": "2022-03-15T07:32:32.897Z"
   },
   {
    "duration": -1305,
    "start_time": "2022-03-15T07:32:32.900Z"
   },
   {
    "duration": -1308,
    "start_time": "2022-03-15T07:32:32.905Z"
   },
   {
    "duration": -1308,
    "start_time": "2022-03-15T07:32:32.908Z"
   },
   {
    "duration": -1309,
    "start_time": "2022-03-15T07:32:32.911Z"
   },
   {
    "duration": -1310,
    "start_time": "2022-03-15T07:32:32.914Z"
   },
   {
    "duration": -1311,
    "start_time": "2022-03-15T07:32:32.918Z"
   },
   {
    "duration": -1312,
    "start_time": "2022-03-15T07:32:32.921Z"
   },
   {
    "duration": -1313,
    "start_time": "2022-03-15T07:32:32.924Z"
   },
   {
    "duration": -1313,
    "start_time": "2022-03-15T07:32:32.927Z"
   },
   {
    "duration": -1336,
    "start_time": "2022-03-15T07:32:32.952Z"
   },
   {
    "duration": -1338,
    "start_time": "2022-03-15T07:32:32.956Z"
   },
   {
    "duration": -1344,
    "start_time": "2022-03-15T07:32:32.965Z"
   },
   {
    "duration": -1345,
    "start_time": "2022-03-15T07:32:32.968Z"
   },
   {
    "duration": -1347,
    "start_time": "2022-03-15T07:32:32.972Z"
   },
   {
    "duration": -1348,
    "start_time": "2022-03-15T07:32:32.975Z"
   },
   {
    "duration": 6,
    "start_time": "2022-03-15T07:32:55.739Z"
   },
   {
    "duration": 6102,
    "start_time": "2022-03-15T07:34:27.303Z"
   },
   {
    "duration": 311,
    "start_time": "2022-03-15T07:34:40.292Z"
   },
   {
    "duration": 618,
    "start_time": "2022-03-15T07:36:09.657Z"
   },
   {
    "duration": 215,
    "start_time": "2022-03-15T07:39:04.314Z"
   },
   {
    "duration": 1322,
    "start_time": "2022-03-15T07:42:44.134Z"
   },
   {
    "duration": 40,
    "start_time": "2022-03-15T07:42:45.459Z"
   },
   {
    "duration": 6,
    "start_time": "2022-03-15T07:42:45.503Z"
   },
   {
    "duration": 108,
    "start_time": "2022-03-15T07:42:45.512Z"
   },
   {
    "duration": 124,
    "start_time": "2022-03-15T07:42:45.622Z"
   },
   {
    "duration": 5,
    "start_time": "2022-03-15T07:42:45.748Z"
   },
   {
    "duration": 53,
    "start_time": "2022-03-15T07:42:45.787Z"
   },
   {
    "duration": 54,
    "start_time": "2022-03-15T07:42:45.845Z"
   },
   {
    "duration": 17,
    "start_time": "2022-03-15T07:42:45.902Z"
   },
   {
    "duration": 8,
    "start_time": "2022-03-15T07:42:45.922Z"
   },
   {
    "duration": 340,
    "start_time": "2022-03-15T07:42:45.932Z"
   },
   {
    "duration": 274,
    "start_time": "2022-03-15T07:42:46.275Z"
   },
   {
    "duration": 36,
    "start_time": "2022-03-15T07:42:46.552Z"
   },
   {
    "duration": 552,
    "start_time": "2022-03-15T07:42:46.591Z"
   },
   {
    "duration": 542,
    "start_time": "2022-03-15T07:42:47.145Z"
   },
   {
    "duration": 618,
    "start_time": "2022-03-15T07:42:47.689Z"
   },
   {
    "duration": 562,
    "start_time": "2022-03-15T07:42:48.310Z"
   },
   {
    "duration": 640,
    "start_time": "2022-03-15T07:42:48.874Z"
   },
   {
    "duration": 208,
    "start_time": "2022-03-15T07:42:49.516Z"
   },
   {
    "duration": 443,
    "start_time": "2022-03-15T07:42:49.726Z"
   },
   {
    "duration": 6,
    "start_time": "2022-03-15T07:42:50.171Z"
   },
   {
    "duration": 467,
    "start_time": "2022-03-15T07:42:50.187Z"
   },
   {
    "duration": 7,
    "start_time": "2022-03-15T07:42:50.658Z"
   },
   {
    "duration": 222,
    "start_time": "2022-03-15T07:42:50.668Z"
   },
   {
    "duration": 273,
    "start_time": "2022-03-15T07:42:50.892Z"
   },
   {
    "duration": 215,
    "start_time": "2022-03-15T07:42:51.168Z"
   },
   {
    "duration": 9,
    "start_time": "2022-03-15T07:42:51.388Z"
   },
   {
    "duration": 36,
    "start_time": "2022-03-15T07:42:51.399Z"
   },
   {
    "duration": 26,
    "start_time": "2022-03-15T07:42:51.437Z"
   },
   {
    "duration": 236,
    "start_time": "2022-03-15T07:42:51.466Z"
   },
   {
    "duration": 17,
    "start_time": "2022-03-15T07:42:51.704Z"
   },
   {
    "duration": 20,
    "start_time": "2022-03-15T07:42:51.724Z"
   },
   {
    "duration": 52,
    "start_time": "2022-03-15T07:42:51.747Z"
   },
   {
    "duration": 37,
    "start_time": "2022-03-15T07:42:51.801Z"
   },
   {
    "duration": 21,
    "start_time": "2022-03-15T07:42:51.842Z"
   },
   {
    "duration": 1339,
    "start_time": "2022-03-15T07:54:12.614Z"
   },
   {
    "duration": 46,
    "start_time": "2022-03-15T07:54:13.956Z"
   },
   {
    "duration": 6,
    "start_time": "2022-03-15T07:54:14.005Z"
   },
   {
    "duration": 106,
    "start_time": "2022-03-15T07:54:14.014Z"
   },
   {
    "duration": 164,
    "start_time": "2022-03-15T07:54:14.123Z"
   },
   {
    "duration": 6,
    "start_time": "2022-03-15T07:54:14.289Z"
   },
   {
    "duration": 61,
    "start_time": "2022-03-15T07:54:14.297Z"
   },
   {
    "duration": 21,
    "start_time": "2022-03-15T07:54:14.390Z"
   },
   {
    "duration": 33,
    "start_time": "2022-03-15T07:54:14.415Z"
   },
   {
    "duration": 37,
    "start_time": "2022-03-15T07:54:14.451Z"
   },
   {
    "duration": 316,
    "start_time": "2022-03-15T07:54:14.491Z"
   },
   {
    "duration": 279,
    "start_time": "2022-03-15T07:54:14.809Z"
   },
   {
    "duration": 20,
    "start_time": "2022-03-15T07:54:15.091Z"
   },
   {
    "duration": 571,
    "start_time": "2022-03-15T07:54:15.113Z"
   },
   {
    "duration": 510,
    "start_time": "2022-03-15T07:54:15.686Z"
   },
   {
    "duration": 615,
    "start_time": "2022-03-15T07:54:16.198Z"
   },
   {
    "duration": 551,
    "start_time": "2022-03-15T07:54:16.816Z"
   },
   {
    "duration": 655,
    "start_time": "2022-03-15T07:54:17.369Z"
   },
   {
    "duration": 203,
    "start_time": "2022-03-15T07:54:18.026Z"
   },
   {
    "duration": 429,
    "start_time": "2022-03-15T07:54:18.231Z"
   },
   {
    "duration": 6,
    "start_time": "2022-03-15T07:54:18.662Z"
   },
   {
    "duration": 464,
    "start_time": "2022-03-15T07:54:18.670Z"
   },
   {
    "duration": 6,
    "start_time": "2022-03-15T07:54:19.141Z"
   },
   {
    "duration": 213,
    "start_time": "2022-03-15T07:54:19.150Z"
   },
   {
    "duration": 286,
    "start_time": "2022-03-15T07:54:19.366Z"
   },
   {
    "duration": 234,
    "start_time": "2022-03-15T07:54:19.655Z"
   },
   {
    "duration": 10,
    "start_time": "2022-03-15T07:54:19.891Z"
   },
   {
    "duration": 11,
    "start_time": "2022-03-15T07:54:19.904Z"
   },
   {
    "duration": 11,
    "start_time": "2022-03-15T07:54:19.918Z"
   },
   {
    "duration": 269,
    "start_time": "2022-03-15T07:54:19.932Z"
   },
   {
    "duration": 16,
    "start_time": "2022-03-15T07:54:20.204Z"
   },
   {
    "duration": 13,
    "start_time": "2022-03-15T07:54:20.223Z"
   },
   {
    "duration": 48,
    "start_time": "2022-03-15T07:54:20.239Z"
   },
   {
    "duration": 9,
    "start_time": "2022-03-15T07:54:20.289Z"
   },
   {
    "duration": 24,
    "start_time": "2022-03-15T07:54:20.301Z"
   },
   {
    "duration": 19,
    "start_time": "2022-03-15T08:19:42.963Z"
   },
   {
    "duration": 10,
    "start_time": "2022-03-15T08:20:24.318Z"
   },
   {
    "duration": 8,
    "start_time": "2022-03-15T08:22:13.598Z"
   },
   {
    "duration": 13,
    "start_time": "2022-03-15T08:22:23.042Z"
   },
   {
    "duration": 12,
    "start_time": "2022-03-15T08:22:37.584Z"
   },
   {
    "duration": 1802,
    "start_time": "2022-03-15T08:23:26.860Z"
   },
   {
    "duration": 1367,
    "start_time": "2022-03-15T08:24:27.886Z"
   },
   {
    "duration": 46,
    "start_time": "2022-03-15T08:24:29.255Z"
   },
   {
    "duration": 21,
    "start_time": "2022-03-15T08:24:29.304Z"
   },
   {
    "duration": 124,
    "start_time": "2022-03-15T08:24:29.328Z"
   },
   {
    "duration": 145,
    "start_time": "2022-03-15T08:24:29.455Z"
   },
   {
    "duration": 4,
    "start_time": "2022-03-15T08:24:29.603Z"
   },
   {
    "duration": 91,
    "start_time": "2022-03-15T08:24:29.610Z"
   },
   {
    "duration": 15,
    "start_time": "2022-03-15T08:24:29.705Z"
   },
   {
    "duration": 29,
    "start_time": "2022-03-15T08:24:29.723Z"
   },
   {
    "duration": 39,
    "start_time": "2022-03-15T08:24:29.754Z"
   },
   {
    "duration": 313,
    "start_time": "2022-03-15T08:24:29.795Z"
   },
   {
    "duration": 281,
    "start_time": "2022-03-15T08:24:30.111Z"
   },
   {
    "duration": 20,
    "start_time": "2022-03-15T08:24:30.394Z"
   },
   {
    "duration": 659,
    "start_time": "2022-03-15T08:24:30.417Z"
   },
   {
    "duration": 539,
    "start_time": "2022-03-15T08:24:31.078Z"
   },
   {
    "duration": 616,
    "start_time": "2022-03-15T08:24:31.620Z"
   },
   {
    "duration": 565,
    "start_time": "2022-03-15T08:24:32.238Z"
   },
   {
    "duration": 629,
    "start_time": "2022-03-15T08:24:32.805Z"
   },
   {
    "duration": 365,
    "start_time": "2022-03-15T08:24:33.436Z"
   },
   {
    "duration": 531,
    "start_time": "2022-03-15T08:24:33.803Z"
   },
   {
    "duration": 6,
    "start_time": "2022-03-15T08:24:34.336Z"
   },
   {
    "duration": 529,
    "start_time": "2022-03-15T08:24:34.344Z"
   },
   {
    "duration": 6,
    "start_time": "2022-03-15T08:24:34.886Z"
   },
   {
    "duration": 203,
    "start_time": "2022-03-15T08:24:34.895Z"
   },
   {
    "duration": 266,
    "start_time": "2022-03-15T08:24:35.100Z"
   },
   {
    "duration": 234,
    "start_time": "2022-03-15T08:24:35.369Z"
   },
   {
    "duration": 9,
    "start_time": "2022-03-15T08:24:35.605Z"
   },
   {
    "duration": 15,
    "start_time": "2022-03-15T08:24:35.616Z"
   },
   {
    "duration": 14,
    "start_time": "2022-03-15T08:24:35.634Z"
   },
   {
    "duration": 242,
    "start_time": "2022-03-15T08:24:35.651Z"
   },
   {
    "duration": 19,
    "start_time": "2022-03-15T08:24:35.897Z"
   },
   {
    "duration": 14,
    "start_time": "2022-03-15T08:24:35.918Z"
   },
   {
    "duration": 12,
    "start_time": "2022-03-15T08:24:35.934Z"
   },
   {
    "duration": 22,
    "start_time": "2022-03-15T08:24:35.988Z"
   },
   {
    "duration": 21,
    "start_time": "2022-03-15T08:24:36.013Z"
   },
   {
    "duration": 1360,
    "start_time": "2022-03-15T08:37:40.797Z"
   },
   {
    "duration": 39,
    "start_time": "2022-03-15T08:37:42.160Z"
   },
   {
    "duration": 6,
    "start_time": "2022-03-15T08:37:42.202Z"
   },
   {
    "duration": 111,
    "start_time": "2022-03-15T08:37:42.211Z"
   },
   {
    "duration": 164,
    "start_time": "2022-03-15T08:37:42.325Z"
   },
   {
    "duration": 5,
    "start_time": "2022-03-15T08:37:42.491Z"
   },
   {
    "duration": 89,
    "start_time": "2022-03-15T08:37:42.498Z"
   },
   {
    "duration": 16,
    "start_time": "2022-03-15T08:37:42.591Z"
   },
   {
    "duration": 19,
    "start_time": "2022-03-15T08:37:42.610Z"
   },
   {
    "duration": 13,
    "start_time": "2022-03-15T08:37:42.632Z"
   },
   {
    "duration": 362,
    "start_time": "2022-03-15T08:37:42.647Z"
   },
   {
    "duration": 278,
    "start_time": "2022-03-15T08:37:43.012Z"
   },
   {
    "duration": 18,
    "start_time": "2022-03-15T08:37:43.292Z"
   },
   {
    "duration": 563,
    "start_time": "2022-03-15T08:37:43.312Z"
   },
   {
    "duration": 555,
    "start_time": "2022-03-15T08:37:43.877Z"
   },
   {
    "duration": 670,
    "start_time": "2022-03-15T08:37:44.434Z"
   },
   {
    "duration": 552,
    "start_time": "2022-03-15T08:37:45.107Z"
   },
   {
    "duration": 659,
    "start_time": "2022-03-15T08:37:45.663Z"
   },
   {
    "duration": 204,
    "start_time": "2022-03-15T08:37:46.325Z"
   },
   {
    "duration": 463,
    "start_time": "2022-03-15T08:37:46.532Z"
   },
   {
    "duration": 8,
    "start_time": "2022-03-15T08:37:46.998Z"
   },
   {
    "duration": 494,
    "start_time": "2022-03-15T08:37:47.009Z"
   },
   {
    "duration": 8,
    "start_time": "2022-03-15T08:37:47.510Z"
   },
   {
    "duration": 220,
    "start_time": "2022-03-15T08:37:47.522Z"
   },
   {
    "duration": 321,
    "start_time": "2022-03-15T08:37:47.745Z"
   },
   {
    "duration": 286,
    "start_time": "2022-03-15T08:37:48.069Z"
   },
   {
    "duration": 10,
    "start_time": "2022-03-15T08:37:48.358Z"
   },
   {
    "duration": 10,
    "start_time": "2022-03-15T08:37:48.386Z"
   },
   {
    "duration": 11,
    "start_time": "2022-03-15T08:37:48.400Z"
   },
   {
    "duration": 257,
    "start_time": "2022-03-15T08:37:48.413Z"
   },
   {
    "duration": 26,
    "start_time": "2022-03-15T08:37:48.673Z"
   },
   {
    "duration": 16,
    "start_time": "2022-03-15T08:37:48.702Z"
   },
   {
    "duration": 23,
    "start_time": "2022-03-15T08:37:48.721Z"
   },
   {
    "duration": 45,
    "start_time": "2022-03-15T08:37:48.747Z"
   },
   {
    "duration": 22,
    "start_time": "2022-03-15T08:37:48.795Z"
   },
   {
    "duration": 1375,
    "start_time": "2022-03-15T18:22:35.418Z"
   },
   {
    "duration": 69,
    "start_time": "2022-03-15T18:22:36.796Z"
   },
   {
    "duration": 7,
    "start_time": "2022-03-15T18:22:36.868Z"
   },
   {
    "duration": 106,
    "start_time": "2022-03-15T18:22:36.878Z"
   },
   {
    "duration": 126,
    "start_time": "2022-03-15T18:22:36.987Z"
   },
   {
    "duration": 6,
    "start_time": "2022-03-15T18:22:37.143Z"
   },
   {
    "duration": 92,
    "start_time": "2022-03-15T18:22:37.151Z"
   },
   {
    "duration": 16,
    "start_time": "2022-03-15T18:22:37.247Z"
   },
   {
    "duration": 21,
    "start_time": "2022-03-15T18:22:37.266Z"
   },
   {
    "duration": 10,
    "start_time": "2022-03-15T18:22:37.289Z"
   },
   {
    "duration": 346,
    "start_time": "2022-03-15T18:22:37.301Z"
   },
   {
    "duration": 266,
    "start_time": "2022-03-15T18:22:37.650Z"
   },
   {
    "duration": 30,
    "start_time": "2022-03-15T18:22:37.918Z"
   },
   {
    "duration": 559,
    "start_time": "2022-03-15T18:22:37.951Z"
   },
   {
    "duration": 546,
    "start_time": "2022-03-15T18:22:38.512Z"
   },
   {
    "duration": 598,
    "start_time": "2022-03-15T18:22:39.061Z"
   },
   {
    "duration": 551,
    "start_time": "2022-03-15T18:22:39.661Z"
   },
   {
    "duration": 658,
    "start_time": "2022-03-15T18:22:40.215Z"
   },
   {
    "duration": 240,
    "start_time": "2022-03-15T18:22:40.876Z"
   },
   {
    "duration": 531,
    "start_time": "2022-03-15T18:22:41.119Z"
   },
   {
    "duration": 7,
    "start_time": "2022-03-15T18:22:41.652Z"
   },
   {
    "duration": 491,
    "start_time": "2022-03-15T18:22:41.662Z"
   },
   {
    "duration": 6,
    "start_time": "2022-03-15T18:22:42.159Z"
   },
   {
    "duration": 231,
    "start_time": "2022-03-15T18:22:42.168Z"
   },
   {
    "duration": 303,
    "start_time": "2022-03-15T18:22:42.402Z"
   },
   {
    "duration": 224,
    "start_time": "2022-03-15T18:22:42.708Z"
   },
   {
    "duration": 13,
    "start_time": "2022-03-15T18:22:42.934Z"
   },
   {
    "duration": 9,
    "start_time": "2022-03-15T18:22:42.950Z"
   },
   {
    "duration": 15,
    "start_time": "2022-03-15T18:22:42.962Z"
   },
   {
    "duration": 246,
    "start_time": "2022-03-15T18:22:42.980Z"
   },
   {
    "duration": 25,
    "start_time": "2022-03-15T18:22:43.229Z"
   },
   {
    "duration": 15,
    "start_time": "2022-03-15T18:22:43.256Z"
   },
   {
    "duration": 12,
    "start_time": "2022-03-15T18:22:43.273Z"
   },
   {
    "duration": 16,
    "start_time": "2022-03-15T18:22:43.287Z"
   },
   {
    "duration": 20,
    "start_time": "2022-03-15T18:22:43.342Z"
   },
   {
    "duration": 5,
    "start_time": "2022-03-15T18:56:37.441Z"
   },
   {
    "duration": 7,
    "start_time": "2022-03-15T18:56:40.617Z"
   },
   {
    "duration": 1436,
    "start_time": "2022-03-15T19:02:05.161Z"
   },
   {
    "duration": 70,
    "start_time": "2022-03-15T19:02:06.600Z"
   },
   {
    "duration": 8,
    "start_time": "2022-03-15T19:02:06.673Z"
   },
   {
    "duration": 100,
    "start_time": "2022-03-15T19:02:06.684Z"
   },
   {
    "duration": 122,
    "start_time": "2022-03-15T19:02:06.787Z"
   },
   {
    "duration": 5,
    "start_time": "2022-03-15T19:02:06.943Z"
   },
   {
    "duration": 57,
    "start_time": "2022-03-15T19:02:06.950Z"
   },
   {
    "duration": 15,
    "start_time": "2022-03-15T19:02:07.043Z"
   },
   {
    "duration": 19,
    "start_time": "2022-03-15T19:02:07.061Z"
   },
   {
    "duration": 7,
    "start_time": "2022-03-15T19:02:07.083Z"
   },
   {
    "duration": 332,
    "start_time": "2022-03-15T19:02:07.092Z"
   },
   {
    "duration": 275,
    "start_time": "2022-03-15T19:02:07.427Z"
   },
   {
    "duration": 38,
    "start_time": "2022-03-15T19:02:07.705Z"
   },
   {
    "duration": 546,
    "start_time": "2022-03-15T19:02:07.745Z"
   },
   {
    "duration": 520,
    "start_time": "2022-03-15T19:02:08.295Z"
   },
   {
    "duration": 619,
    "start_time": "2022-03-15T19:02:08.817Z"
   },
   {
    "duration": 571,
    "start_time": "2022-03-15T19:02:09.438Z"
   },
   {
    "duration": 797,
    "start_time": "2022-03-15T19:02:10.012Z"
   },
   {
    "duration": 195,
    "start_time": "2022-03-15T19:02:10.812Z"
   },
   {
    "duration": 499,
    "start_time": "2022-03-15T19:02:11.010Z"
   },
   {
    "duration": 7,
    "start_time": "2022-03-15T19:02:11.511Z"
   },
   {
    "duration": 487,
    "start_time": "2022-03-15T19:02:11.520Z"
   },
   {
    "duration": 6,
    "start_time": "2022-03-15T19:02:12.012Z"
   },
   {
    "duration": 225,
    "start_time": "2022-03-15T19:02:12.020Z"
   },
   {
    "duration": 268,
    "start_time": "2022-03-15T19:02:12.247Z"
   },
   {
    "duration": 212,
    "start_time": "2022-03-15T19:02:12.518Z"
   },
   {
    "duration": 12,
    "start_time": "2022-03-15T19:02:12.732Z"
   },
   {
    "duration": 24,
    "start_time": "2022-03-15T19:02:12.747Z"
   },
   {
    "duration": 11,
    "start_time": "2022-03-15T19:02:12.773Z"
   },
   {
    "duration": 241,
    "start_time": "2022-03-15T19:02:12.787Z"
   },
   {
    "duration": 25,
    "start_time": "2022-03-15T19:02:13.031Z"
   },
   {
    "duration": 17,
    "start_time": "2022-03-15T19:02:13.058Z"
   },
   {
    "duration": 14,
    "start_time": "2022-03-15T19:02:13.077Z"
   },
   {
    "duration": 35,
    "start_time": "2022-03-15T19:02:13.094Z"
   },
   {
    "duration": 27,
    "start_time": "2022-03-15T19:02:13.131Z"
   },
   {
    "duration": 1406,
    "start_time": "2022-03-15T19:06:36.905Z"
   },
   {
    "duration": 68,
    "start_time": "2022-03-15T19:06:38.314Z"
   },
   {
    "duration": 8,
    "start_time": "2022-03-15T19:06:38.385Z"
   },
   {
    "duration": 100,
    "start_time": "2022-03-15T19:06:38.396Z"
   },
   {
    "duration": 155,
    "start_time": "2022-03-15T19:06:38.498Z"
   },
   {
    "duration": 7,
    "start_time": "2022-03-15T19:06:38.656Z"
   },
   {
    "duration": 99,
    "start_time": "2022-03-15T19:06:38.666Z"
   },
   {
    "duration": 17,
    "start_time": "2022-03-15T19:06:38.771Z"
   },
   {
    "duration": 61,
    "start_time": "2022-03-15T19:06:38.792Z"
   },
   {
    "duration": 7,
    "start_time": "2022-03-15T19:06:38.855Z"
   },
   {
    "duration": 352,
    "start_time": "2022-03-15T19:06:38.865Z"
   },
   {
    "duration": 274,
    "start_time": "2022-03-15T19:06:39.220Z"
   },
   {
    "duration": 19,
    "start_time": "2022-03-15T19:06:39.496Z"
   },
   {
    "duration": 578,
    "start_time": "2022-03-15T19:06:39.518Z"
   },
   {
    "duration": 547,
    "start_time": "2022-03-15T19:06:40.099Z"
   },
   {
    "duration": 628,
    "start_time": "2022-03-15T19:06:40.649Z"
   },
   {
    "duration": 557,
    "start_time": "2022-03-15T19:06:41.280Z"
   },
   {
    "duration": 649,
    "start_time": "2022-03-15T19:06:41.843Z"
   },
   {
    "duration": 212,
    "start_time": "2022-03-15T19:06:42.494Z"
   },
   {
    "duration": 504,
    "start_time": "2022-03-15T19:06:42.708Z"
   },
   {
    "duration": 32,
    "start_time": "2022-03-15T19:06:43.214Z"
   },
   {
    "duration": 499,
    "start_time": "2022-03-15T19:06:43.248Z"
   },
   {
    "duration": 7,
    "start_time": "2022-03-15T19:06:43.752Z"
   },
   {
    "duration": 206,
    "start_time": "2022-03-15T19:06:43.762Z"
   },
   {
    "duration": 300,
    "start_time": "2022-03-15T19:06:43.971Z"
   },
   {
    "duration": 260,
    "start_time": "2022-03-15T19:06:44.273Z"
   },
   {
    "duration": 10,
    "start_time": "2022-03-15T19:06:44.535Z"
   },
   {
    "duration": 9,
    "start_time": "2022-03-15T19:06:44.548Z"
   },
   {
    "duration": 9,
    "start_time": "2022-03-15T19:06:44.559Z"
   },
   {
    "duration": 349,
    "start_time": "2022-03-15T19:06:44.570Z"
   },
   {
    "duration": 21,
    "start_time": "2022-03-15T19:06:44.922Z"
   },
   {
    "duration": 16,
    "start_time": "2022-03-15T19:06:44.945Z"
   },
   {
    "duration": 14,
    "start_time": "2022-03-15T19:06:44.964Z"
   },
   {
    "duration": 14,
    "start_time": "2022-03-15T19:06:44.980Z"
   },
   {
    "duration": 22,
    "start_time": "2022-03-15T19:06:44.997Z"
   },
   {
    "duration": 1154,
    "start_time": "2022-03-16T13:58:31.077Z"
   },
   {
    "duration": 43,
    "start_time": "2022-03-16T13:58:32.234Z"
   },
   {
    "duration": 32,
    "start_time": "2022-03-16T13:58:32.279Z"
   },
   {
    "duration": 20,
    "start_time": "2022-03-16T13:58:32.313Z"
   },
   {
    "duration": 92,
    "start_time": "2022-03-16T13:58:32.335Z"
   },
   {
    "duration": 102,
    "start_time": "2022-03-16T13:58:32.429Z"
   },
   {
    "duration": 4,
    "start_time": "2022-03-16T13:58:32.534Z"
   },
   {
    "duration": 83,
    "start_time": "2022-03-16T13:58:32.542Z"
   },
   {
    "duration": 16,
    "start_time": "2022-03-16T13:58:32.628Z"
   },
   {
    "duration": 15,
    "start_time": "2022-03-16T13:58:32.645Z"
   },
   {
    "duration": 40,
    "start_time": "2022-03-16T13:58:32.661Z"
   },
   {
    "duration": 210,
    "start_time": "2022-03-16T13:58:32.703Z"
   },
   {
    "duration": 164,
    "start_time": "2022-03-16T13:58:32.915Z"
   },
   {
    "duration": 25,
    "start_time": "2022-03-16T13:58:33.081Z"
   },
   {
    "duration": 473,
    "start_time": "2022-03-16T13:58:33.108Z"
   },
   {
    "duration": 350,
    "start_time": "2022-03-16T13:58:33.582Z"
   },
   {
    "duration": 421,
    "start_time": "2022-03-16T13:58:33.934Z"
   },
   {
    "duration": 360,
    "start_time": "2022-03-16T13:58:34.357Z"
   },
   {
    "duration": 452,
    "start_time": "2022-03-16T13:58:34.719Z"
   },
   {
    "duration": 137,
    "start_time": "2022-03-16T13:58:35.173Z"
   },
   {
    "duration": 339,
    "start_time": "2022-03-16T13:58:35.312Z"
   },
   {
    "duration": 5,
    "start_time": "2022-03-16T13:58:35.654Z"
   },
   {
    "duration": 384,
    "start_time": "2022-03-16T13:58:35.664Z"
   },
   {
    "duration": 6,
    "start_time": "2022-03-16T13:58:36.051Z"
   },
   {
    "duration": 131,
    "start_time": "2022-03-16T13:58:36.058Z"
   },
   {
    "duration": 178,
    "start_time": "2022-03-16T13:58:36.191Z"
   },
   {
    "duration": 139,
    "start_time": "2022-03-16T13:58:36.370Z"
   },
   {
    "duration": 6,
    "start_time": "2022-03-16T13:58:36.511Z"
   },
   {
    "duration": 15,
    "start_time": "2022-03-16T13:58:36.519Z"
   },
   {
    "duration": 12,
    "start_time": "2022-03-16T13:58:36.536Z"
   },
   {
    "duration": 140,
    "start_time": "2022-03-16T13:58:36.550Z"
   },
   {
    "duration": 17,
    "start_time": "2022-03-16T13:58:36.692Z"
   },
   {
    "duration": 10,
    "start_time": "2022-03-16T13:58:36.711Z"
   },
   {
    "duration": 14,
    "start_time": "2022-03-16T13:58:36.723Z"
   },
   {
    "duration": 13,
    "start_time": "2022-03-16T13:58:36.739Z"
   },
   {
    "duration": 14,
    "start_time": "2022-03-16T13:58:36.754Z"
   },
   {
    "duration": 1057,
    "start_time": "2022-03-16T14:04:46.234Z"
   },
   {
    "duration": 40,
    "start_time": "2022-03-16T14:04:47.293Z"
   },
   {
    "duration": 6,
    "start_time": "2022-03-16T14:04:47.336Z"
   },
   {
    "duration": 6,
    "start_time": "2022-03-16T14:04:47.345Z"
   },
   {
    "duration": 85,
    "start_time": "2022-03-16T14:04:47.353Z"
   },
   {
    "duration": 94,
    "start_time": "2022-03-16T14:04:47.440Z"
   },
   {
    "duration": 5,
    "start_time": "2022-03-16T14:04:47.536Z"
   },
   {
    "duration": 76,
    "start_time": "2022-03-16T14:04:47.545Z"
   },
   {
    "duration": 18,
    "start_time": "2022-03-16T14:04:47.623Z"
   },
   {
    "duration": 14,
    "start_time": "2022-03-16T14:04:47.643Z"
   },
   {
    "duration": 11,
    "start_time": "2022-03-16T14:04:47.659Z"
   },
   {
    "duration": 205,
    "start_time": "2022-03-16T14:04:47.702Z"
   },
   {
    "duration": 168,
    "start_time": "2022-03-16T14:04:47.908Z"
   },
   {
    "duration": 30,
    "start_time": "2022-03-16T14:04:48.078Z"
   },
   {
    "duration": 352,
    "start_time": "2022-03-16T14:04:48.110Z"
   },
   {
    "duration": 591,
    "start_time": "2022-03-16T14:04:48.464Z"
   },
   {
    "duration": 718,
    "start_time": "2022-03-16T14:04:49.057Z"
   },
   {
    "duration": 370,
    "start_time": "2022-03-16T14:04:49.777Z"
   },
   {
    "duration": 476,
    "start_time": "2022-03-16T14:04:50.149Z"
   },
   {
    "duration": 132,
    "start_time": "2022-03-16T14:04:50.626Z"
   },
   {
    "duration": 397,
    "start_time": "2022-03-16T14:04:50.759Z"
   },
   {
    "duration": 4,
    "start_time": "2022-03-16T14:04:51.158Z"
   },
   {
    "duration": 364,
    "start_time": "2022-03-16T14:04:51.165Z"
   },
   {
    "duration": 5,
    "start_time": "2022-03-16T14:04:51.531Z"
   },
   {
    "duration": 131,
    "start_time": "2022-03-16T14:04:51.538Z"
   },
   {
    "duration": 185,
    "start_time": "2022-03-16T14:04:51.671Z"
   },
   {
    "duration": 122,
    "start_time": "2022-03-16T14:04:51.858Z"
   },
   {
    "duration": 7,
    "start_time": "2022-03-16T14:04:51.982Z"
   },
   {
    "duration": 17,
    "start_time": "2022-03-16T14:04:51.990Z"
   },
   {
    "duration": 8,
    "start_time": "2022-03-16T14:04:52.009Z"
   },
   {
    "duration": 156,
    "start_time": "2022-03-16T14:04:52.019Z"
   },
   {
    "duration": 29,
    "start_time": "2022-03-16T14:04:52.177Z"
   },
   {
    "duration": 9,
    "start_time": "2022-03-16T14:04:52.208Z"
   },
   {
    "duration": 15,
    "start_time": "2022-03-16T14:04:52.219Z"
   },
   {
    "duration": 14,
    "start_time": "2022-03-16T14:04:52.235Z"
   },
   {
    "duration": 15,
    "start_time": "2022-03-16T14:04:52.251Z"
   },
   {
    "duration": 1143,
    "start_time": "2022-03-16T14:05:22.362Z"
   },
   {
    "duration": 42,
    "start_time": "2022-03-16T14:05:23.507Z"
   },
   {
    "duration": 40,
    "start_time": "2022-03-16T14:05:23.551Z"
   },
   {
    "duration": 10,
    "start_time": "2022-03-16T14:05:23.593Z"
   },
   {
    "duration": 1949,
    "start_time": "2022-03-16T14:05:23.605Z"
   },
   {
    "duration": -1380,
    "start_time": "2022-03-16T14:05:26.937Z"
   },
   {
    "duration": -1384,
    "start_time": "2022-03-16T14:05:26.943Z"
   },
   {
    "duration": -1397,
    "start_time": "2022-03-16T14:05:26.957Z"
   },
   {
    "duration": -1401,
    "start_time": "2022-03-16T14:05:26.962Z"
   },
   {
    "duration": -1405,
    "start_time": "2022-03-16T14:05:26.967Z"
   },
   {
    "duration": -1408,
    "start_time": "2022-03-16T14:05:26.971Z"
   },
   {
    "duration": -1411,
    "start_time": "2022-03-16T14:05:26.975Z"
   },
   {
    "duration": -1414,
    "start_time": "2022-03-16T14:05:26.979Z"
   },
   {
    "duration": -1418,
    "start_time": "2022-03-16T14:05:26.984Z"
   },
   {
    "duration": -1421,
    "start_time": "2022-03-16T14:05:26.988Z"
   },
   {
    "duration": -1424,
    "start_time": "2022-03-16T14:05:26.992Z"
   },
   {
    "duration": -1426,
    "start_time": "2022-03-16T14:05:26.996Z"
   },
   {
    "duration": -1430,
    "start_time": "2022-03-16T14:05:27.001Z"
   },
   {
    "duration": -1433,
    "start_time": "2022-03-16T14:05:27.004Z"
   },
   {
    "duration": -1437,
    "start_time": "2022-03-16T14:05:27.009Z"
   },
   {
    "duration": -1440,
    "start_time": "2022-03-16T14:05:27.013Z"
   },
   {
    "duration": -1443,
    "start_time": "2022-03-16T14:05:27.017Z"
   },
   {
    "duration": -1446,
    "start_time": "2022-03-16T14:05:27.021Z"
   },
   {
    "duration": -1449,
    "start_time": "2022-03-16T14:05:27.025Z"
   },
   {
    "duration": -1452,
    "start_time": "2022-03-16T14:05:27.029Z"
   },
   {
    "duration": -1456,
    "start_time": "2022-03-16T14:05:27.034Z"
   },
   {
    "duration": -1459,
    "start_time": "2022-03-16T14:05:27.038Z"
   },
   {
    "duration": -1462,
    "start_time": "2022-03-16T14:05:27.042Z"
   },
   {
    "duration": -1465,
    "start_time": "2022-03-16T14:05:27.046Z"
   },
   {
    "duration": -1469,
    "start_time": "2022-03-16T14:05:27.050Z"
   },
   {
    "duration": -1482,
    "start_time": "2022-03-16T14:05:27.064Z"
   },
   {
    "duration": -1485,
    "start_time": "2022-03-16T14:05:27.068Z"
   },
   {
    "duration": -1489,
    "start_time": "2022-03-16T14:05:27.073Z"
   },
   {
    "duration": -1492,
    "start_time": "2022-03-16T14:05:27.077Z"
   },
   {
    "duration": -1495,
    "start_time": "2022-03-16T14:05:27.081Z"
   },
   {
    "duration": -1498,
    "start_time": "2022-03-16T14:05:27.085Z"
   },
   {
    "duration": 6,
    "start_time": "2022-03-16T14:06:24.296Z"
   },
   {
    "duration": 3,
    "start_time": "2022-03-16T14:06:24.943Z"
   },
   {
    "duration": 554,
    "start_time": "2022-03-16T14:06:25.728Z"
   },
   {
    "duration": 5,
    "start_time": "2022-03-16T14:06:40.384Z"
   },
   {
    "duration": 3,
    "start_time": "2022-03-16T14:06:42.088Z"
   },
   {
    "duration": 48,
    "start_time": "2022-03-16T14:06:42.631Z"
   },
   {
    "duration": 5,
    "start_time": "2022-03-16T14:07:12.222Z"
   },
   {
    "duration": 4,
    "start_time": "2022-03-16T14:07:12.690Z"
   },
   {
    "duration": 50,
    "start_time": "2022-03-16T14:07:13.092Z"
   },
   {
    "duration": 6,
    "start_time": "2022-03-16T14:07:43.954Z"
   },
   {
    "duration": 4,
    "start_time": "2022-03-16T14:07:44.405Z"
   },
   {
    "duration": 68,
    "start_time": "2022-03-16T14:07:44.657Z"
   },
   {
    "duration": 6,
    "start_time": "2022-03-16T14:07:58.784Z"
   },
   {
    "duration": 3,
    "start_time": "2022-03-16T14:08:00.487Z"
   },
   {
    "duration": 53,
    "start_time": "2022-03-16T14:08:00.705Z"
   },
   {
    "duration": 16,
    "start_time": "2022-03-16T14:19:53.957Z"
   },
   {
    "duration": 1106,
    "start_time": "2022-03-16T14:19:58.489Z"
   },
   {
    "duration": 47,
    "start_time": "2022-03-16T14:19:59.598Z"
   },
   {
    "duration": 5,
    "start_time": "2022-03-16T14:19:59.651Z"
   },
   {
    "duration": 19,
    "start_time": "2022-03-16T14:19:59.658Z"
   },
   {
    "duration": 75,
    "start_time": "2022-03-16T14:19:59.679Z"
   },
   {
    "duration": 90,
    "start_time": "2022-03-16T14:19:59.756Z"
   },
   {
    "duration": 6,
    "start_time": "2022-03-16T14:19:59.849Z"
   },
   {
    "duration": 79,
    "start_time": "2022-03-16T14:19:59.857Z"
   },
   {
    "duration": 23,
    "start_time": "2022-03-16T14:19:59.938Z"
   },
   {
    "duration": 41,
    "start_time": "2022-03-16T14:19:59.964Z"
   },
   {
    "duration": 6,
    "start_time": "2022-03-16T14:20:00.007Z"
   },
   {
    "duration": 221,
    "start_time": "2022-03-16T14:20:00.015Z"
   },
   {
    "duration": 181,
    "start_time": "2022-03-16T14:20:00.238Z"
   },
   {
    "duration": 14,
    "start_time": "2022-03-16T14:20:00.421Z"
   },
   {
    "duration": 408,
    "start_time": "2022-03-16T14:20:00.437Z"
   },
   {
    "duration": 595,
    "start_time": "2022-03-16T14:20:00.902Z"
   },
   {
    "duration": 491,
    "start_time": "2022-03-16T14:20:01.499Z"
   },
   {
    "duration": 381,
    "start_time": "2022-03-16T14:20:01.993Z"
   },
   {
    "duration": 505,
    "start_time": "2022-03-16T14:20:02.376Z"
   },
   {
    "duration": 141,
    "start_time": "2022-03-16T14:20:02.883Z"
   },
   {
    "duration": 355,
    "start_time": "2022-03-16T14:20:03.026Z"
   },
   {
    "duration": 5,
    "start_time": "2022-03-16T14:20:03.385Z"
   },
   {
    "duration": 366,
    "start_time": "2022-03-16T14:20:03.401Z"
   },
   {
    "duration": 5,
    "start_time": "2022-03-16T14:20:03.769Z"
   },
   {
    "duration": 139,
    "start_time": "2022-03-16T14:20:03.775Z"
   },
   {
    "duration": 171,
    "start_time": "2022-03-16T14:20:03.916Z"
   },
   {
    "duration": 144,
    "start_time": "2022-03-16T14:20:04.089Z"
   },
   {
    "duration": 6,
    "start_time": "2022-03-16T14:20:04.235Z"
   },
   {
    "duration": 11,
    "start_time": "2022-03-16T14:20:04.243Z"
   },
   {
    "duration": 18,
    "start_time": "2022-03-16T14:20:04.255Z"
   },
   {
    "duration": 166,
    "start_time": "2022-03-16T14:20:04.275Z"
   },
   {
    "duration": 14,
    "start_time": "2022-03-16T14:20:04.443Z"
   },
   {
    "duration": 12,
    "start_time": "2022-03-16T14:20:04.459Z"
   },
   {
    "duration": 35,
    "start_time": "2022-03-16T14:20:04.473Z"
   },
   {
    "duration": 36,
    "start_time": "2022-03-16T14:20:04.510Z"
   },
   {
    "duration": 16,
    "start_time": "2022-03-16T14:20:04.549Z"
   },
   {
    "duration": 19,
    "start_time": "2022-03-16T14:32:43.186Z"
   },
   {
    "duration": 17,
    "start_time": "2022-03-16T14:33:07.723Z"
   },
   {
    "duration": 22,
    "start_time": "2022-03-16T14:37:39.723Z"
   },
   {
    "duration": 7,
    "start_time": "2022-03-16T14:37:56.975Z"
   },
   {
    "duration": 413,
    "start_time": "2022-03-16T14:38:23.275Z"
   },
   {
    "duration": 278,
    "start_time": "2022-03-16T14:38:47.810Z"
   },
   {
    "duration": 17,
    "start_time": "2022-03-16T14:39:00.657Z"
   },
   {
    "duration": 8,
    "start_time": "2022-03-16T14:39:05.916Z"
   },
   {
    "duration": 8,
    "start_time": "2022-03-16T14:39:15.263Z"
   },
   {
    "duration": 8,
    "start_time": "2022-03-16T14:39:30.142Z"
   },
   {
    "duration": 11,
    "start_time": "2022-03-16T14:42:34.565Z"
   },
   {
    "duration": 277,
    "start_time": "2022-03-16T14:43:44.160Z"
   },
   {
    "duration": 5,
    "start_time": "2022-03-16T14:43:51.318Z"
   },
   {
    "duration": 266,
    "start_time": "2022-03-16T14:45:28.006Z"
   },
   {
    "duration": 324,
    "start_time": "2022-03-16T14:45:45.868Z"
   },
   {
    "duration": 11,
    "start_time": "2022-03-16T14:45:51.097Z"
   },
   {
    "duration": 10,
    "start_time": "2022-03-16T14:47:37.837Z"
   },
   {
    "duration": 274,
    "start_time": "2022-03-16T14:49:35.127Z"
   },
   {
    "duration": 1153,
    "start_time": "2022-03-16T14:49:42.048Z"
   },
   {
    "duration": 42,
    "start_time": "2022-03-16T14:49:43.203Z"
   },
   {
    "duration": 350,
    "start_time": "2022-03-16T14:49:43.248Z"
   },
   {
    "duration": 445,
    "start_time": "2022-03-16T14:49:43.600Z"
   },
   {
    "duration": 458,
    "start_time": "2022-03-16T14:49:44.048Z"
   },
   {
    "duration": 494,
    "start_time": "2022-03-16T14:49:44.508Z"
   },
   {
    "duration": 552,
    "start_time": "2022-03-16T14:49:45.005Z"
   },
   {
    "duration": 475,
    "start_time": "2022-03-16T14:49:45.561Z"
   },
   {
    "duration": 462,
    "start_time": "2022-03-16T14:49:46.038Z"
   },
   {
    "duration": 286,
    "start_time": "2022-03-16T14:49:46.502Z"
   },
   {
    "duration": 418,
    "start_time": "2022-03-16T14:49:46.789Z"
   },
   {
    "duration": 564,
    "start_time": "2022-03-16T14:49:47.209Z"
   },
   {
    "duration": 420,
    "start_time": "2022-03-16T14:49:47.775Z"
   },
   {
    "duration": 470,
    "start_time": "2022-03-16T14:49:48.197Z"
   },
   {
    "duration": 1080,
    "start_time": "2022-03-16T14:49:48.670Z"
   },
   {
    "duration": 1082,
    "start_time": "2022-03-16T14:49:49.753Z"
   },
   {
    "duration": 1000,
    "start_time": "2022-03-16T14:49:50.838Z"
   },
   {
    "duration": 1508,
    "start_time": "2022-03-16T14:49:51.841Z"
   },
   {
    "duration": 1437,
    "start_time": "2022-03-16T14:49:53.351Z"
   },
   {
    "duration": 882,
    "start_time": "2022-03-16T14:49:54.790Z"
   },
   {
    "duration": 389,
    "start_time": "2022-03-16T14:49:55.674Z"
   },
   {
    "duration": 704,
    "start_time": "2022-03-16T14:49:56.065Z"
   },
   {
    "duration": 643,
    "start_time": "2022-03-16T14:49:56.775Z"
   },
   {
    "duration": 592,
    "start_time": "2022-03-16T14:49:57.421Z"
   },
   {
    "duration": 103,
    "start_time": "2022-03-16T14:49:58.016Z"
   },
   {
    "duration": 863,
    "start_time": "2022-03-16T14:49:58.122Z"
   },
   {
    "duration": 68,
    "start_time": "2022-03-16T14:49:58.987Z"
   },
   {
    "duration": 821,
    "start_time": "2022-03-16T14:49:59.057Z"
   },
   {
    "duration": 759,
    "start_time": "2022-03-16T14:49:59.879Z"
   },
   {
    "duration": 779,
    "start_time": "2022-03-16T14:50:00.640Z"
   },
   {
    "duration": 278,
    "start_time": "2022-03-16T14:50:01.421Z"
   },
   {
    "duration": 326,
    "start_time": "2022-03-16T14:50:01.701Z"
   },
   {
    "duration": 482,
    "start_time": "2022-03-16T14:50:02.029Z"
   },
   {
    "duration": 966,
    "start_time": "2022-03-16T14:50:02.513Z"
   },
   {
    "duration": 625,
    "start_time": "2022-03-16T14:50:03.481Z"
   },
   {
    "duration": 506,
    "start_time": "2022-03-16T14:50:04.108Z"
   },
   {
    "duration": 335,
    "start_time": "2022-03-16T14:50:04.616Z"
   },
   {
    "duration": 549,
    "start_time": "2022-03-16T14:50:04.953Z"
   },
   {
    "duration": 368,
    "start_time": "2022-03-16T14:50:05.504Z"
   },
   {
    "duration": 81,
    "start_time": "2022-03-16T14:51:47.737Z"
   },
   {
    "duration": 10,
    "start_time": "2022-03-16T14:51:57.078Z"
   },
   {
    "duration": 130,
    "start_time": "2022-03-16T14:52:03.110Z"
   },
   {
    "duration": 12,
    "start_time": "2022-03-16T14:52:10.486Z"
   },
   {
    "duration": 340,
    "start_time": "2022-03-16T14:53:10.263Z"
   },
   {
    "duration": 282,
    "start_time": "2022-03-16T14:53:20.821Z"
   },
   {
    "duration": 260,
    "start_time": "2022-03-16T14:53:48.136Z"
   },
   {
    "duration": 259,
    "start_time": "2022-03-16T14:53:51.797Z"
   },
   {
    "duration": 83,
    "start_time": "2022-03-16T14:54:12.070Z"
   },
   {
    "duration": 86,
    "start_time": "2022-03-16T14:54:15.520Z"
   },
   {
    "duration": 7183,
    "start_time": "2022-03-16T14:54:21.634Z"
   },
   {
    "duration": 302,
    "start_time": "2022-03-16T14:54:35.617Z"
   },
   {
    "duration": 11,
    "start_time": "2022-03-16T14:58:09.523Z"
   },
   {
    "duration": 11,
    "start_time": "2022-03-16T14:58:53.309Z"
   },
   {
    "duration": 11,
    "start_time": "2022-03-16T14:59:01.727Z"
   },
   {
    "duration": 13,
    "start_time": "2022-03-16T14:59:36.604Z"
   },
   {
    "duration": 7081,
    "start_time": "2022-03-16T14:59:43.923Z"
   },
   {
    "duration": 21,
    "start_time": "2022-03-16T14:59:52.610Z"
   },
   {
    "duration": 12,
    "start_time": "2022-03-16T15:00:24.486Z"
   },
   {
    "duration": 11,
    "start_time": "2022-03-16T15:00:51.741Z"
   },
   {
    "duration": 10,
    "start_time": "2022-03-16T15:01:17.969Z"
   },
   {
    "duration": 84,
    "start_time": "2022-03-16T15:01:44.735Z"
   },
   {
    "duration": 332,
    "start_time": "2022-03-16T15:01:52.729Z"
   },
   {
    "duration": 12,
    "start_time": "2022-03-16T15:02:14.148Z"
   },
   {
    "duration": 133,
    "start_time": "2022-03-16T15:02:21.956Z"
   },
   {
    "duration": 10,
    "start_time": "2022-03-16T15:02:28.546Z"
   },
   {
    "duration": 11,
    "start_time": "2022-03-16T15:04:23.569Z"
   },
   {
    "duration": 1200,
    "start_time": "2022-03-16T15:04:48.156Z"
   },
   {
    "duration": 258,
    "start_time": "2022-03-16T15:04:49.359Z"
   },
   {
    "duration": 1502,
    "start_time": "2022-03-16T15:04:49.620Z"
   },
   {
    "duration": 1249,
    "start_time": "2022-03-16T15:04:51.124Z"
   },
   {
    "duration": 829,
    "start_time": "2022-03-16T15:04:52.376Z"
   },
   {
    "duration": 717,
    "start_time": "2022-03-16T15:04:53.207Z"
   },
   {
    "duration": 346,
    "start_time": "2022-03-16T15:04:53.925Z"
   },
   {
    "duration": 487,
    "start_time": "2022-03-16T15:04:54.275Z"
   },
   {
    "duration": 502,
    "start_time": "2022-03-16T15:04:54.765Z"
   },
   {
    "duration": 688,
    "start_time": "2022-03-16T15:04:55.269Z"
   },
   {
    "duration": 543,
    "start_time": "2022-03-16T15:04:55.959Z"
   },
   {
    "duration": 602,
    "start_time": "2022-03-16T15:04:56.505Z"
   },
   {
    "duration": 270,
    "start_time": "2022-03-16T15:04:57.109Z"
   },
   {
    "duration": 494,
    "start_time": "2022-03-16T15:04:57.381Z"
   },
   {
    "duration": 1034,
    "start_time": "2022-03-16T15:04:57.877Z"
   },
   {
    "duration": 888,
    "start_time": "2022-03-16T15:04:58.913Z"
   },
   {
    "duration": 829,
    "start_time": "2022-03-16T15:04:59.804Z"
   },
   {
    "duration": 1215,
    "start_time": "2022-03-16T15:05:00.636Z"
   },
   {
    "duration": 685,
    "start_time": "2022-03-16T15:05:01.854Z"
   },
   {
    "duration": 474,
    "start_time": "2022-03-16T15:05:02.543Z"
   },
   {
    "duration": 489,
    "start_time": "2022-03-16T15:05:03.020Z"
   },
   {
    "duration": 506,
    "start_time": "2022-03-16T15:05:03.511Z"
   },
   {
    "duration": 394,
    "start_time": "2022-03-16T15:05:04.021Z"
   },
   {
    "duration": 1704,
    "start_time": "2022-03-16T15:05:04.417Z"
   },
   {
    "duration": 360,
    "start_time": "2022-03-16T15:05:06.123Z"
   },
   {
    "duration": 992,
    "start_time": "2022-03-16T15:05:06.485Z"
   },
   {
    "duration": 492,
    "start_time": "2022-03-16T15:05:07.479Z"
   },
   {
    "duration": 672,
    "start_time": "2022-03-16T15:05:07.974Z"
   },
   {
    "duration": 1099,
    "start_time": "2022-03-16T15:05:08.648Z"
   },
   {
    "duration": 564,
    "start_time": "2022-03-16T15:05:09.749Z"
   },
   {
    "duration": 531,
    "start_time": "2022-03-16T15:05:10.315Z"
   },
   {
    "duration": 453,
    "start_time": "2022-03-16T15:05:10.848Z"
   },
   {
    "duration": 536,
    "start_time": "2022-03-16T15:05:11.303Z"
   },
   {
    "duration": 642,
    "start_time": "2022-03-16T15:05:11.841Z"
   },
   {
    "duration": 264,
    "start_time": "2022-03-16T15:05:12.485Z"
   },
   {
    "duration": 416,
    "start_time": "2022-03-16T15:05:12.751Z"
   },
   {
    "duration": 376,
    "start_time": "2022-03-16T15:05:13.169Z"
   },
   {
    "duration": 642,
    "start_time": "2022-03-16T15:05:13.547Z"
   },
   {
    "duration": 663,
    "start_time": "2022-03-16T15:05:14.192Z"
   },
   {
    "duration": 1462,
    "start_time": "2022-03-16T15:14:21.797Z"
   },
   {
    "duration": 89,
    "start_time": "2022-03-16T15:14:23.262Z"
   },
   {
    "duration": 8,
    "start_time": "2022-03-16T15:14:23.354Z"
   },
   {
    "duration": 8,
    "start_time": "2022-03-16T15:14:23.365Z"
   },
   {
    "duration": 121,
    "start_time": "2022-03-16T15:14:23.376Z"
   },
   {
    "duration": 130,
    "start_time": "2022-03-16T15:14:23.499Z"
   },
   {
    "duration": 42,
    "start_time": "2022-03-16T15:14:23.632Z"
   },
   {
    "duration": 102,
    "start_time": "2022-03-16T15:14:23.679Z"
   },
   {
    "duration": 27,
    "start_time": "2022-03-16T15:14:23.785Z"
   },
   {
    "duration": 23,
    "start_time": "2022-03-16T15:14:23.815Z"
   },
   {
    "duration": 59,
    "start_time": "2022-03-16T15:14:23.840Z"
   },
   {
    "duration": 19,
    "start_time": "2022-03-16T15:14:23.903Z"
   },
   {
    "duration": 63,
    "start_time": "2022-03-16T15:14:23.924Z"
   },
   {
    "duration": 9,
    "start_time": "2022-03-16T15:14:23.989Z"
   },
   {
    "duration": 333,
    "start_time": "2022-03-16T15:14:24.001Z"
   },
   {
    "duration": 274,
    "start_time": "2022-03-16T15:14:24.337Z"
   },
   {
    "duration": 21,
    "start_time": "2022-03-16T15:14:24.613Z"
   },
   {
    "duration": 604,
    "start_time": "2022-03-16T15:14:24.638Z"
   },
   {
    "duration": 564,
    "start_time": "2022-03-16T15:14:25.245Z"
   },
   {
    "duration": 994,
    "start_time": "2022-03-16T15:14:25.812Z"
   },
   {
    "duration": 619,
    "start_time": "2022-03-16T15:14:26.809Z"
   },
   {
    "duration": 667,
    "start_time": "2022-03-16T15:14:27.431Z"
   },
   {
    "duration": 305,
    "start_time": "2022-03-16T15:14:28.103Z"
   },
   {
    "duration": 535,
    "start_time": "2022-03-16T15:14:28.412Z"
   },
   {
    "duration": 8,
    "start_time": "2022-03-16T15:14:28.949Z"
   },
   {
    "duration": 495,
    "start_time": "2022-03-16T15:14:28.974Z"
   },
   {
    "duration": 7,
    "start_time": "2022-03-16T15:14:29.473Z"
   },
   {
    "duration": 219,
    "start_time": "2022-03-16T15:14:29.482Z"
   },
   {
    "duration": 272,
    "start_time": "2022-03-16T15:14:29.703Z"
   },
   {
    "duration": 244,
    "start_time": "2022-03-16T15:14:29.978Z"
   },
   {
    "duration": 10,
    "start_time": "2022-03-16T15:14:30.224Z"
   },
   {
    "duration": 18,
    "start_time": "2022-03-16T15:14:30.238Z"
   },
   {
    "duration": 11,
    "start_time": "2022-03-16T15:14:30.274Z"
   },
   {
    "duration": 225,
    "start_time": "2022-03-16T15:14:30.288Z"
   },
   {
    "duration": 16,
    "start_time": "2022-03-16T15:14:30.515Z"
   },
   {
    "duration": 21,
    "start_time": "2022-03-16T15:14:30.534Z"
   },
   {
    "duration": 13,
    "start_time": "2022-03-16T15:14:30.573Z"
   },
   {
    "duration": 20,
    "start_time": "2022-03-16T15:14:30.588Z"
   },
   {
    "duration": 33,
    "start_time": "2022-03-16T15:14:30.610Z"
   },
   {
    "duration": 14,
    "start_time": "2022-03-16T15:15:31.071Z"
   },
   {
    "duration": 19,
    "start_time": "2022-03-16T15:15:32.021Z"
   },
   {
    "duration": 9,
    "start_time": "2022-03-16T15:15:48.207Z"
   },
   {
    "duration": 434,
    "start_time": "2022-03-16T15:34:03.715Z"
   },
   {
    "duration": 572,
    "start_time": "2022-03-16T15:34:18.499Z"
   },
   {
    "duration": 447,
    "start_time": "2022-03-16T15:34:23.665Z"
   },
   {
    "duration": 1417,
    "start_time": "2022-03-16T15:34:28.239Z"
   },
   {
    "duration": 46,
    "start_time": "2022-03-16T15:34:29.658Z"
   },
   {
    "duration": 7,
    "start_time": "2022-03-16T15:34:29.707Z"
   },
   {
    "duration": 10,
    "start_time": "2022-03-16T15:34:29.717Z"
   },
   {
    "duration": 143,
    "start_time": "2022-03-16T15:34:29.730Z"
   },
   {
    "duration": 113,
    "start_time": "2022-03-16T15:34:29.876Z"
   },
   {
    "duration": 6,
    "start_time": "2022-03-16T15:34:29.991Z"
   },
   {
    "duration": 93,
    "start_time": "2022-03-16T15:34:30.001Z"
   },
   {
    "duration": 18,
    "start_time": "2022-03-16T15:34:30.098Z"
   },
   {
    "duration": 65,
    "start_time": "2022-03-16T15:34:30.119Z"
   },
   {
    "duration": 30,
    "start_time": "2022-03-16T15:34:30.187Z"
   },
   {
    "duration": 22,
    "start_time": "2022-03-16T15:34:30.219Z"
   },
   {
    "duration": 32,
    "start_time": "2022-03-16T15:34:30.244Z"
   },
   {
    "duration": 25,
    "start_time": "2022-03-16T15:34:30.278Z"
   },
   {
    "duration": 345,
    "start_time": "2022-03-16T15:34:30.305Z"
   },
   {
    "duration": 276,
    "start_time": "2022-03-16T15:34:30.652Z"
   },
   {
    "duration": 43,
    "start_time": "2022-03-16T15:34:30.930Z"
   },
   {
    "duration": 407,
    "start_time": "2022-03-16T15:34:30.976Z"
   },
   {
    "duration": -1878,
    "start_time": "2022-03-16T15:34:33.266Z"
   },
   {
    "duration": -1882,
    "start_time": "2022-03-16T15:34:33.272Z"
   },
   {
    "duration": -1885,
    "start_time": "2022-03-16T15:34:33.277Z"
   },
   {
    "duration": -1889,
    "start_time": "2022-03-16T15:34:33.283Z"
   },
   {
    "duration": -1891,
    "start_time": "2022-03-16T15:34:33.287Z"
   },
   {
    "duration": -1895,
    "start_time": "2022-03-16T15:34:33.293Z"
   },
   {
    "duration": -1897,
    "start_time": "2022-03-16T15:34:33.297Z"
   },
   {
    "duration": -1900,
    "start_time": "2022-03-16T15:34:33.302Z"
   },
   {
    "duration": -1903,
    "start_time": "2022-03-16T15:34:33.307Z"
   },
   {
    "duration": -1906,
    "start_time": "2022-03-16T15:34:33.312Z"
   },
   {
    "duration": -1908,
    "start_time": "2022-03-16T15:34:33.317Z"
   },
   {
    "duration": -1920,
    "start_time": "2022-03-16T15:34:33.331Z"
   },
   {
    "duration": -1923,
    "start_time": "2022-03-16T15:34:33.337Z"
   },
   {
    "duration": -1927,
    "start_time": "2022-03-16T15:34:33.343Z"
   },
   {
    "duration": -1929,
    "start_time": "2022-03-16T15:34:33.347Z"
   },
   {
    "duration": -1932,
    "start_time": "2022-03-16T15:34:33.352Z"
   },
   {
    "duration": -1938,
    "start_time": "2022-03-16T15:34:33.361Z"
   },
   {
    "duration": -1893,
    "start_time": "2022-03-16T15:34:33.366Z"
   },
   {
    "duration": -1894,
    "start_time": "2022-03-16T15:34:33.370Z"
   },
   {
    "duration": -1898,
    "start_time": "2022-03-16T15:34:33.376Z"
   },
   {
    "duration": -1901,
    "start_time": "2022-03-16T15:34:33.381Z"
   },
   {
    "duration": 557,
    "start_time": "2022-03-16T15:34:44.623Z"
   },
   {
    "duration": 553,
    "start_time": "2022-03-16T15:35:01.148Z"
   },
   {
    "duration": 1393,
    "start_time": "2022-03-16T15:36:36.347Z"
   },
   {
    "duration": 40,
    "start_time": "2022-03-16T15:36:37.742Z"
   },
   {
    "duration": 6,
    "start_time": "2022-03-16T15:36:37.788Z"
   },
   {
    "duration": 6,
    "start_time": "2022-03-16T15:36:37.797Z"
   },
   {
    "duration": 116,
    "start_time": "2022-03-16T15:36:37.806Z"
   },
   {
    "duration": 151,
    "start_time": "2022-03-16T15:36:37.924Z"
   },
   {
    "duration": 7,
    "start_time": "2022-03-16T15:36:38.079Z"
   },
   {
    "duration": 90,
    "start_time": "2022-03-16T15:36:38.090Z"
   },
   {
    "duration": 18,
    "start_time": "2022-03-16T15:36:38.182Z"
   },
   {
    "duration": 18,
    "start_time": "2022-03-16T15:36:38.203Z"
   },
   {
    "duration": 59,
    "start_time": "2022-03-16T15:36:38.224Z"
   },
   {
    "duration": 14,
    "start_time": "2022-03-16T15:36:38.286Z"
   },
   {
    "duration": 12,
    "start_time": "2022-03-16T15:36:38.302Z"
   },
   {
    "duration": 8,
    "start_time": "2022-03-16T15:36:38.316Z"
   },
   {
    "duration": 358,
    "start_time": "2022-03-16T15:36:38.326Z"
   },
   {
    "duration": 291,
    "start_time": "2022-03-16T15:36:38.687Z"
   },
   {
    "duration": 22,
    "start_time": "2022-03-16T15:36:38.980Z"
   },
   {
    "duration": 571,
    "start_time": "2022-03-16T15:36:39.005Z"
   },
   {
    "duration": 546,
    "start_time": "2022-03-16T15:36:39.578Z"
   },
   {
    "duration": 647,
    "start_time": "2022-03-16T15:36:40.126Z"
   },
   {
    "duration": 555,
    "start_time": "2022-03-16T15:36:40.776Z"
   },
   {
    "duration": 666,
    "start_time": "2022-03-16T15:36:41.339Z"
   },
   {
    "duration": 266,
    "start_time": "2022-03-16T15:36:42.009Z"
   },
   {
    "duration": 468,
    "start_time": "2022-03-16T15:36:42.278Z"
   },
   {
    "duration": 8,
    "start_time": "2022-03-16T15:36:42.749Z"
   },
   {
    "duration": 475,
    "start_time": "2022-03-16T15:36:42.775Z"
   },
   {
    "duration": 8,
    "start_time": "2022-03-16T15:36:43.253Z"
   },
   {
    "duration": 211,
    "start_time": "2022-03-16T15:36:43.274Z"
   },
   {
    "duration": 323,
    "start_time": "2022-03-16T15:36:43.488Z"
   },
   {
    "duration": 300,
    "start_time": "2022-03-16T15:36:43.814Z"
   },
   {
    "duration": 9,
    "start_time": "2022-03-16T15:36:44.116Z"
   },
   {
    "duration": 20,
    "start_time": "2022-03-16T15:36:44.128Z"
   },
   {
    "duration": 29,
    "start_time": "2022-03-16T15:36:44.150Z"
   },
   {
    "duration": 243,
    "start_time": "2022-03-16T15:36:44.181Z"
   },
   {
    "duration": 16,
    "start_time": "2022-03-16T15:36:44.426Z"
   },
   {
    "duration": 36,
    "start_time": "2022-03-16T15:36:44.445Z"
   },
   {
    "duration": 15,
    "start_time": "2022-03-16T15:36:44.484Z"
   },
   {
    "duration": 16,
    "start_time": "2022-03-16T15:36:44.501Z"
   },
   {
    "duration": 54,
    "start_time": "2022-03-16T15:36:44.520Z"
   },
   {
    "duration": 8,
    "start_time": "2022-03-16T15:40:15.313Z"
   },
   {
    "duration": 18,
    "start_time": "2022-03-16T15:40:21.554Z"
   },
   {
    "duration": 24,
    "start_time": "2022-03-16T15:40:30.561Z"
   },
   {
    "duration": 16,
    "start_time": "2022-03-16T15:40:47.248Z"
   },
   {
    "duration": 1368,
    "start_time": "2022-03-16T15:40:57.392Z"
   },
   {
    "duration": 48,
    "start_time": "2022-03-16T15:40:58.764Z"
   },
   {
    "duration": 7,
    "start_time": "2022-03-16T15:40:58.815Z"
   },
   {
    "duration": 9,
    "start_time": "2022-03-16T15:40:58.825Z"
   },
   {
    "duration": 107,
    "start_time": "2022-03-16T15:40:58.837Z"
   },
   {
    "duration": 110,
    "start_time": "2022-03-16T15:40:58.975Z"
   },
   {
    "duration": 6,
    "start_time": "2022-03-16T15:40:59.087Z"
   },
   {
    "duration": 93,
    "start_time": "2022-03-16T15:40:59.097Z"
   },
   {
    "duration": 17,
    "start_time": "2022-03-16T15:40:59.195Z"
   },
   {
    "duration": 21,
    "start_time": "2022-03-16T15:40:59.214Z"
   },
   {
    "duration": 25,
    "start_time": "2022-03-16T15:40:59.275Z"
   },
   {
    "duration": 14,
    "start_time": "2022-03-16T15:40:59.302Z"
   },
   {
    "duration": 20,
    "start_time": "2022-03-16T15:40:59.319Z"
   },
   {
    "duration": 9,
    "start_time": "2022-03-16T15:40:59.374Z"
   },
   {
    "duration": 329,
    "start_time": "2022-03-16T15:40:59.385Z"
   },
   {
    "duration": 282,
    "start_time": "2022-03-16T15:40:59.716Z"
   },
   {
    "duration": 20,
    "start_time": "2022-03-16T15:41:00.001Z"
   },
   {
    "duration": 587,
    "start_time": "2022-03-16T15:41:00.023Z"
   },
   {
    "duration": 663,
    "start_time": "2022-03-16T15:41:00.613Z"
   },
   {
    "duration": 630,
    "start_time": "2022-03-16T15:41:01.280Z"
   },
   {
    "duration": 564,
    "start_time": "2022-03-16T15:41:01.913Z"
   },
   {
    "duration": 645,
    "start_time": "2022-03-16T15:41:02.480Z"
   },
   {
    "duration": 224,
    "start_time": "2022-03-16T15:41:03.132Z"
   },
   {
    "duration": 501,
    "start_time": "2022-03-16T15:41:03.360Z"
   },
   {
    "duration": 13,
    "start_time": "2022-03-16T15:41:03.863Z"
   },
   {
    "duration": 497,
    "start_time": "2022-03-16T15:41:03.879Z"
   },
   {
    "duration": 6,
    "start_time": "2022-03-16T15:41:04.378Z"
   },
   {
    "duration": 206,
    "start_time": "2022-03-16T15:41:04.386Z"
   },
   {
    "duration": 278,
    "start_time": "2022-03-16T15:41:04.595Z"
   },
   {
    "duration": 237,
    "start_time": "2022-03-16T15:41:04.875Z"
   },
   {
    "duration": 9,
    "start_time": "2022-03-16T15:41:05.115Z"
   },
   {
    "duration": 14,
    "start_time": "2022-03-16T15:41:05.126Z"
   },
   {
    "duration": 33,
    "start_time": "2022-03-16T15:41:05.143Z"
   },
   {
    "duration": 264,
    "start_time": "2022-03-16T15:41:05.179Z"
   },
   {
    "duration": 35,
    "start_time": "2022-03-16T15:41:05.445Z"
   },
   {
    "duration": 15,
    "start_time": "2022-03-16T15:41:05.483Z"
   },
   {
    "duration": 38,
    "start_time": "2022-03-16T15:41:05.501Z"
   },
   {
    "duration": 24,
    "start_time": "2022-03-16T15:41:05.543Z"
   },
   {
    "duration": 21,
    "start_time": "2022-03-16T15:41:05.569Z"
   },
   {
    "duration": 14,
    "start_time": "2022-03-16T15:42:20.170Z"
   },
   {
    "duration": 1386,
    "start_time": "2022-03-16T15:42:27.161Z"
   },
   {
    "duration": 41,
    "start_time": "2022-03-16T15:42:28.549Z"
   },
   {
    "duration": 19,
    "start_time": "2022-03-16T15:42:28.594Z"
   },
   {
    "duration": 22,
    "start_time": "2022-03-16T15:42:28.615Z"
   },
   {
    "duration": 144,
    "start_time": "2022-03-16T15:42:28.640Z"
   },
   {
    "duration": 117,
    "start_time": "2022-03-16T15:42:28.787Z"
   },
   {
    "duration": 6,
    "start_time": "2022-03-16T15:42:28.906Z"
   },
   {
    "duration": 88,
    "start_time": "2022-03-16T15:42:28.915Z"
   },
   {
    "duration": 18,
    "start_time": "2022-03-16T15:42:29.006Z"
   },
   {
    "duration": 61,
    "start_time": "2022-03-16T15:42:29.027Z"
   },
   {
    "duration": 49,
    "start_time": "2022-03-16T15:42:29.091Z"
   },
   {
    "duration": 27,
    "start_time": "2022-03-16T15:42:29.143Z"
   },
   {
    "duration": 31,
    "start_time": "2022-03-16T15:42:29.173Z"
   },
   {
    "duration": 25,
    "start_time": "2022-03-16T15:42:29.206Z"
   },
   {
    "duration": 332,
    "start_time": "2022-03-16T15:42:29.234Z"
   },
   {
    "duration": 264,
    "start_time": "2022-03-16T15:42:29.568Z"
   },
   {
    "duration": 18,
    "start_time": "2022-03-16T15:42:29.834Z"
   },
   {
    "duration": 653,
    "start_time": "2022-03-16T15:42:29.874Z"
   },
   {
    "duration": 579,
    "start_time": "2022-03-16T15:42:30.529Z"
   },
   {
    "duration": 614,
    "start_time": "2022-03-16T15:42:31.110Z"
   },
   {
    "duration": 533,
    "start_time": "2022-03-16T15:42:31.726Z"
   },
   {
    "duration": 654,
    "start_time": "2022-03-16T15:42:32.261Z"
   },
   {
    "duration": 189,
    "start_time": "2022-03-16T15:42:32.922Z"
   },
   {
    "duration": 488,
    "start_time": "2022-03-16T15:42:33.115Z"
   },
   {
    "duration": 8,
    "start_time": "2022-03-16T15:42:33.605Z"
   },
   {
    "duration": 460,
    "start_time": "2022-03-16T15:42:33.615Z"
   },
   {
    "duration": 6,
    "start_time": "2022-03-16T15:42:34.078Z"
   },
   {
    "duration": 211,
    "start_time": "2022-03-16T15:42:34.086Z"
   },
   {
    "duration": 284,
    "start_time": "2022-03-16T15:42:34.299Z"
   },
   {
    "duration": 203,
    "start_time": "2022-03-16T15:42:34.585Z"
   },
   {
    "duration": 9,
    "start_time": "2022-03-16T15:42:34.791Z"
   },
   {
    "duration": 10,
    "start_time": "2022-03-16T15:42:34.802Z"
   },
   {
    "duration": 10,
    "start_time": "2022-03-16T15:42:34.814Z"
   },
   {
    "duration": 294,
    "start_time": "2022-03-16T15:42:34.826Z"
   },
   {
    "duration": 22,
    "start_time": "2022-03-16T15:42:35.175Z"
   },
   {
    "duration": 73,
    "start_time": "2022-03-16T15:42:35.200Z"
   },
   {
    "duration": 12,
    "start_time": "2022-03-16T15:42:35.276Z"
   },
   {
    "duration": 20,
    "start_time": "2022-03-16T15:42:35.290Z"
   },
   {
    "duration": 70,
    "start_time": "2022-03-16T15:42:35.313Z"
   },
   {
    "duration": 616,
    "start_time": "2022-03-16T15:43:54.151Z"
   },
   {
    "duration": 599,
    "start_time": "2022-03-16T15:45:11.088Z"
   },
   {
    "duration": 638,
    "start_time": "2022-03-16T15:45:38.154Z"
   },
   {
    "duration": 522,
    "start_time": "2022-03-16T15:46:44.060Z"
   },
   {
    "duration": 528,
    "start_time": "2022-03-16T15:46:50.811Z"
   },
   {
    "duration": 613,
    "start_time": "2022-03-16T15:48:29.102Z"
   },
   {
    "duration": 701,
    "start_time": "2022-03-16T15:48:37.708Z"
   },
   {
    "duration": 681,
    "start_time": "2022-03-16T15:49:06.328Z"
   },
   {
    "duration": 638,
    "start_time": "2022-03-16T15:51:21.477Z"
   },
   {
    "duration": 489,
    "start_time": "2022-03-16T15:57:53.378Z"
   },
   {
    "duration": 611,
    "start_time": "2022-03-16T15:59:37.838Z"
   },
   {
    "duration": 580,
    "start_time": "2022-03-16T16:00:30.257Z"
   },
   {
    "duration": 461,
    "start_time": "2022-03-16T16:00:36.592Z"
   },
   {
    "duration": 574,
    "start_time": "2022-03-16T16:01:42.361Z"
   },
   {
    "duration": 499,
    "start_time": "2022-03-16T16:05:01.464Z"
   },
   {
    "duration": 483,
    "start_time": "2022-03-16T16:05:21.664Z"
   },
   {
    "duration": 13,
    "start_time": "2022-03-16T16:05:46.706Z"
   },
   {
    "duration": 467,
    "start_time": "2022-03-16T16:06:24.815Z"
   },
   {
    "duration": 457,
    "start_time": "2022-03-16T16:09:16.087Z"
   },
   {
    "duration": 7,
    "start_time": "2022-03-16T16:10:01.363Z"
   },
   {
    "duration": 1324,
    "start_time": "2022-03-16T16:10:15.121Z"
   },
   {
    "duration": 48,
    "start_time": "2022-03-16T16:10:16.447Z"
   },
   {
    "duration": 7,
    "start_time": "2022-03-16T16:10:16.499Z"
   },
   {
    "duration": 13,
    "start_time": "2022-03-16T16:10:16.509Z"
   },
   {
    "duration": 105,
    "start_time": "2022-03-16T16:10:16.525Z"
   },
   {
    "duration": 145,
    "start_time": "2022-03-16T16:10:16.633Z"
   },
   {
    "duration": 6,
    "start_time": "2022-03-16T16:10:16.780Z"
   },
   {
    "duration": 94,
    "start_time": "2022-03-16T16:10:16.790Z"
   },
   {
    "duration": 21,
    "start_time": "2022-03-16T16:10:16.887Z"
   },
   {
    "duration": 17,
    "start_time": "2022-03-16T16:10:16.910Z"
   },
   {
    "duration": 60,
    "start_time": "2022-03-16T16:10:16.929Z"
   },
   {
    "duration": 15,
    "start_time": "2022-03-16T16:10:16.992Z"
   },
   {
    "duration": 17,
    "start_time": "2022-03-16T16:10:17.010Z"
   },
   {
    "duration": 45,
    "start_time": "2022-03-16T16:10:17.030Z"
   },
   {
    "duration": 320,
    "start_time": "2022-03-16T16:10:17.078Z"
   },
   {
    "duration": 276,
    "start_time": "2022-03-16T16:10:17.400Z"
   },
   {
    "duration": 24,
    "start_time": "2022-03-16T16:10:17.679Z"
   },
   {
    "duration": 558,
    "start_time": "2022-03-16T16:10:17.705Z"
   },
   {
    "duration": 543,
    "start_time": "2022-03-16T16:10:18.273Z"
   },
   {
    "duration": 671,
    "start_time": "2022-03-16T16:10:18.819Z"
   },
   {
    "duration": 551,
    "start_time": "2022-03-16T16:10:19.492Z"
   },
   {
    "duration": 677,
    "start_time": "2022-03-16T16:10:20.046Z"
   },
   {
    "duration": 192,
    "start_time": "2022-03-16T16:10:20.729Z"
   },
   {
    "duration": 479,
    "start_time": "2022-03-16T16:10:20.924Z"
   },
   {
    "duration": 7,
    "start_time": "2022-03-16T16:10:21.405Z"
   },
   {
    "duration": 473,
    "start_time": "2022-03-16T16:10:21.415Z"
   },
   {
    "duration": 7,
    "start_time": "2022-03-16T16:10:21.891Z"
   },
   {
    "duration": 217,
    "start_time": "2022-03-16T16:10:21.901Z"
   },
   {
    "duration": 278,
    "start_time": "2022-03-16T16:10:22.121Z"
   },
   {
    "duration": 219,
    "start_time": "2022-03-16T16:10:22.402Z"
   },
   {
    "duration": 11,
    "start_time": "2022-03-16T16:10:22.624Z"
   },
   {
    "duration": 42,
    "start_time": "2022-03-16T16:10:22.638Z"
   },
   {
    "duration": 23,
    "start_time": "2022-03-16T16:10:22.683Z"
   },
   {
    "duration": 230,
    "start_time": "2022-03-16T16:10:22.709Z"
   },
   {
    "duration": 15,
    "start_time": "2022-03-16T16:10:22.941Z"
   },
   {
    "duration": 26,
    "start_time": "2022-03-16T16:10:22.959Z"
   },
   {
    "duration": 31,
    "start_time": "2022-03-16T16:10:22.987Z"
   },
   {
    "duration": 39,
    "start_time": "2022-03-16T16:10:23.021Z"
   },
   {
    "duration": 30,
    "start_time": "2022-03-16T16:10:23.062Z"
   },
   {
    "duration": 205,
    "start_time": "2022-03-16T16:11:52.836Z"
   },
   {
    "duration": 198,
    "start_time": "2022-03-16T16:12:11.626Z"
   },
   {
    "duration": 1397,
    "start_time": "2022-03-16T16:12:20.956Z"
   },
   {
    "duration": 43,
    "start_time": "2022-03-16T16:12:22.360Z"
   },
   {
    "duration": 6,
    "start_time": "2022-03-16T16:12:22.407Z"
   },
   {
    "duration": 6,
    "start_time": "2022-03-16T16:12:22.416Z"
   },
   {
    "duration": 110,
    "start_time": "2022-03-16T16:12:22.425Z"
   },
   {
    "duration": 142,
    "start_time": "2022-03-16T16:12:22.537Z"
   },
   {
    "duration": 5,
    "start_time": "2022-03-16T16:12:22.682Z"
   },
   {
    "duration": 92,
    "start_time": "2022-03-16T16:12:22.691Z"
   },
   {
    "duration": 18,
    "start_time": "2022-03-16T16:12:22.786Z"
   },
   {
    "duration": 20,
    "start_time": "2022-03-16T16:12:22.806Z"
   },
   {
    "duration": 62,
    "start_time": "2022-03-16T16:12:22.829Z"
   },
   {
    "duration": 17,
    "start_time": "2022-03-16T16:12:22.893Z"
   },
   {
    "duration": 18,
    "start_time": "2022-03-16T16:12:22.913Z"
   },
   {
    "duration": 39,
    "start_time": "2022-03-16T16:12:22.934Z"
   },
   {
    "duration": 327,
    "start_time": "2022-03-16T16:12:22.976Z"
   },
   {
    "duration": 273,
    "start_time": "2022-03-16T16:12:23.305Z"
   },
   {
    "duration": 20,
    "start_time": "2022-03-16T16:12:23.580Z"
   },
   {
    "duration": 618,
    "start_time": "2022-03-16T16:12:23.602Z"
   },
   {
    "duration": 664,
    "start_time": "2022-03-16T16:12:24.223Z"
   },
   {
    "duration": 623,
    "start_time": "2022-03-16T16:12:24.890Z"
   },
   {
    "duration": 541,
    "start_time": "2022-03-16T16:12:25.515Z"
   },
   {
    "duration": 659,
    "start_time": "2022-03-16T16:12:26.058Z"
   },
   {
    "duration": 353,
    "start_time": "2022-03-16T16:12:26.722Z"
   },
   {
    "duration": 672,
    "start_time": "2022-03-16T16:12:27.078Z"
   },
   {
    "duration": 20,
    "start_time": "2022-03-16T16:12:27.753Z"
   },
   {
    "duration": 469,
    "start_time": "2022-03-16T16:12:27.776Z"
   },
   {
    "duration": 6,
    "start_time": "2022-03-16T16:12:28.248Z"
   },
   {
    "duration": 218,
    "start_time": "2022-03-16T16:12:28.257Z"
   },
   {
    "duration": 293,
    "start_time": "2022-03-16T16:12:28.478Z"
   },
   {
    "duration": 233,
    "start_time": "2022-03-16T16:12:28.774Z"
   },
   {
    "duration": 8,
    "start_time": "2022-03-16T16:12:29.010Z"
   },
   {
    "duration": 14,
    "start_time": "2022-03-16T16:12:29.020Z"
   },
   {
    "duration": 9,
    "start_time": "2022-03-16T16:12:29.037Z"
   },
   {
    "duration": 255,
    "start_time": "2022-03-16T16:12:29.074Z"
   },
   {
    "duration": 16,
    "start_time": "2022-03-16T16:12:29.332Z"
   },
   {
    "duration": 15,
    "start_time": "2022-03-16T16:12:29.375Z"
   },
   {
    "duration": 13,
    "start_time": "2022-03-16T16:12:29.393Z"
   },
   {
    "duration": 17,
    "start_time": "2022-03-16T16:12:29.409Z"
   },
   {
    "duration": 57,
    "start_time": "2022-03-16T16:12:29.428Z"
   },
   {
    "duration": 1355,
    "start_time": "2022-03-16T16:14:17.590Z"
   },
   {
    "duration": 48,
    "start_time": "2022-03-16T16:14:18.948Z"
   },
   {
    "duration": 7,
    "start_time": "2022-03-16T16:14:18.999Z"
   },
   {
    "duration": 6,
    "start_time": "2022-03-16T16:14:19.009Z"
   },
   {
    "duration": 103,
    "start_time": "2022-03-16T16:14:19.018Z"
   },
   {
    "duration": 118,
    "start_time": "2022-03-16T16:14:19.123Z"
   },
   {
    "duration": 5,
    "start_time": "2022-03-16T16:14:19.274Z"
   },
   {
    "duration": 89,
    "start_time": "2022-03-16T16:14:19.283Z"
   },
   {
    "duration": 17,
    "start_time": "2022-03-16T16:14:19.375Z"
   },
   {
    "duration": 18,
    "start_time": "2022-03-16T16:14:19.394Z"
   },
   {
    "duration": 61,
    "start_time": "2022-03-16T16:14:19.415Z"
   },
   {
    "duration": 18,
    "start_time": "2022-03-16T16:14:19.478Z"
   },
   {
    "duration": 21,
    "start_time": "2022-03-16T16:14:19.499Z"
   },
   {
    "duration": 8,
    "start_time": "2022-03-16T16:14:19.522Z"
   },
   {
    "duration": 560,
    "start_time": "2022-03-16T16:14:19.532Z"
   },
   {
    "duration": 444,
    "start_time": "2022-03-16T16:14:20.094Z"
   },
   {
    "duration": 42,
    "start_time": "2022-03-16T16:14:20.541Z"
   },
   {
    "duration": 595,
    "start_time": "2022-03-16T16:14:20.586Z"
   },
   {
    "duration": 549,
    "start_time": "2022-03-16T16:14:21.184Z"
   },
   {
    "duration": 687,
    "start_time": "2022-03-16T16:14:21.737Z"
   },
   {
    "duration": 575,
    "start_time": "2022-03-16T16:14:22.428Z"
   },
   {
    "duration": 706,
    "start_time": "2022-03-16T16:14:23.005Z"
   },
   {
    "duration": 263,
    "start_time": "2022-03-16T16:14:23.716Z"
   },
   {
    "duration": 477,
    "start_time": "2022-03-16T16:14:23.982Z"
   },
   {
    "duration": 15,
    "start_time": "2022-03-16T16:14:24.462Z"
   },
   {
    "duration": 500,
    "start_time": "2022-03-16T16:14:24.479Z"
   },
   {
    "duration": 6,
    "start_time": "2022-03-16T16:14:24.981Z"
   },
   {
    "duration": 217,
    "start_time": "2022-03-16T16:14:24.990Z"
   },
   {
    "duration": 289,
    "start_time": "2022-03-16T16:14:25.210Z"
   },
   {
    "duration": 239,
    "start_time": "2022-03-16T16:14:25.502Z"
   },
   {
    "duration": 8,
    "start_time": "2022-03-16T16:14:25.743Z"
   },
   {
    "duration": 24,
    "start_time": "2022-03-16T16:14:25.754Z"
   },
   {
    "duration": 9,
    "start_time": "2022-03-16T16:14:25.781Z"
   },
   {
    "duration": 248,
    "start_time": "2022-03-16T16:14:25.793Z"
   },
   {
    "duration": 30,
    "start_time": "2022-03-16T16:14:26.043Z"
   },
   {
    "duration": 14,
    "start_time": "2022-03-16T16:14:26.076Z"
   },
   {
    "duration": 13,
    "start_time": "2022-03-16T16:14:26.093Z"
   },
   {
    "duration": 13,
    "start_time": "2022-03-16T16:14:26.109Z"
   },
   {
    "duration": 61,
    "start_time": "2022-03-16T16:14:26.125Z"
   },
   {
    "duration": 16,
    "start_time": "2022-03-16T16:15:06.413Z"
   },
   {
    "duration": 1481,
    "start_time": "2022-03-16T16:15:13.311Z"
   },
   {
    "duration": 47,
    "start_time": "2022-03-16T16:15:14.796Z"
   },
   {
    "duration": 7,
    "start_time": "2022-03-16T16:15:14.846Z"
   },
   {
    "duration": 7,
    "start_time": "2022-03-16T16:15:14.856Z"
   },
   {
    "duration": 125,
    "start_time": "2022-03-16T16:15:14.865Z"
   },
   {
    "duration": 126,
    "start_time": "2022-03-16T16:15:14.993Z"
   },
   {
    "duration": 7,
    "start_time": "2022-03-16T16:15:15.122Z"
   },
   {
    "duration": 100,
    "start_time": "2022-03-16T16:15:15.135Z"
   },
   {
    "duration": 20,
    "start_time": "2022-03-16T16:15:15.275Z"
   },
   {
    "duration": 20,
    "start_time": "2022-03-16T16:15:15.298Z"
   },
   {
    "duration": 68,
    "start_time": "2022-03-16T16:15:15.321Z"
   },
   {
    "duration": 18,
    "start_time": "2022-03-16T16:15:15.392Z"
   },
   {
    "duration": 19,
    "start_time": "2022-03-16T16:15:15.413Z"
   },
   {
    "duration": 10,
    "start_time": "2022-03-16T16:15:15.474Z"
   },
   {
    "duration": 331,
    "start_time": "2022-03-16T16:15:15.487Z"
   },
   {
    "duration": 283,
    "start_time": "2022-03-16T16:15:15.820Z"
   },
   {
    "duration": 19,
    "start_time": "2022-03-16T16:15:16.105Z"
   },
   {
    "duration": 600,
    "start_time": "2022-03-16T16:15:16.127Z"
   },
   {
    "duration": 573,
    "start_time": "2022-03-16T16:15:16.729Z"
   },
   {
    "duration": 657,
    "start_time": "2022-03-16T16:15:17.304Z"
   },
   {
    "duration": 810,
    "start_time": "2022-03-16T16:15:17.964Z"
   },
   {
    "duration": 704,
    "start_time": "2022-03-16T16:15:18.777Z"
   },
   {
    "duration": 222,
    "start_time": "2022-03-16T16:15:19.486Z"
   },
   {
    "duration": 662,
    "start_time": "2022-03-16T16:15:19.711Z"
   },
   {
    "duration": 7,
    "start_time": "2022-03-16T16:15:20.376Z"
   },
   {
    "duration": 635,
    "start_time": "2022-03-16T16:15:20.385Z"
   },
   {
    "duration": 8,
    "start_time": "2022-03-16T16:15:21.022Z"
   },
   {
    "duration": 223,
    "start_time": "2022-03-16T16:15:21.033Z"
   },
   {
    "duration": 299,
    "start_time": "2022-03-16T16:15:21.258Z"
   },
   {
    "duration": 238,
    "start_time": "2022-03-16T16:15:21.559Z"
   },
   {
    "duration": 9,
    "start_time": "2022-03-16T16:15:21.799Z"
   },
   {
    "duration": 37,
    "start_time": "2022-03-16T16:15:21.810Z"
   },
   {
    "duration": 30,
    "start_time": "2022-03-16T16:15:21.850Z"
   },
   {
    "duration": 230,
    "start_time": "2022-03-16T16:15:21.883Z"
   },
   {
    "duration": 20,
    "start_time": "2022-03-16T16:15:22.116Z"
   },
   {
    "duration": 37,
    "start_time": "2022-03-16T16:15:22.138Z"
   },
   {
    "duration": 21,
    "start_time": "2022-03-16T16:15:22.178Z"
   },
   {
    "duration": 30,
    "start_time": "2022-03-16T16:15:22.202Z"
   },
   {
    "duration": 34,
    "start_time": "2022-03-16T16:15:22.235Z"
   },
   {
    "duration": 23,
    "start_time": "2022-03-16T16:16:13.568Z"
   },
   {
    "duration": 19,
    "start_time": "2022-03-16T16:16:29.982Z"
   },
   {
    "duration": 1363,
    "start_time": "2022-03-16T16:16:44.190Z"
   },
   {
    "duration": 40,
    "start_time": "2022-03-16T16:16:45.556Z"
   },
   {
    "duration": 7,
    "start_time": "2022-03-16T16:16:45.599Z"
   },
   {
    "duration": 7,
    "start_time": "2022-03-16T16:16:45.609Z"
   },
   {
    "duration": 105,
    "start_time": "2022-03-16T16:16:45.619Z"
   },
   {
    "duration": 116,
    "start_time": "2022-03-16T16:16:45.726Z"
   },
   {
    "duration": 31,
    "start_time": "2022-03-16T16:16:45.845Z"
   },
   {
    "duration": 93,
    "start_time": "2022-03-16T16:16:45.880Z"
   },
   {
    "duration": 16,
    "start_time": "2022-03-16T16:16:45.977Z"
   },
   {
    "duration": 20,
    "start_time": "2022-03-16T16:16:45.995Z"
   },
   {
    "duration": 60,
    "start_time": "2022-03-16T16:16:46.017Z"
   },
   {
    "duration": 15,
    "start_time": "2022-03-16T16:16:46.080Z"
   },
   {
    "duration": 25,
    "start_time": "2022-03-16T16:16:46.097Z"
   },
   {
    "duration": 48,
    "start_time": "2022-03-16T16:16:46.125Z"
   },
   {
    "duration": 313,
    "start_time": "2022-03-16T16:16:46.176Z"
   },
   {
    "duration": 284,
    "start_time": "2022-03-16T16:16:46.491Z"
   },
   {
    "duration": 18,
    "start_time": "2022-03-16T16:16:46.777Z"
   },
   {
    "duration": 569,
    "start_time": "2022-03-16T16:16:46.797Z"
   },
   {
    "duration": 558,
    "start_time": "2022-03-16T16:16:47.373Z"
   },
   {
    "duration": 882,
    "start_time": "2022-03-16T16:16:47.933Z"
   },
   {
    "duration": 571,
    "start_time": "2022-03-16T16:16:48.817Z"
   },
   {
    "duration": 659,
    "start_time": "2022-03-16T16:16:49.391Z"
   },
   {
    "duration": 200,
    "start_time": "2022-03-16T16:16:50.055Z"
   },
   {
    "duration": 506,
    "start_time": "2022-03-16T16:16:50.258Z"
   },
   {
    "duration": 6,
    "start_time": "2022-03-16T16:16:50.774Z"
   },
   {
    "duration": 594,
    "start_time": "2022-03-16T16:16:50.783Z"
   },
   {
    "duration": 7,
    "start_time": "2022-03-16T16:16:51.379Z"
   },
   {
    "duration": 407,
    "start_time": "2022-03-16T16:16:51.388Z"
   },
   {
    "duration": 339,
    "start_time": "2022-03-16T16:16:51.797Z"
   },
   {
    "duration": 219,
    "start_time": "2022-03-16T16:16:52.139Z"
   },
   {
    "duration": 15,
    "start_time": "2022-03-16T16:16:52.360Z"
   },
   {
    "duration": 14,
    "start_time": "2022-03-16T16:16:52.378Z"
   },
   {
    "duration": 9,
    "start_time": "2022-03-16T16:16:52.395Z"
   },
   {
    "duration": 257,
    "start_time": "2022-03-16T16:16:52.407Z"
   },
   {
    "duration": 19,
    "start_time": "2022-03-16T16:16:52.667Z"
   },
   {
    "duration": 35,
    "start_time": "2022-03-16T16:16:52.689Z"
   },
   {
    "duration": 27,
    "start_time": "2022-03-16T16:16:52.727Z"
   },
   {
    "duration": 54,
    "start_time": "2022-03-16T16:16:52.757Z"
   },
   {
    "duration": 36,
    "start_time": "2022-03-16T16:16:52.814Z"
   },
   {
    "duration": 480,
    "start_time": "2022-03-16T16:17:32.061Z"
   },
   {
    "duration": 551,
    "start_time": "2022-03-16T16:18:18.107Z"
   },
   {
    "duration": 58,
    "start_time": "2022-03-16T16:30:00.758Z"
   },
   {
    "duration": 1382,
    "start_time": "2022-03-16T16:30:29.176Z"
   },
   {
    "duration": 66,
    "start_time": "2022-03-16T16:30:30.561Z"
   },
   {
    "duration": 7,
    "start_time": "2022-03-16T16:30:30.629Z"
   },
   {
    "duration": 10,
    "start_time": "2022-03-16T16:30:30.639Z"
   },
   {
    "duration": 125,
    "start_time": "2022-03-16T16:30:30.651Z"
   },
   {
    "duration": 112,
    "start_time": "2022-03-16T16:30:30.779Z"
   },
   {
    "duration": 5,
    "start_time": "2022-03-16T16:30:30.893Z"
   },
   {
    "duration": 94,
    "start_time": "2022-03-16T16:30:30.902Z"
   },
   {
    "duration": 15,
    "start_time": "2022-03-16T16:30:30.999Z"
   },
   {
    "duration": 58,
    "start_time": "2022-03-16T16:30:31.017Z"
   },
   {
    "duration": 21,
    "start_time": "2022-03-16T16:30:31.077Z"
   },
   {
    "duration": 15,
    "start_time": "2022-03-16T16:30:31.100Z"
   },
   {
    "duration": 61,
    "start_time": "2022-03-16T16:30:31.118Z"
   },
   {
    "duration": 9,
    "start_time": "2022-03-16T16:30:31.182Z"
   },
   {
    "duration": 339,
    "start_time": "2022-03-16T16:30:31.193Z"
   },
   {
    "duration": 277,
    "start_time": "2022-03-16T16:30:31.535Z"
   },
   {
    "duration": 20,
    "start_time": "2022-03-16T16:30:31.815Z"
   },
   {
    "duration": 608,
    "start_time": "2022-03-16T16:30:31.837Z"
   },
   {
    "duration": 553,
    "start_time": "2022-03-16T16:30:32.448Z"
   },
   {
    "duration": 703,
    "start_time": "2022-03-16T16:30:33.004Z"
   },
   {
    "duration": 579,
    "start_time": "2022-03-16T16:30:33.710Z"
   },
   {
    "duration": 662,
    "start_time": "2022-03-16T16:30:34.292Z"
   },
   {
    "duration": 250,
    "start_time": "2022-03-16T16:30:34.959Z"
   },
   {
    "duration": 444,
    "start_time": "2022-03-16T16:30:35.212Z"
   },
   {
    "duration": 14,
    "start_time": "2022-03-16T16:30:35.659Z"
   },
   {
    "duration": 503,
    "start_time": "2022-03-16T16:30:35.675Z"
   },
   {
    "duration": 6,
    "start_time": "2022-03-16T16:30:36.181Z"
   },
   {
    "duration": 451,
    "start_time": "2022-03-16T16:30:36.189Z"
   },
   {
    "duration": 238,
    "start_time": "2022-03-16T16:30:36.642Z"
   },
   {
    "duration": 9,
    "start_time": "2022-03-16T16:30:36.882Z"
   },
   {
    "duration": 9,
    "start_time": "2022-03-16T16:30:36.893Z"
   },
   {
    "duration": 12,
    "start_time": "2022-03-16T16:30:36.905Z"
   },
   {
    "duration": 242,
    "start_time": "2022-03-16T16:30:36.920Z"
   },
   {
    "duration": 21,
    "start_time": "2022-03-16T16:30:37.165Z"
   },
   {
    "duration": 22,
    "start_time": "2022-03-16T16:30:37.189Z"
   },
   {
    "duration": 15,
    "start_time": "2022-03-16T16:30:37.214Z"
   },
   {
    "duration": 53,
    "start_time": "2022-03-16T16:30:37.232Z"
   },
   {
    "duration": 21,
    "start_time": "2022-03-16T16:30:37.288Z"
   },
   {
    "duration": 258,
    "start_time": "2022-03-16T16:43:39.670Z"
   },
   {
    "duration": 260,
    "start_time": "2022-03-16T16:44:01.836Z"
   },
   {
    "duration": 219,
    "start_time": "2022-03-16T16:44:13.217Z"
   },
   {
    "duration": 243,
    "start_time": "2022-03-16T16:45:05.672Z"
   },
   {
    "duration": 219,
    "start_time": "2022-03-16T16:46:01.104Z"
   },
   {
    "duration": 223,
    "start_time": "2022-03-16T16:46:38.004Z"
   },
   {
    "duration": 234,
    "start_time": "2022-03-16T16:46:57.417Z"
   },
   {
    "duration": 545,
    "start_time": "2022-03-16T16:47:07.640Z"
   },
   {
    "duration": 389,
    "start_time": "2022-03-16T16:47:15.448Z"
   },
   {
    "duration": 381,
    "start_time": "2022-03-16T16:47:18.584Z"
   },
   {
    "duration": 222,
    "start_time": "2022-03-16T16:47:21.646Z"
   },
   {
    "duration": 66,
    "start_time": "2022-03-16T16:48:31.411Z"
   },
   {
    "duration": 409,
    "start_time": "2022-03-16T16:48:34.026Z"
   },
   {
    "duration": 215,
    "start_time": "2022-03-16T16:48:39.441Z"
   },
   {
    "duration": 413,
    "start_time": "2022-03-16T16:48:54.265Z"
   },
   {
    "duration": 236,
    "start_time": "2022-03-16T16:48:56.960Z"
   },
   {
    "duration": 410,
    "start_time": "2022-03-16T16:49:03.528Z"
   },
   {
    "duration": 447,
    "start_time": "2022-03-16T16:49:07.855Z"
   },
   {
    "duration": 260,
    "start_time": "2022-03-16T16:49:09.975Z"
   },
   {
    "duration": 231,
    "start_time": "2022-03-16T16:49:47.278Z"
   },
   {
    "duration": 55,
    "start_time": "2022-03-16T16:52:19.555Z"
   },
   {
    "duration": 19,
    "start_time": "2022-03-16T16:55:22.814Z"
   },
   {
    "duration": 58,
    "start_time": "2022-03-16T16:58:01.690Z"
   },
   {
    "duration": 194,
    "start_time": "2022-03-16T17:01:08.408Z"
   },
   {
    "duration": 1365,
    "start_time": "2022-03-16T17:01:25.582Z"
   },
   {
    "duration": 45,
    "start_time": "2022-03-16T17:01:26.950Z"
   },
   {
    "duration": 8,
    "start_time": "2022-03-16T17:01:26.998Z"
   },
   {
    "duration": 12,
    "start_time": "2022-03-16T17:01:27.009Z"
   },
   {
    "duration": 111,
    "start_time": "2022-03-16T17:01:27.024Z"
   },
   {
    "duration": 143,
    "start_time": "2022-03-16T17:01:27.137Z"
   },
   {
    "duration": 5,
    "start_time": "2022-03-16T17:01:27.282Z"
   },
   {
    "duration": 90,
    "start_time": "2022-03-16T17:01:27.291Z"
   },
   {
    "duration": 15,
    "start_time": "2022-03-16T17:01:27.384Z"
   },
   {
    "duration": 25,
    "start_time": "2022-03-16T17:01:27.402Z"
   },
   {
    "duration": 58,
    "start_time": "2022-03-16T17:01:27.429Z"
   },
   {
    "duration": 31,
    "start_time": "2022-03-16T17:01:27.489Z"
   },
   {
    "duration": 41,
    "start_time": "2022-03-16T17:01:27.523Z"
   },
   {
    "duration": 11,
    "start_time": "2022-03-16T17:01:27.566Z"
   },
   {
    "duration": 317,
    "start_time": "2022-03-16T17:01:27.579Z"
   },
   {
    "duration": 261,
    "start_time": "2022-03-16T17:01:27.898Z"
   },
   {
    "duration": 29,
    "start_time": "2022-03-16T17:01:28.161Z"
   },
   {
    "duration": 578,
    "start_time": "2022-03-16T17:01:28.192Z"
   },
   {
    "duration": 643,
    "start_time": "2022-03-16T17:01:28.774Z"
   },
   {
    "duration": 698,
    "start_time": "2022-03-16T17:01:29.421Z"
   },
   {
    "duration": 686,
    "start_time": "2022-03-16T17:01:30.122Z"
   },
   {
    "duration": 728,
    "start_time": "2022-03-16T17:01:30.812Z"
   },
   {
    "duration": 225,
    "start_time": "2022-03-16T17:01:31.548Z"
   },
   {
    "duration": 487,
    "start_time": "2022-03-16T17:01:31.777Z"
   },
   {
    "duration": 11,
    "start_time": "2022-03-16T17:01:32.266Z"
   },
   {
    "duration": 487,
    "start_time": "2022-03-16T17:01:32.280Z"
   },
   {
    "duration": 7,
    "start_time": "2022-03-16T17:01:32.773Z"
   },
   {
    "duration": 498,
    "start_time": "2022-03-16T17:01:32.783Z"
   },
   {
    "duration": 250,
    "start_time": "2022-03-16T17:01:33.284Z"
   },
   {
    "duration": 9,
    "start_time": "2022-03-16T17:01:33.536Z"
   },
   {
    "duration": 28,
    "start_time": "2022-03-16T17:01:33.548Z"
   },
   {
    "duration": 237,
    "start_time": "2022-03-16T17:01:33.579Z"
   },
   {
    "duration": 16,
    "start_time": "2022-03-16T17:01:33.819Z"
   },
   {
    "duration": 344,
    "start_time": "2022-03-16T17:01:33.838Z"
   },
   {
    "duration": -2369,
    "start_time": "2022-03-16T17:01:36.554Z"
   },
   {
    "duration": -2373,
    "start_time": "2022-03-16T17:01:36.560Z"
   },
   {
    "duration": -2377,
    "start_time": "2022-03-16T17:01:36.565Z"
   },
   {
    "duration": 15,
    "start_time": "2022-03-16T17:01:51.807Z"
   },
   {
    "duration": 72,
    "start_time": "2022-03-16T17:03:36.580Z"
   },
   {
    "duration": 60,
    "start_time": "2022-03-16T17:03:51.507Z"
   },
   {
    "duration": 221,
    "start_time": "2022-03-16T17:04:37.592Z"
   },
   {
    "duration": 15,
    "start_time": "2022-03-16T17:04:57.533Z"
   },
   {
    "duration": 16,
    "start_time": "2022-03-16T17:05:12.059Z"
   },
   {
    "duration": 17,
    "start_time": "2022-03-16T17:06:50.324Z"
   },
   {
    "duration": 13,
    "start_time": "2022-03-16T17:06:55.642Z"
   },
   {
    "duration": 15,
    "start_time": "2022-03-16T17:06:59.906Z"
   },
   {
    "duration": 15,
    "start_time": "2022-03-16T17:07:07.847Z"
   },
   {
    "duration": 1354,
    "start_time": "2022-03-16T17:08:03.802Z"
   },
   {
    "duration": 45,
    "start_time": "2022-03-16T17:08:05.159Z"
   },
   {
    "duration": 8,
    "start_time": "2022-03-16T17:08:05.207Z"
   },
   {
    "duration": 15,
    "start_time": "2022-03-16T17:08:05.218Z"
   },
   {
    "duration": 146,
    "start_time": "2022-03-16T17:08:05.236Z"
   },
   {
    "duration": 122,
    "start_time": "2022-03-16T17:08:05.386Z"
   },
   {
    "duration": 6,
    "start_time": "2022-03-16T17:08:05.511Z"
   },
   {
    "duration": 106,
    "start_time": "2022-03-16T17:08:05.521Z"
   },
   {
    "duration": 53,
    "start_time": "2022-03-16T17:08:05.630Z"
   },
   {
    "duration": 19,
    "start_time": "2022-03-16T17:08:05.686Z"
   },
   {
    "duration": 38,
    "start_time": "2022-03-16T17:08:05.708Z"
   },
   {
    "duration": 36,
    "start_time": "2022-03-16T17:08:05.749Z"
   },
   {
    "duration": 24,
    "start_time": "2022-03-16T17:08:05.788Z"
   },
   {
    "duration": 10,
    "start_time": "2022-03-16T17:08:05.815Z"
   },
   {
    "duration": 368,
    "start_time": "2022-03-16T17:08:05.828Z"
   },
   {
    "duration": 275,
    "start_time": "2022-03-16T17:08:06.198Z"
   },
   {
    "duration": 22,
    "start_time": "2022-03-16T17:08:06.476Z"
   },
   {
    "duration": 600,
    "start_time": "2022-03-16T17:08:06.501Z"
   },
   {
    "duration": 585,
    "start_time": "2022-03-16T17:08:07.105Z"
   },
   {
    "duration": 637,
    "start_time": "2022-03-16T17:08:07.694Z"
   },
   {
    "duration": 652,
    "start_time": "2022-03-16T17:08:08.333Z"
   },
   {
    "duration": 656,
    "start_time": "2022-03-16T17:08:08.988Z"
   },
   {
    "duration": 247,
    "start_time": "2022-03-16T17:08:09.651Z"
   },
   {
    "duration": 559,
    "start_time": "2022-03-16T17:08:09.902Z"
   },
   {
    "duration": 8,
    "start_time": "2022-03-16T17:08:10.472Z"
   },
   {
    "duration": 490,
    "start_time": "2022-03-16T17:08:10.483Z"
   },
   {
    "duration": 7,
    "start_time": "2022-03-16T17:08:10.976Z"
   },
   {
    "duration": 483,
    "start_time": "2022-03-16T17:08:10.986Z"
   },
   {
    "duration": 228,
    "start_time": "2022-03-16T17:08:11.473Z"
   },
   {
    "duration": 9,
    "start_time": "2022-03-16T17:08:11.704Z"
   },
   {
    "duration": 9,
    "start_time": "2022-03-16T17:08:11.715Z"
   },
   {
    "duration": 290,
    "start_time": "2022-03-16T17:08:11.726Z"
   },
   {
    "duration": 20,
    "start_time": "2022-03-16T17:08:12.018Z"
   },
   {
    "duration": 40,
    "start_time": "2022-03-16T17:08:12.042Z"
   },
   {
    "duration": 17,
    "start_time": "2022-03-16T17:08:12.084Z"
   },
   {
    "duration": 11,
    "start_time": "2022-03-16T17:08:12.103Z"
   },
   {
    "duration": 21,
    "start_time": "2022-03-16T17:08:12.117Z"
   },
   {
    "duration": 20,
    "start_time": "2022-03-16T17:10:40.380Z"
   },
   {
    "duration": 20,
    "start_time": "2022-03-16T17:11:03.598Z"
   },
   {
    "duration": 21,
    "start_time": "2022-03-16T17:21:36.707Z"
   },
   {
    "duration": 1502,
    "start_time": "2022-03-16T18:09:24.772Z"
   },
   {
    "duration": 47,
    "start_time": "2022-03-16T18:09:26.277Z"
   },
   {
    "duration": 174,
    "start_time": "2022-03-16T18:09:26.328Z"
   },
   {
    "duration": 253,
    "start_time": "2022-03-16T18:09:26.506Z"
   },
   {
    "duration": 459,
    "start_time": "2022-03-16T18:09:26.762Z"
   },
   {
    "duration": 319,
    "start_time": "2022-03-16T18:09:27.224Z"
   },
   {
    "duration": 713,
    "start_time": "2022-03-16T18:09:27.574Z"
   },
   {
    "duration": 564,
    "start_time": "2022-03-16T18:09:28.296Z"
   },
   {
    "duration": 318,
    "start_time": "2022-03-16T18:09:28.876Z"
   },
   {
    "duration": 314,
    "start_time": "2022-03-16T18:09:29.198Z"
   },
   {
    "duration": 355,
    "start_time": "2022-03-16T18:09:29.515Z"
   },
   {
    "duration": 407,
    "start_time": "2022-03-16T18:09:29.872Z"
   },
   {
    "duration": 235,
    "start_time": "2022-03-16T18:09:30.282Z"
   },
   {
    "duration": 409,
    "start_time": "2022-03-16T18:09:30.521Z"
   },
   {
    "duration": 1155,
    "start_time": "2022-03-16T18:09:30.933Z"
   },
   {
    "duration": 357,
    "start_time": "2022-03-16T18:09:32.091Z"
   },
   {
    "duration": 299,
    "start_time": "2022-03-16T18:09:32.451Z"
   },
   {
    "duration": 878,
    "start_time": "2022-03-16T18:09:32.753Z"
   },
   {
    "duration": 722,
    "start_time": "2022-03-16T18:09:33.634Z"
   },
   {
    "duration": 846,
    "start_time": "2022-03-16T18:09:34.359Z"
   },
   {
    "duration": 584,
    "start_time": "2022-03-16T18:09:35.208Z"
   },
   {
    "duration": 830,
    "start_time": "2022-03-16T18:09:35.796Z"
   },
   {
    "duration": 214,
    "start_time": "2022-03-16T18:09:36.634Z"
   },
   {
    "duration": 1185,
    "start_time": "2022-03-16T18:09:36.851Z"
   },
   {
    "duration": 497,
    "start_time": "2022-03-16T18:09:38.041Z"
   },
   {
    "duration": 1652,
    "start_time": "2022-03-16T18:09:38.543Z"
   },
   {
    "duration": 11,
    "start_time": "2022-03-16T18:09:40.198Z"
   },
   {
    "duration": 787,
    "start_time": "2022-03-16T18:09:40.212Z"
   },
   {
    "duration": 1092,
    "start_time": "2022-03-16T18:09:41.002Z"
   },
   {
    "duration": 18,
    "start_time": "2022-03-16T18:09:42.098Z"
   },
   {
    "duration": 494,
    "start_time": "2022-03-16T18:09:42.120Z"
   },
   {
    "duration": 819,
    "start_time": "2022-03-16T18:09:42.617Z"
   },
   {
    "duration": 536,
    "start_time": "2022-03-16T18:09:43.440Z"
   },
   {
    "duration": 1067,
    "start_time": "2022-03-16T18:09:43.981Z"
   },
   {
    "duration": 1310,
    "start_time": "2022-03-16T18:09:45.052Z"
   },
   {
    "duration": 583,
    "start_time": "2022-03-16T18:09:46.366Z"
   },
   {
    "duration": 1515,
    "start_time": "2022-03-16T18:48:31.133Z"
   },
   {
    "duration": 61,
    "start_time": "2022-03-16T18:48:32.651Z"
   },
   {
    "duration": 730,
    "start_time": "2022-03-16T18:48:32.715Z"
   },
   {
    "duration": 796,
    "start_time": "2022-03-16T18:48:33.447Z"
   },
   {
    "duration": 554,
    "start_time": "2022-03-16T18:48:34.246Z"
   },
   {
    "duration": 810,
    "start_time": "2022-03-16T18:48:34.803Z"
   },
   {
    "duration": 535,
    "start_time": "2022-03-16T18:48:35.616Z"
   },
   {
    "duration": 678,
    "start_time": "2022-03-16T18:48:36.157Z"
   },
   {
    "duration": 472,
    "start_time": "2022-03-16T18:48:36.838Z"
   },
   {
    "duration": 481,
    "start_time": "2022-03-16T18:48:37.313Z"
   },
   {
    "duration": 581,
    "start_time": "2022-03-16T18:48:37.797Z"
   },
   {
    "duration": 562,
    "start_time": "2022-03-16T18:48:38.381Z"
   },
   {
    "duration": 617,
    "start_time": "2022-03-16T18:48:38.945Z"
   },
   {
    "duration": 673,
    "start_time": "2022-03-16T18:48:39.565Z"
   },
   {
    "duration": 849,
    "start_time": "2022-03-16T18:48:40.240Z"
   },
   {
    "duration": 718,
    "start_time": "2022-03-16T18:48:41.092Z"
   },
   {
    "duration": 79,
    "start_time": "2022-03-16T18:48:41.813Z"
   },
   {
    "duration": 1284,
    "start_time": "2022-03-16T18:48:41.896Z"
   },
   {
    "duration": 558,
    "start_time": "2022-03-16T18:48:43.183Z"
   },
   {
    "duration": 1260,
    "start_time": "2022-03-16T18:48:43.744Z"
   },
   {
    "duration": 781,
    "start_time": "2022-03-16T18:48:45.006Z"
   },
   {
    "duration": 1021,
    "start_time": "2022-03-16T18:48:45.789Z"
   },
   {
    "duration": 387,
    "start_time": "2022-03-16T18:48:46.814Z"
   },
   {
    "duration": 915,
    "start_time": "2022-03-16T18:48:47.204Z"
   },
   {
    "duration": 7,
    "start_time": "2022-03-16T18:48:48.122Z"
   },
   {
    "duration": 1047,
    "start_time": "2022-03-16T18:48:48.131Z"
   },
   {
    "duration": 7,
    "start_time": "2022-03-16T18:48:49.180Z"
   },
   {
    "duration": 843,
    "start_time": "2022-03-16T18:48:49.189Z"
   },
   {
    "duration": 261,
    "start_time": "2022-03-16T18:48:50.035Z"
   },
   {
    "duration": 742,
    "start_time": "2022-03-16T18:48:50.299Z"
   },
   {
    "duration": 1009,
    "start_time": "2022-03-16T18:48:51.043Z"
   },
   {
    "duration": 849,
    "start_time": "2022-03-16T18:48:52.055Z"
   },
   {
    "duration": 574,
    "start_time": "2022-03-16T18:48:52.906Z"
   },
   {
    "duration": 821,
    "start_time": "2022-03-16T18:48:53.484Z"
   },
   {
    "duration": 706,
    "start_time": "2022-03-16T18:48:54.309Z"
   },
   {
    "duration": 495,
    "start_time": "2022-03-16T18:48:55.018Z"
   },
   {
    "duration": 1460,
    "start_time": "2022-03-16T19:05:35.991Z"
   },
   {
    "duration": 61,
    "start_time": "2022-03-16T19:05:37.454Z"
   },
   {
    "duration": 578,
    "start_time": "2022-03-16T19:05:37.519Z"
   },
   {
    "duration": 657,
    "start_time": "2022-03-16T19:05:38.100Z"
   },
   {
    "duration": 734,
    "start_time": "2022-03-16T19:05:38.759Z"
   },
   {
    "duration": 477,
    "start_time": "2022-03-16T19:05:39.496Z"
   },
   {
    "duration": 410,
    "start_time": "2022-03-16T19:05:39.977Z"
   },
   {
    "duration": 980,
    "start_time": "2022-03-16T19:05:40.391Z"
   },
   {
    "duration": 715,
    "start_time": "2022-03-16T19:05:41.374Z"
   },
   {
    "duration": 998,
    "start_time": "2022-03-16T19:05:42.092Z"
   },
   {
    "duration": 1404,
    "start_time": "2022-03-16T19:05:43.093Z"
   },
   {
    "duration": 1281,
    "start_time": "2022-03-16T19:05:44.501Z"
   },
   {
    "duration": 761,
    "start_time": "2022-03-16T19:05:45.784Z"
   },
   {
    "duration": 749,
    "start_time": "2022-03-16T19:05:46.548Z"
   },
   {
    "duration": 1299,
    "start_time": "2022-03-16T19:05:47.300Z"
   },
   {
    "duration": 846,
    "start_time": "2022-03-16T19:05:48.602Z"
   },
   {
    "duration": 1023,
    "start_time": "2022-03-16T19:05:49.450Z"
   },
   {
    "duration": 845,
    "start_time": "2022-03-16T19:05:50.475Z"
   },
   {
    "duration": 563,
    "start_time": "2022-03-16T19:05:51.323Z"
   },
   {
    "duration": 638,
    "start_time": "2022-03-16T19:05:51.888Z"
   },
   {
    "duration": 685,
    "start_time": "2022-03-16T19:05:52.529Z"
   },
   {
    "duration": 919,
    "start_time": "2022-03-16T19:05:53.217Z"
   },
   {
    "duration": 486,
    "start_time": "2022-03-16T19:05:54.142Z"
   },
   {
    "duration": 1127,
    "start_time": "2022-03-16T19:05:54.631Z"
   },
   {
    "duration": 215,
    "start_time": "2022-03-16T19:05:55.762Z"
   },
   {
    "duration": 1471,
    "start_time": "2022-03-16T19:05:55.979Z"
   },
   {
    "duration": 5890,
    "start_time": "2022-03-16T19:05:57.452Z"
   },
   {
    "duration": 978,
    "start_time": "2022-03-16T19:06:03.344Z"
   },
   {
    "duration": 780,
    "start_time": "2022-03-16T19:06:04.324Z"
   },
   {
    "duration": 338,
    "start_time": "2022-03-16T19:06:05.107Z"
   },
   {
    "duration": 336,
    "start_time": "2022-03-16T19:06:05.448Z"
   },
   {
    "duration": 629,
    "start_time": "2022-03-16T19:06:05.787Z"
   },
   {
    "duration": 548,
    "start_time": "2022-03-16T19:06:06.418Z"
   },
   {
    "duration": 903,
    "start_time": "2022-03-16T19:06:06.968Z"
   },
   {
    "duration": 555,
    "start_time": "2022-03-16T19:06:07.874Z"
   },
   {
    "duration": 996,
    "start_time": "2022-03-16T19:06:08.431Z"
   },
   {
    "duration": 1509,
    "start_time": "2022-03-16T19:41:17.541Z"
   },
   {
    "duration": 83,
    "start_time": "2022-03-16T19:41:19.053Z"
   },
   {
    "duration": 885,
    "start_time": "2022-03-16T19:41:19.139Z"
   },
   {
    "duration": 881,
    "start_time": "2022-03-16T19:41:20.027Z"
   },
   {
    "duration": 1100,
    "start_time": "2022-03-16T19:41:20.911Z"
   },
   {
    "duration": 1075,
    "start_time": "2022-03-16T19:41:22.015Z"
   },
   {
    "duration": 630,
    "start_time": "2022-03-16T19:41:23.094Z"
   },
   {
    "duration": 767,
    "start_time": "2022-03-16T19:41:23.731Z"
   },
   {
    "duration": 705,
    "start_time": "2022-03-16T19:41:24.503Z"
   },
   {
    "duration": 807,
    "start_time": "2022-03-16T19:41:25.212Z"
   },
   {
    "duration": 830,
    "start_time": "2022-03-16T19:41:26.022Z"
   },
   {
    "duration": 531,
    "start_time": "2022-03-16T19:41:26.856Z"
   },
   {
    "duration": 698,
    "start_time": "2022-03-16T19:41:27.390Z"
   },
   {
    "duration": 1154,
    "start_time": "2022-03-16T19:41:28.091Z"
   },
   {
    "duration": 1586,
    "start_time": "2022-03-16T19:41:29.247Z"
   },
   {
    "duration": 1286,
    "start_time": "2022-03-16T19:41:30.835Z"
   },
   {
    "duration": 1275,
    "start_time": "2022-03-16T19:41:32.124Z"
   },
   {
    "duration": 1188,
    "start_time": "2022-03-16T19:41:33.401Z"
   },
   {
    "duration": 1139,
    "start_time": "2022-03-16T19:41:34.591Z"
   },
   {
    "duration": 1246,
    "start_time": "2022-03-16T19:41:35.733Z"
   },
   {
    "duration": 567,
    "start_time": "2022-03-16T19:41:36.981Z"
   },
   {
    "duration": 1356,
    "start_time": "2022-03-16T19:41:37.551Z"
   },
   {
    "duration": 264,
    "start_time": "2022-03-16T19:41:38.913Z"
   },
   {
    "duration": 4839,
    "start_time": "2022-03-16T19:41:39.181Z"
   },
   {
    "duration": 52,
    "start_time": "2022-03-16T19:41:44.022Z"
   },
   {
    "duration": 1156,
    "start_time": "2022-03-16T19:41:44.076Z"
   },
   {
    "duration": 386,
    "start_time": "2022-03-16T19:41:45.235Z"
   },
   {
    "duration": 1081,
    "start_time": "2022-03-16T19:41:45.625Z"
   },
   {
    "duration": 1398,
    "start_time": "2022-03-16T19:41:46.709Z"
   },
   {
    "duration": 530,
    "start_time": "2022-03-16T19:41:48.110Z"
   },
   {
    "duration": 978,
    "start_time": "2022-03-16T19:41:48.643Z"
   },
   {
    "duration": 746,
    "start_time": "2022-03-16T19:41:49.623Z"
   },
   {
    "duration": 630,
    "start_time": "2022-03-16T19:41:50.373Z"
   },
   {
    "duration": 920,
    "start_time": "2022-03-16T19:41:51.006Z"
   },
   {
    "duration": 536,
    "start_time": "2022-03-16T19:41:51.930Z"
   },
   {
    "duration": 708,
    "start_time": "2022-03-16T19:41:52.469Z"
   },
   {
    "duration": 1727,
    "start_time": "2022-03-16T19:49:58.254Z"
   },
   {
    "duration": 99,
    "start_time": "2022-03-16T19:49:59.984Z"
   },
   {
    "duration": 1030,
    "start_time": "2022-03-16T19:50:00.087Z"
   },
   {
    "duration": 1184,
    "start_time": "2022-03-16T19:50:01.121Z"
   },
   {
    "duration": 970,
    "start_time": "2022-03-16T19:50:02.308Z"
   },
   {
    "duration": 757,
    "start_time": "2022-03-16T19:50:03.281Z"
   },
   {
    "duration": 1781,
    "start_time": "2022-03-16T19:50:04.040Z"
   },
   {
    "duration": 834,
    "start_time": "2022-03-16T19:50:05.826Z"
   },
   {
    "duration": 450,
    "start_time": "2022-03-16T19:50:06.663Z"
   },
   {
    "duration": 528,
    "start_time": "2022-03-16T19:50:07.116Z"
   },
   {
    "duration": 1520,
    "start_time": "2022-03-16T19:50:07.647Z"
   },
   {
    "duration": 1033,
    "start_time": "2022-03-16T19:50:09.170Z"
   },
   {
    "duration": 1089,
    "start_time": "2022-03-16T19:50:10.206Z"
   },
   {
    "duration": 1043,
    "start_time": "2022-03-16T19:50:11.298Z"
   },
   {
    "duration": 1417,
    "start_time": "2022-03-16T19:50:12.344Z"
   },
   {
    "duration": 682,
    "start_time": "2022-03-16T19:50:13.774Z"
   },
   {
    "duration": 939,
    "start_time": "2022-03-16T19:50:14.459Z"
   },
   {
    "duration": 1211,
    "start_time": "2022-03-16T19:50:15.400Z"
   },
   {
    "duration": 568,
    "start_time": "2022-03-16T19:50:16.614Z"
   },
   {
    "duration": 823,
    "start_time": "2022-03-16T19:50:17.185Z"
   },
   {
    "duration": 732,
    "start_time": "2022-03-16T19:50:18.011Z"
   },
   {
    "duration": 1019,
    "start_time": "2022-03-16T19:50:18.745Z"
   },
   {
    "duration": 230,
    "start_time": "2022-03-16T19:50:19.779Z"
   },
   {
    "duration": 655,
    "start_time": "2022-03-16T19:50:20.013Z"
   },
   {
    "duration": 8,
    "start_time": "2022-03-16T19:50:20.673Z"
   },
   {
    "duration": 810,
    "start_time": "2022-03-16T19:50:20.683Z"
   },
   {
    "duration": 27,
    "start_time": "2022-03-16T19:50:21.496Z"
   },
   {
    "duration": 972,
    "start_time": "2022-03-16T19:50:21.526Z"
   },
   {
    "duration": 543,
    "start_time": "2022-03-16T19:50:22.504Z"
   },
   {
    "duration": 269,
    "start_time": "2022-03-16T19:50:23.053Z"
   },
   {
    "duration": 600,
    "start_time": "2022-03-16T19:50:23.325Z"
   },
   {
    "duration": 777,
    "start_time": "2022-03-16T19:50:23.927Z"
   },
   {
    "duration": 29,
    "start_time": "2022-03-16T19:50:24.707Z"
   },
   {
    "duration": 530,
    "start_time": "2022-03-16T19:50:24.739Z"
   },
   {
    "duration": 539,
    "start_time": "2022-03-16T19:50:25.272Z"
   },
   {
    "duration": 623,
    "start_time": "2022-03-16T19:50:25.814Z"
   },
   {
    "duration": 1433,
    "start_time": "2022-03-16T20:28:16.720Z"
   },
   {
    "duration": 349,
    "start_time": "2022-03-16T20:28:18.155Z"
   },
   {
    "duration": 1911,
    "start_time": "2022-03-16T20:28:18.507Z"
   },
   {
    "duration": 1916,
    "start_time": "2022-03-16T20:28:20.421Z"
   },
   {
    "duration": 1839,
    "start_time": "2022-03-16T20:28:22.340Z"
   },
   {
    "duration": 2032,
    "start_time": "2022-03-16T20:28:24.181Z"
   },
   {
    "duration": 1952,
    "start_time": "2022-03-16T20:28:26.215Z"
   },
   {
    "duration": 1887,
    "start_time": "2022-03-16T20:28:28.171Z"
   },
   {
    "duration": 1558,
    "start_time": "2022-03-16T20:28:30.062Z"
   },
   {
    "duration": 1021,
    "start_time": "2022-03-16T20:28:31.622Z"
   },
   {
    "duration": 1653,
    "start_time": "2022-03-16T20:28:32.646Z"
   },
   {
    "duration": 1402,
    "start_time": "2022-03-16T20:28:34.302Z"
   },
   {
    "duration": 1447,
    "start_time": "2022-03-16T20:28:35.707Z"
   },
   {
    "duration": 1296,
    "start_time": "2022-03-16T20:28:37.157Z"
   },
   {
    "duration": 1756,
    "start_time": "2022-03-16T20:28:38.457Z"
   },
   {
    "duration": 994,
    "start_time": "2022-03-16T20:28:40.216Z"
   },
   {
    "duration": 1710,
    "start_time": "2022-03-16T20:28:41.213Z"
   },
   {
    "duration": 2134,
    "start_time": "2022-03-16T20:28:42.926Z"
   },
   {
    "duration": 1655,
    "start_time": "2022-03-16T20:28:45.063Z"
   },
   {
    "duration": 2837,
    "start_time": "2022-03-16T20:28:46.721Z"
   },
   {
    "duration": 1502,
    "start_time": "2022-03-16T20:28:49.560Z"
   },
   {
    "duration": 1913,
    "start_time": "2022-03-16T20:28:51.064Z"
   },
   {
    "duration": 1678,
    "start_time": "2022-03-16T20:28:52.981Z"
   },
   {
    "duration": 1707,
    "start_time": "2022-03-16T20:28:54.662Z"
   },
   {
    "duration": 634,
    "start_time": "2022-03-16T20:28:56.374Z"
   },
   {
    "duration": 2068,
    "start_time": "2022-03-16T20:28:57.010Z"
   },
   {
    "duration": 395,
    "start_time": "2022-03-16T20:28:59.080Z"
   },
   {
    "duration": 1501,
    "start_time": "2022-03-16T20:28:59.478Z"
   },
   {
    "duration": 1001,
    "start_time": "2022-03-16T20:29:00.982Z"
   },
   {
    "duration": 669,
    "start_time": "2022-03-16T20:29:01.985Z"
   },
   {
    "duration": 1332,
    "start_time": "2022-03-16T20:29:02.657Z"
   },
   {
    "duration": 1613,
    "start_time": "2022-03-16T20:29:03.992Z"
   },
   {
    "duration": 1007,
    "start_time": "2022-03-16T20:29:05.608Z"
   },
   {
    "duration": 868,
    "start_time": "2022-03-16T20:29:06.618Z"
   },
   {
    "duration": 866,
    "start_time": "2022-03-16T20:29:07.488Z"
   },
   {
    "duration": 846,
    "start_time": "2022-03-16T20:29:08.357Z"
   },
   {
    "duration": 1375,
    "start_time": "2022-03-16T20:43:35.105Z"
   },
   {
    "duration": 44,
    "start_time": "2022-03-16T20:43:36.482Z"
   },
   {
    "duration": 13,
    "start_time": "2022-03-16T20:43:36.529Z"
   },
   {
    "duration": 14,
    "start_time": "2022-03-16T20:43:36.545Z"
   },
   {
    "duration": 161,
    "start_time": "2022-03-16T20:43:36.562Z"
   },
   {
    "duration": 186,
    "start_time": "2022-03-16T20:43:36.726Z"
   },
   {
    "duration": 7,
    "start_time": "2022-03-16T20:43:36.915Z"
   },
   {
    "duration": 147,
    "start_time": "2022-03-16T20:43:36.928Z"
   },
   {
    "duration": 21,
    "start_time": "2022-03-16T20:43:37.079Z"
   },
   {
    "duration": 21,
    "start_time": "2022-03-16T20:43:37.102Z"
   },
   {
    "duration": 70,
    "start_time": "2022-03-16T20:43:37.126Z"
   },
   {
    "duration": 21,
    "start_time": "2022-03-16T20:43:37.199Z"
   },
   {
    "duration": 50,
    "start_time": "2022-03-16T20:43:37.223Z"
   },
   {
    "duration": 9,
    "start_time": "2022-03-16T20:43:37.276Z"
   },
   {
    "duration": 355,
    "start_time": "2022-03-16T20:43:37.287Z"
   },
   {
    "duration": 280,
    "start_time": "2022-03-16T20:43:37.644Z"
   },
   {
    "duration": 19,
    "start_time": "2022-03-16T20:43:37.927Z"
   },
   {
    "duration": 757,
    "start_time": "2022-03-16T20:43:37.950Z"
   },
   {
    "duration": 596,
    "start_time": "2022-03-16T20:43:38.710Z"
   },
   {
    "duration": 908,
    "start_time": "2022-03-16T20:43:39.309Z"
   },
   {
    "duration": 53,
    "start_time": "2022-03-16T20:43:40.222Z"
   },
   {
    "duration": -1047,
    "start_time": "2022-03-16T20:43:41.326Z"
   },
   {
    "duration": -1067,
    "start_time": "2022-03-16T20:43:41.349Z"
   },
   {
    "duration": -1073,
    "start_time": "2022-03-16T20:43:41.357Z"
   },
   {
    "duration": -1081,
    "start_time": "2022-03-16T20:43:41.367Z"
   },
   {
    "duration": -1084,
    "start_time": "2022-03-16T20:43:41.373Z"
   },
   {
    "duration": -1089,
    "start_time": "2022-03-16T20:43:41.379Z"
   },
   {
    "duration": -1093,
    "start_time": "2022-03-16T20:43:41.385Z"
   },
   {
    "duration": -1102,
    "start_time": "2022-03-16T20:43:41.395Z"
   },
   {
    "duration": -1106,
    "start_time": "2022-03-16T20:43:41.401Z"
   },
   {
    "duration": -1119,
    "start_time": "2022-03-16T20:43:41.416Z"
   },
   {
    "duration": -1124,
    "start_time": "2022-03-16T20:43:41.422Z"
   },
   {
    "duration": -1130,
    "start_time": "2022-03-16T20:43:41.430Z"
   },
   {
    "duration": -1135,
    "start_time": "2022-03-16T20:43:41.436Z"
   },
   {
    "duration": -1139,
    "start_time": "2022-03-16T20:43:41.442Z"
   },
   {
    "duration": -1143,
    "start_time": "2022-03-16T20:43:41.448Z"
   },
   {
    "duration": -1148,
    "start_time": "2022-03-16T20:43:41.454Z"
   },
   {
    "duration": 1557,
    "start_time": "2022-03-16T20:46:11.893Z"
   },
   {
    "duration": 45,
    "start_time": "2022-03-16T20:46:13.453Z"
   },
   {
    "duration": 10,
    "start_time": "2022-03-16T20:46:13.506Z"
   },
   {
    "duration": 12,
    "start_time": "2022-03-16T20:46:13.519Z"
   },
   {
    "duration": 161,
    "start_time": "2022-03-16T20:46:13.534Z"
   },
   {
    "duration": 117,
    "start_time": "2022-03-16T20:46:13.698Z"
   },
   {
    "duration": 6,
    "start_time": "2022-03-16T20:46:13.819Z"
   },
   {
    "duration": 91,
    "start_time": "2022-03-16T20:46:13.829Z"
   },
   {
    "duration": 18,
    "start_time": "2022-03-16T20:46:13.923Z"
   },
   {
    "duration": 20,
    "start_time": "2022-03-16T20:46:13.973Z"
   },
   {
    "duration": 22,
    "start_time": "2022-03-16T20:46:13.996Z"
   },
   {
    "duration": 53,
    "start_time": "2022-03-16T20:46:14.021Z"
   },
   {
    "duration": 22,
    "start_time": "2022-03-16T20:46:14.077Z"
   },
   {
    "duration": 11,
    "start_time": "2022-03-16T20:46:14.102Z"
   },
   {
    "duration": 347,
    "start_time": "2022-03-16T20:46:14.116Z"
   },
   {
    "duration": 260,
    "start_time": "2022-03-16T20:46:14.466Z"
   },
   {
    "duration": 18,
    "start_time": "2022-03-16T20:46:14.729Z"
   },
   {
    "duration": 557,
    "start_time": "2022-03-16T20:46:14.773Z"
   },
   {
    "duration": 532,
    "start_time": "2022-03-16T20:46:15.332Z"
   },
   {
    "duration": 654,
    "start_time": "2022-03-16T20:46:15.867Z"
   },
   {
    "duration": 763,
    "start_time": "2022-03-16T20:46:16.524Z"
   },
   {
    "duration": 654,
    "start_time": "2022-03-16T20:46:17.295Z"
   },
   {
    "duration": 210,
    "start_time": "2022-03-16T20:46:17.953Z"
   },
   {
    "duration": 507,
    "start_time": "2022-03-16T20:46:18.166Z"
   },
   {
    "duration": 7,
    "start_time": "2022-03-16T20:46:18.675Z"
   },
   {
    "duration": 628,
    "start_time": "2022-03-16T20:46:18.685Z"
   },
   {
    "duration": 8,
    "start_time": "2022-03-16T20:46:19.316Z"
   },
   {
    "duration": 489,
    "start_time": "2022-03-16T20:46:19.326Z"
   },
   {
    "duration": 264,
    "start_time": "2022-03-16T20:46:19.818Z"
   },
   {
    "duration": 13,
    "start_time": "2022-03-16T20:46:20.086Z"
   },
   {
    "duration": 19,
    "start_time": "2022-03-16T20:46:20.102Z"
   },
   {
    "duration": 272,
    "start_time": "2022-03-16T20:46:20.124Z"
   },
   {
    "duration": 21,
    "start_time": "2022-03-16T20:46:20.400Z"
   },
   {
    "duration": 55,
    "start_time": "2022-03-16T20:46:20.424Z"
   },
   {
    "duration": 27,
    "start_time": "2022-03-16T20:46:20.483Z"
   },
   {
    "duration": 59,
    "start_time": "2022-03-16T20:46:20.514Z"
   },
   {
    "duration": 1345,
    "start_time": "2022-03-16T20:47:59.001Z"
   },
   {
    "duration": 45,
    "start_time": "2022-03-16T20:48:00.349Z"
   },
   {
    "duration": 10,
    "start_time": "2022-03-16T20:48:00.398Z"
   },
   {
    "duration": 25,
    "start_time": "2022-03-16T20:48:00.411Z"
   },
   {
    "duration": 137,
    "start_time": "2022-03-16T20:48:00.439Z"
   },
   {
    "duration": 130,
    "start_time": "2022-03-16T20:48:00.579Z"
   },
   {
    "duration": 7,
    "start_time": "2022-03-16T20:48:00.712Z"
   },
   {
    "duration": 100,
    "start_time": "2022-03-16T20:48:00.724Z"
   },
   {
    "duration": 49,
    "start_time": "2022-03-16T20:48:00.827Z"
   },
   {
    "duration": 32,
    "start_time": "2022-03-16T20:48:00.879Z"
   },
   {
    "duration": 46,
    "start_time": "2022-03-16T20:48:00.914Z"
   },
   {
    "duration": 24,
    "start_time": "2022-03-16T20:48:00.963Z"
   },
   {
    "duration": 24,
    "start_time": "2022-03-16T20:48:00.990Z"
   },
   {
    "duration": 11,
    "start_time": "2022-03-16T20:48:01.017Z"
   },
   {
    "duration": 399,
    "start_time": "2022-03-16T20:48:01.031Z"
   },
   {
    "duration": 340,
    "start_time": "2022-03-16T20:48:01.433Z"
   },
   {
    "duration": 26,
    "start_time": "2022-03-16T20:48:01.776Z"
   },
   {
    "duration": 692,
    "start_time": "2022-03-16T20:48:01.805Z"
   },
   {
    "duration": 656,
    "start_time": "2022-03-16T20:48:02.501Z"
   },
   {
    "duration": 784,
    "start_time": "2022-03-16T20:48:03.161Z"
   },
   {
    "duration": 583,
    "start_time": "2022-03-16T20:48:03.948Z"
   },
   {
    "duration": 698,
    "start_time": "2022-03-16T20:48:04.533Z"
   },
   {
    "duration": 263,
    "start_time": "2022-03-16T20:48:05.237Z"
   },
   {
    "duration": 465,
    "start_time": "2022-03-16T20:48:05.504Z"
   },
   {
    "duration": 7,
    "start_time": "2022-03-16T20:48:05.974Z"
   },
   {
    "duration": 524,
    "start_time": "2022-03-16T20:48:05.985Z"
   },
   {
    "duration": 8,
    "start_time": "2022-03-16T20:48:06.512Z"
   },
   {
    "duration": 498,
    "start_time": "2022-03-16T20:48:06.522Z"
   },
   {
    "duration": 260,
    "start_time": "2022-03-16T20:48:07.023Z"
   },
   {
    "duration": 9,
    "start_time": "2022-03-16T20:48:07.285Z"
   },
   {
    "duration": 14,
    "start_time": "2022-03-16T20:48:07.297Z"
   },
   {
    "duration": 367,
    "start_time": "2022-03-16T20:48:07.316Z"
   },
   {
    "duration": 21,
    "start_time": "2022-03-16T20:48:07.685Z"
   },
   {
    "duration": 34,
    "start_time": "2022-03-16T20:48:07.709Z"
   },
   {
    "duration": 55,
    "start_time": "2022-03-16T20:48:07.745Z"
   },
   {
    "duration": 64,
    "start_time": "2022-03-16T20:48:07.803Z"
   },
   {
    "duration": 1073,
    "start_time": "2022-03-17T04:42:30.675Z"
   },
   {
    "duration": 50,
    "start_time": "2022-03-17T04:42:31.750Z"
   },
   {
    "duration": 5,
    "start_time": "2022-03-17T04:42:31.802Z"
   },
   {
    "duration": 8,
    "start_time": "2022-03-17T04:42:31.809Z"
   },
   {
    "duration": 73,
    "start_time": "2022-03-17T04:42:31.819Z"
   },
   {
    "duration": 84,
    "start_time": "2022-03-17T04:42:31.894Z"
   },
   {
    "duration": 3,
    "start_time": "2022-03-17T04:42:31.980Z"
   },
   {
    "duration": 37,
    "start_time": "2022-03-17T04:42:31.986Z"
   },
   {
    "duration": 46,
    "start_time": "2022-03-17T04:42:32.024Z"
   },
   {
    "duration": 13,
    "start_time": "2022-03-17T04:42:32.071Z"
   },
   {
    "duration": 15,
    "start_time": "2022-03-17T04:42:32.086Z"
   },
   {
    "duration": 13,
    "start_time": "2022-03-17T04:42:32.103Z"
   },
   {
    "duration": 48,
    "start_time": "2022-03-17T04:42:32.117Z"
   },
   {
    "duration": 5,
    "start_time": "2022-03-17T04:42:32.166Z"
   },
   {
    "duration": 203,
    "start_time": "2022-03-17T04:42:32.173Z"
   },
   {
    "duration": 158,
    "start_time": "2022-03-17T04:42:32.378Z"
   },
   {
    "duration": 25,
    "start_time": "2022-03-17T04:42:32.538Z"
   },
   {
    "duration": 368,
    "start_time": "2022-03-17T04:42:32.564Z"
   },
   {
    "duration": 364,
    "start_time": "2022-03-17T04:42:32.933Z"
   },
   {
    "duration": 447,
    "start_time": "2022-03-17T04:42:33.299Z"
   },
   {
    "duration": 384,
    "start_time": "2022-03-17T04:42:33.748Z"
   },
   {
    "duration": 502,
    "start_time": "2022-03-17T04:42:34.134Z"
   },
   {
    "duration": 133,
    "start_time": "2022-03-17T04:42:34.640Z"
   },
   {
    "duration": 333,
    "start_time": "2022-03-17T04:42:34.775Z"
   },
   {
    "duration": 5,
    "start_time": "2022-03-17T04:42:35.110Z"
   },
   {
    "duration": 331,
    "start_time": "2022-03-17T04:42:35.116Z"
   },
   {
    "duration": 13,
    "start_time": "2022-03-17T04:42:35.449Z"
   },
   {
    "duration": 275,
    "start_time": "2022-03-17T04:42:35.463Z"
   },
   {
    "duration": 115,
    "start_time": "2022-03-17T04:42:35.739Z"
   },
   {
    "duration": 6,
    "start_time": "2022-03-17T04:42:35.856Z"
   },
   {
    "duration": 6,
    "start_time": "2022-03-17T04:42:35.864Z"
   },
   {
    "duration": 156,
    "start_time": "2022-03-17T04:42:35.871Z"
   },
   {
    "duration": 32,
    "start_time": "2022-03-17T04:42:36.029Z"
   },
   {
    "duration": 10,
    "start_time": "2022-03-17T04:42:36.062Z"
   },
   {
    "duration": 13,
    "start_time": "2022-03-17T04:42:36.074Z"
   },
   {
    "duration": 14,
    "start_time": "2022-03-17T04:42:36.089Z"
   },
   {
    "duration": 10,
    "start_time": "2022-03-17T05:06:55.081Z"
   },
   {
    "duration": 11,
    "start_time": "2022-03-17T05:07:09.297Z"
   },
   {
    "duration": 10,
    "start_time": "2022-03-17T05:07:40.217Z"
   },
   {
    "duration": 9,
    "start_time": "2022-03-17T05:07:47.484Z"
   },
   {
    "duration": 505,
    "start_time": "2022-03-17T05:07:56.404Z"
   },
   {
    "duration": 457,
    "start_time": "2022-03-17T05:08:11.113Z"
   },
   {
    "duration": 481,
    "start_time": "2022-03-17T05:08:53.348Z"
   },
   {
    "duration": 487,
    "start_time": "2022-03-17T05:09:04.923Z"
   },
   {
    "duration": 807,
    "start_time": "2022-03-17T05:12:39.238Z"
   },
   {
    "duration": 385,
    "start_time": "2022-03-17T05:13:11.053Z"
   },
   {
    "duration": 395,
    "start_time": "2022-03-17T05:13:23.077Z"
   },
   {
    "duration": 10,
    "start_time": "2022-03-17T05:13:28.302Z"
   },
   {
    "duration": 93,
    "start_time": "2022-03-17T05:13:41.241Z"
   },
   {
    "duration": 364,
    "start_time": "2022-03-17T05:15:16.900Z"
   },
   {
    "duration": 2825,
    "start_time": "2022-03-17T05:15:36.894Z"
   },
   {
    "duration": 442,
    "start_time": "2022-03-17T05:15:50.702Z"
   },
   {
    "duration": 509,
    "start_time": "2022-03-17T05:16:07.334Z"
   },
   {
    "duration": 444,
    "start_time": "2022-03-17T05:16:13.502Z"
   }
  ],
  "kernelspec": {
   "display_name": "Python 3 (ipykernel)",
   "language": "python",
   "name": "python3"
  },
  "language_info": {
   "codemirror_mode": {
    "name": "ipython",
    "version": 3
   },
   "file_extension": ".py",
   "mimetype": "text/x-python",
   "name": "python",
   "nbconvert_exporter": "python",
   "pygments_lexer": "ipython3",
   "version": "3.9.7"
  },
  "toc": {
   "base_numbering": 1,
   "nav_menu": {},
   "number_sections": true,
   "sideBar": true,
   "skip_h1_title": true,
   "title_cell": "Table of Contents",
   "title_sidebar": "Contents",
   "toc_cell": false,
   "toc_position": {
    "height": "229.6px",
    "left": "698px",
    "top": "455px",
    "width": "291px"
   },
   "toc_section_display": true,
   "toc_window_display": true
  }
 },
 "nbformat": 4,
 "nbformat_minor": 2
}
